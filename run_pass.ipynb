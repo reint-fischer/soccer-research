{
 "cells": [
  {
   "cell_type": "markdown",
   "id": "6b17db32",
   "metadata": {},
   "source": [
    "# Run-pass ratios and efficiency"
   ]
  },
  {
   "cell_type": "code",
   "execution_count": 1,
   "id": "7f9c4488",
   "metadata": {},
   "outputs": [],
   "source": [
    "import nfl_data_py as nfl\n",
    "import pandas as pd\n",
    "import numpy as np\n",
    "import plotly.graph_objects as go\n",
    "import plotly.express as px"
   ]
  },
  {
   "cell_type": "code",
   "execution_count": 200,
   "id": "4070f90e",
   "metadata": {},
   "outputs": [
    {
     "name": "stdout",
     "output_type": "stream",
     "text": [
      "2022 done.\n",
      "Downcasting floats.\n"
     ]
    }
   ],
   "source": [
    "### Play-By-Play data for 2022\n",
    "df_pbp_2022 = nfl.import_pbp_data(years=[2022])\n",
    "\n",
    "### Players\n",
    "df_players = nfl.import_rosters([2021])\n",
    "### Teams\n",
    "df_teams = nfl.import_team_desc()"
   ]
  },
  {
   "cell_type": "code",
   "execution_count": 201,
   "id": "d4444b57-6cc9-4534-be4b-96997ad90c31",
   "metadata": {
    "scrolled": true,
    "tags": []
   },
   "outputs": [
    {
     "data": {
      "text/plain": [
       "{'2022-09-08', '2022-09-11', '2022-09-12', '2022-09-15'}"
      ]
     },
     "execution_count": 201,
     "metadata": {},
     "output_type": "execute_result"
    }
   ],
   "source": [
    "set(df_pbp_2022['game_date'])"
   ]
  },
  {
   "cell_type": "code",
   "execution_count": 160,
   "id": "302fd8b0-dddd-4d70-a9fe-76aa774fa31a",
   "metadata": {},
   "outputs": [
    {
     "data": {
      "text/plain": [
       "{1, 2, 3, 4, 5, 6, 7, 8, 9, 10, 11, 12, 13, 14, 15, 16, 17, 18, 19, 20, 21, 22}"
      ]
     },
     "execution_count": 160,
     "metadata": {},
     "output_type": "execute_result"
    }
   ],
   "source": [
    "set(df_pbp_2022['week'])"
   ]
  },
  {
   "cell_type": "code",
   "execution_count": 2,
   "id": "6fa131d9",
   "metadata": {},
   "outputs": [],
   "source": [
    "cols = list(nfl.see_pbp_cols())"
   ]
  },
  {
   "cell_type": "code",
   "execution_count": 3,
   "id": "c943a0cb",
   "metadata": {
    "scrolled": true
   },
   "outputs": [
    {
     "data": {
      "text/plain": [
       "['play_id',\n",
       " 'game_id',\n",
       " 'old_game_id',\n",
       " 'home_team',\n",
       " 'away_team',\n",
       " 'season_type',\n",
       " 'week',\n",
       " 'posteam',\n",
       " 'posteam_type',\n",
       " 'defteam',\n",
       " 'side_of_field',\n",
       " 'yardline_100',\n",
       " 'game_date',\n",
       " 'quarter_seconds_remaining',\n",
       " 'half_seconds_remaining',\n",
       " 'game_seconds_remaining',\n",
       " 'game_half',\n",
       " 'quarter_end',\n",
       " 'drive',\n",
       " 'sp',\n",
       " 'qtr',\n",
       " 'down',\n",
       " 'goal_to_go',\n",
       " 'time',\n",
       " 'yrdln',\n",
       " 'ydstogo',\n",
       " 'ydsnet',\n",
       " 'desc',\n",
       " 'play_type',\n",
       " 'yards_gained',\n",
       " 'shotgun',\n",
       " 'no_huddle',\n",
       " 'qb_dropback',\n",
       " 'qb_kneel',\n",
       " 'qb_spike',\n",
       " 'qb_scramble',\n",
       " 'pass_length',\n",
       " 'pass_location',\n",
       " 'air_yards',\n",
       " 'yards_after_catch',\n",
       " 'run_location',\n",
       " 'run_gap',\n",
       " 'field_goal_result',\n",
       " 'kick_distance',\n",
       " 'extra_point_result',\n",
       " 'two_point_conv_result',\n",
       " 'home_timeouts_remaining',\n",
       " 'away_timeouts_remaining',\n",
       " 'timeout',\n",
       " 'timeout_team',\n",
       " 'td_team',\n",
       " 'td_player_name',\n",
       " 'td_player_id',\n",
       " 'posteam_timeouts_remaining',\n",
       " 'defteam_timeouts_remaining',\n",
       " 'total_home_score',\n",
       " 'total_away_score',\n",
       " 'posteam_score',\n",
       " 'defteam_score',\n",
       " 'score_differential',\n",
       " 'posteam_score_post',\n",
       " 'defteam_score_post',\n",
       " 'score_differential_post',\n",
       " 'no_score_prob',\n",
       " 'opp_fg_prob',\n",
       " 'opp_safety_prob',\n",
       " 'opp_td_prob',\n",
       " 'fg_prob',\n",
       " 'safety_prob',\n",
       " 'td_prob',\n",
       " 'extra_point_prob',\n",
       " 'two_point_conversion_prob',\n",
       " 'ep',\n",
       " 'epa',\n",
       " 'total_home_epa',\n",
       " 'total_away_epa',\n",
       " 'total_home_rush_epa',\n",
       " 'total_away_rush_epa',\n",
       " 'total_home_pass_epa',\n",
       " 'total_away_pass_epa',\n",
       " 'air_epa',\n",
       " 'yac_epa',\n",
       " 'comp_air_epa',\n",
       " 'comp_yac_epa',\n",
       " 'total_home_comp_air_epa',\n",
       " 'total_away_comp_air_epa',\n",
       " 'total_home_comp_yac_epa',\n",
       " 'total_away_comp_yac_epa',\n",
       " 'total_home_raw_air_epa',\n",
       " 'total_away_raw_air_epa',\n",
       " 'total_home_raw_yac_epa',\n",
       " 'total_away_raw_yac_epa',\n",
       " 'wp',\n",
       " 'def_wp',\n",
       " 'home_wp',\n",
       " 'away_wp',\n",
       " 'wpa',\n",
       " 'vegas_wpa',\n",
       " 'vegas_home_wpa',\n",
       " 'home_wp_post',\n",
       " 'away_wp_post',\n",
       " 'vegas_wp',\n",
       " 'vegas_home_wp',\n",
       " 'total_home_rush_wpa',\n",
       " 'total_away_rush_wpa',\n",
       " 'total_home_pass_wpa',\n",
       " 'total_away_pass_wpa',\n",
       " 'air_wpa',\n",
       " 'yac_wpa',\n",
       " 'comp_air_wpa',\n",
       " 'comp_yac_wpa',\n",
       " 'total_home_comp_air_wpa',\n",
       " 'total_away_comp_air_wpa',\n",
       " 'total_home_comp_yac_wpa',\n",
       " 'total_away_comp_yac_wpa',\n",
       " 'total_home_raw_air_wpa',\n",
       " 'total_away_raw_air_wpa',\n",
       " 'total_home_raw_yac_wpa',\n",
       " 'total_away_raw_yac_wpa',\n",
       " 'punt_blocked',\n",
       " 'first_down_rush',\n",
       " 'first_down_pass',\n",
       " 'first_down_penalty',\n",
       " 'third_down_converted',\n",
       " 'third_down_failed',\n",
       " 'fourth_down_converted',\n",
       " 'fourth_down_failed',\n",
       " 'incomplete_pass',\n",
       " 'touchback',\n",
       " 'interception',\n",
       " 'punt_inside_twenty',\n",
       " 'punt_in_endzone',\n",
       " 'punt_out_of_bounds',\n",
       " 'punt_downed',\n",
       " 'punt_fair_catch',\n",
       " 'kickoff_inside_twenty',\n",
       " 'kickoff_in_endzone',\n",
       " 'kickoff_out_of_bounds',\n",
       " 'kickoff_downed',\n",
       " 'kickoff_fair_catch',\n",
       " 'fumble_forced',\n",
       " 'fumble_not_forced',\n",
       " 'fumble_out_of_bounds',\n",
       " 'solo_tackle',\n",
       " 'safety',\n",
       " 'penalty',\n",
       " 'tackled_for_loss',\n",
       " 'fumble_lost',\n",
       " 'own_kickoff_recovery',\n",
       " 'own_kickoff_recovery_td',\n",
       " 'qb_hit',\n",
       " 'rush_attempt',\n",
       " 'pass_attempt',\n",
       " 'sack',\n",
       " 'touchdown',\n",
       " 'pass_touchdown',\n",
       " 'rush_touchdown',\n",
       " 'return_touchdown',\n",
       " 'extra_point_attempt',\n",
       " 'two_point_attempt',\n",
       " 'field_goal_attempt',\n",
       " 'kickoff_attempt',\n",
       " 'punt_attempt',\n",
       " 'fumble',\n",
       " 'complete_pass',\n",
       " 'assist_tackle',\n",
       " 'lateral_reception',\n",
       " 'lateral_rush',\n",
       " 'lateral_return',\n",
       " 'lateral_recovery',\n",
       " 'passer_player_id',\n",
       " 'passer_player_name',\n",
       " 'passing_yards',\n",
       " 'receiver_player_id',\n",
       " 'receiver_player_name',\n",
       " 'receiving_yards',\n",
       " 'rusher_player_id',\n",
       " 'rusher_player_name',\n",
       " 'rushing_yards',\n",
       " 'lateral_receiver_player_id',\n",
       " 'lateral_receiver_player_name',\n",
       " 'lateral_receiving_yards',\n",
       " 'lateral_rusher_player_id',\n",
       " 'lateral_rusher_player_name',\n",
       " 'lateral_rushing_yards',\n",
       " 'lateral_sack_player_id',\n",
       " 'lateral_sack_player_name',\n",
       " 'interception_player_id',\n",
       " 'interception_player_name',\n",
       " 'lateral_interception_player_id',\n",
       " 'lateral_interception_player_name',\n",
       " 'punt_returner_player_id',\n",
       " 'punt_returner_player_name',\n",
       " 'lateral_punt_returner_player_id',\n",
       " 'lateral_punt_returner_player_name',\n",
       " 'kickoff_returner_player_name',\n",
       " 'kickoff_returner_player_id',\n",
       " 'lateral_kickoff_returner_player_id',\n",
       " 'lateral_kickoff_returner_player_name',\n",
       " 'punter_player_id',\n",
       " 'punter_player_name',\n",
       " 'kicker_player_name',\n",
       " 'kicker_player_id',\n",
       " 'own_kickoff_recovery_player_id',\n",
       " 'own_kickoff_recovery_player_name',\n",
       " 'blocked_player_id',\n",
       " 'blocked_player_name',\n",
       " 'tackle_for_loss_1_player_id',\n",
       " 'tackle_for_loss_1_player_name',\n",
       " 'tackle_for_loss_2_player_id',\n",
       " 'tackle_for_loss_2_player_name',\n",
       " 'qb_hit_1_player_id',\n",
       " 'qb_hit_1_player_name',\n",
       " 'qb_hit_2_player_id',\n",
       " 'qb_hit_2_player_name',\n",
       " 'forced_fumble_player_1_team',\n",
       " 'forced_fumble_player_1_player_id',\n",
       " 'forced_fumble_player_1_player_name',\n",
       " 'forced_fumble_player_2_team',\n",
       " 'forced_fumble_player_2_player_id',\n",
       " 'forced_fumble_player_2_player_name',\n",
       " 'solo_tackle_1_team',\n",
       " 'solo_tackle_2_team',\n",
       " 'solo_tackle_1_player_id',\n",
       " 'solo_tackle_2_player_id',\n",
       " 'solo_tackle_1_player_name',\n",
       " 'solo_tackle_2_player_name',\n",
       " 'assist_tackle_1_player_id',\n",
       " 'assist_tackle_1_player_name',\n",
       " 'assist_tackle_1_team',\n",
       " 'assist_tackle_2_player_id',\n",
       " 'assist_tackle_2_player_name',\n",
       " 'assist_tackle_2_team',\n",
       " 'assist_tackle_3_player_id',\n",
       " 'assist_tackle_3_player_name',\n",
       " 'assist_tackle_3_team',\n",
       " 'assist_tackle_4_player_id',\n",
       " 'assist_tackle_4_player_name',\n",
       " 'assist_tackle_4_team',\n",
       " 'tackle_with_assist',\n",
       " 'tackle_with_assist_1_player_id',\n",
       " 'tackle_with_assist_1_player_name',\n",
       " 'tackle_with_assist_1_team',\n",
       " 'tackle_with_assist_2_player_id',\n",
       " 'tackle_with_assist_2_player_name',\n",
       " 'tackle_with_assist_2_team',\n",
       " 'pass_defense_1_player_id',\n",
       " 'pass_defense_1_player_name',\n",
       " 'pass_defense_2_player_id',\n",
       " 'pass_defense_2_player_name',\n",
       " 'fumbled_1_team',\n",
       " 'fumbled_1_player_id',\n",
       " 'fumbled_1_player_name',\n",
       " 'fumbled_2_player_id',\n",
       " 'fumbled_2_player_name',\n",
       " 'fumbled_2_team',\n",
       " 'fumble_recovery_1_team',\n",
       " 'fumble_recovery_1_yards',\n",
       " 'fumble_recovery_1_player_id',\n",
       " 'fumble_recovery_1_player_name',\n",
       " 'fumble_recovery_2_team',\n",
       " 'fumble_recovery_2_yards',\n",
       " 'fumble_recovery_2_player_id',\n",
       " 'fumble_recovery_2_player_name',\n",
       " 'sack_player_id',\n",
       " 'sack_player_name',\n",
       " 'half_sack_1_player_id',\n",
       " 'half_sack_1_player_name',\n",
       " 'half_sack_2_player_id',\n",
       " 'half_sack_2_player_name',\n",
       " 'return_team',\n",
       " 'return_yards',\n",
       " 'penalty_team',\n",
       " 'penalty_player_id',\n",
       " 'penalty_player_name',\n",
       " 'penalty_yards',\n",
       " 'replay_or_challenge',\n",
       " 'replay_or_challenge_result',\n",
       " 'penalty_type',\n",
       " 'defensive_two_point_attempt',\n",
       " 'defensive_two_point_conv',\n",
       " 'defensive_extra_point_attempt',\n",
       " 'defensive_extra_point_conv',\n",
       " 'safety_player_name',\n",
       " 'safety_player_id',\n",
       " 'season',\n",
       " 'cp',\n",
       " 'cpoe',\n",
       " 'series',\n",
       " 'series_success',\n",
       " 'series_result',\n",
       " 'order_sequence',\n",
       " 'start_time',\n",
       " 'time_of_day',\n",
       " 'stadium',\n",
       " 'weather',\n",
       " 'nfl_api_id',\n",
       " 'play_clock',\n",
       " 'play_deleted',\n",
       " 'play_type_nfl',\n",
       " 'special_teams_play',\n",
       " 'st_play_type',\n",
       " 'end_clock_time',\n",
       " 'end_yard_line',\n",
       " 'fixed_drive',\n",
       " 'fixed_drive_result',\n",
       " 'drive_real_start_time',\n",
       " 'drive_play_count',\n",
       " 'drive_time_of_possession',\n",
       " 'drive_first_downs',\n",
       " 'drive_inside20',\n",
       " 'drive_ended_with_score',\n",
       " 'drive_quarter_start',\n",
       " 'drive_quarter_end',\n",
       " 'drive_yards_penalized',\n",
       " 'drive_start_transition',\n",
       " 'drive_end_transition',\n",
       " 'drive_game_clock_start',\n",
       " 'drive_game_clock_end',\n",
       " 'drive_start_yard_line',\n",
       " 'drive_end_yard_line',\n",
       " 'drive_play_id_started',\n",
       " 'drive_play_id_ended',\n",
       " 'away_score',\n",
       " 'home_score',\n",
       " 'location',\n",
       " 'result',\n",
       " 'total',\n",
       " 'spread_line',\n",
       " 'total_line',\n",
       " 'div_game',\n",
       " 'roof',\n",
       " 'surface',\n",
       " 'temp',\n",
       " 'wind',\n",
       " 'home_coach',\n",
       " 'away_coach',\n",
       " 'stadium_id',\n",
       " 'game_stadium',\n",
       " 'aborted_play',\n",
       " 'success',\n",
       " 'passer',\n",
       " 'passer_jersey_number',\n",
       " 'rusher',\n",
       " 'rusher_jersey_number',\n",
       " 'receiver',\n",
       " 'receiver_jersey_number',\n",
       " 'pass',\n",
       " 'rush',\n",
       " 'first_down',\n",
       " 'special',\n",
       " 'play',\n",
       " 'passer_id',\n",
       " 'rusher_id',\n",
       " 'receiver_id',\n",
       " 'name',\n",
       " 'jersey_number',\n",
       " 'id',\n",
       " 'fantasy_player_name',\n",
       " 'fantasy_player_id',\n",
       " 'fantasy',\n",
       " 'fantasy_id',\n",
       " 'out_of_bounds',\n",
       " 'home_opening_kickoff',\n",
       " 'qb_epa',\n",
       " 'xyac_epa',\n",
       " 'xyac_mean_yardage',\n",
       " 'xyac_median_yardage',\n",
       " 'xyac_success',\n",
       " 'xyac_fd',\n",
       " 'xpass',\n",
       " 'pass_oe']"
      ]
     },
     "execution_count": 3,
     "metadata": {},
     "output_type": "execute_result"
    }
   ],
   "source": [
    "cols"
   ]
  },
  {
   "cell_type": "markdown",
   "id": "9ed31a94-a7dc-4e46-994d-31113ea0998c",
   "metadata": {},
   "source": [
    "## NFL average"
   ]
  },
  {
   "cell_type": "code",
   "execution_count": 202,
   "id": "8ba09220",
   "metadata": {},
   "outputs": [],
   "source": [
    "no_runs = np.count_nonzero(df_pbp_2022['play_type']=='run')\n",
    "no_passes = np.count_nonzero(df_pbp_2022['play_type']=='pass')\n",
    "ratio = no_runs/no_passes"
   ]
  },
  {
   "cell_type": "code",
   "execution_count": 203,
   "id": "bb6f631f",
   "metadata": {},
   "outputs": [],
   "source": [
    "labels = ['Run','Pass']\n",
    "values = [no_runs, no_passes]"
   ]
  },
  {
   "cell_type": "code",
   "execution_count": 204,
   "id": "c8d6050a-1cd0-441a-8d66-460b12190f51",
   "metadata": {},
   "outputs": [
    {
     "data": {
      "text/plain": [
       "{None,\n",
       " 'extra_point',\n",
       " 'field_goal',\n",
       " 'kickoff',\n",
       " 'no_play',\n",
       " 'pass',\n",
       " 'punt',\n",
       " 'qb_kneel',\n",
       " 'qb_spike',\n",
       " 'run'}"
      ]
     },
     "execution_count": 204,
     "metadata": {},
     "output_type": "execute_result"
    }
   ],
   "source": [
    "set(df_pbp_2022['play_type'])"
   ]
  },
  {
   "cell_type": "code",
   "execution_count": 205,
   "id": "d31f7dbb",
   "metadata": {},
   "outputs": [
    {
     "data": {
      "application/vnd.plotly.v1+json": {
       "config": {
        "plotlyServerURL": "https://plot.ly"
       },
       "data": [
        {
         "labels": [
          "Run",
          "Pass"
         ],
         "title": {
          "text": "NFL average 2022"
         },
         "type": "pie",
         "values": [
          851,
          1306
         ]
        }
       ],
       "layout": {
        "autosize": true,
        "template": {
         "data": {
          "bar": [
           {
            "error_x": {
             "color": "#2a3f5f"
            },
            "error_y": {
             "color": "#2a3f5f"
            },
            "marker": {
             "line": {
              "color": "#E5ECF6",
              "width": 0.5
             },
             "pattern": {
              "fillmode": "overlay",
              "size": 10,
              "solidity": 0.2
             }
            },
            "type": "bar"
           }
          ],
          "barpolar": [
           {
            "marker": {
             "line": {
              "color": "#E5ECF6",
              "width": 0.5
             },
             "pattern": {
              "fillmode": "overlay",
              "size": 10,
              "solidity": 0.2
             }
            },
            "type": "barpolar"
           }
          ],
          "carpet": [
           {
            "aaxis": {
             "endlinecolor": "#2a3f5f",
             "gridcolor": "white",
             "linecolor": "white",
             "minorgridcolor": "white",
             "startlinecolor": "#2a3f5f"
            },
            "baxis": {
             "endlinecolor": "#2a3f5f",
             "gridcolor": "white",
             "linecolor": "white",
             "minorgridcolor": "white",
             "startlinecolor": "#2a3f5f"
            },
            "type": "carpet"
           }
          ],
          "choropleth": [
           {
            "colorbar": {
             "outlinewidth": 0,
             "ticks": ""
            },
            "type": "choropleth"
           }
          ],
          "contour": [
           {
            "colorbar": {
             "outlinewidth": 0,
             "ticks": ""
            },
            "colorscale": [
             [
              0,
              "#0d0887"
             ],
             [
              0.1111111111111111,
              "#46039f"
             ],
             [
              0.2222222222222222,
              "#7201a8"
             ],
             [
              0.3333333333333333,
              "#9c179e"
             ],
             [
              0.4444444444444444,
              "#bd3786"
             ],
             [
              0.5555555555555556,
              "#d8576b"
             ],
             [
              0.6666666666666666,
              "#ed7953"
             ],
             [
              0.7777777777777778,
              "#fb9f3a"
             ],
             [
              0.8888888888888888,
              "#fdca26"
             ],
             [
              1,
              "#f0f921"
             ]
            ],
            "type": "contour"
           }
          ],
          "contourcarpet": [
           {
            "colorbar": {
             "outlinewidth": 0,
             "ticks": ""
            },
            "type": "contourcarpet"
           }
          ],
          "heatmap": [
           {
            "colorbar": {
             "outlinewidth": 0,
             "ticks": ""
            },
            "colorscale": [
             [
              0,
              "#0d0887"
             ],
             [
              0.1111111111111111,
              "#46039f"
             ],
             [
              0.2222222222222222,
              "#7201a8"
             ],
             [
              0.3333333333333333,
              "#9c179e"
             ],
             [
              0.4444444444444444,
              "#bd3786"
             ],
             [
              0.5555555555555556,
              "#d8576b"
             ],
             [
              0.6666666666666666,
              "#ed7953"
             ],
             [
              0.7777777777777778,
              "#fb9f3a"
             ],
             [
              0.8888888888888888,
              "#fdca26"
             ],
             [
              1,
              "#f0f921"
             ]
            ],
            "type": "heatmap"
           }
          ],
          "heatmapgl": [
           {
            "colorbar": {
             "outlinewidth": 0,
             "ticks": ""
            },
            "colorscale": [
             [
              0,
              "#0d0887"
             ],
             [
              0.1111111111111111,
              "#46039f"
             ],
             [
              0.2222222222222222,
              "#7201a8"
             ],
             [
              0.3333333333333333,
              "#9c179e"
             ],
             [
              0.4444444444444444,
              "#bd3786"
             ],
             [
              0.5555555555555556,
              "#d8576b"
             ],
             [
              0.6666666666666666,
              "#ed7953"
             ],
             [
              0.7777777777777778,
              "#fb9f3a"
             ],
             [
              0.8888888888888888,
              "#fdca26"
             ],
             [
              1,
              "#f0f921"
             ]
            ],
            "type": "heatmapgl"
           }
          ],
          "histogram": [
           {
            "marker": {
             "pattern": {
              "fillmode": "overlay",
              "size": 10,
              "solidity": 0.2
             }
            },
            "type": "histogram"
           }
          ],
          "histogram2d": [
           {
            "colorbar": {
             "outlinewidth": 0,
             "ticks": ""
            },
            "colorscale": [
             [
              0,
              "#0d0887"
             ],
             [
              0.1111111111111111,
              "#46039f"
             ],
             [
              0.2222222222222222,
              "#7201a8"
             ],
             [
              0.3333333333333333,
              "#9c179e"
             ],
             [
              0.4444444444444444,
              "#bd3786"
             ],
             [
              0.5555555555555556,
              "#d8576b"
             ],
             [
              0.6666666666666666,
              "#ed7953"
             ],
             [
              0.7777777777777778,
              "#fb9f3a"
             ],
             [
              0.8888888888888888,
              "#fdca26"
             ],
             [
              1,
              "#f0f921"
             ]
            ],
            "type": "histogram2d"
           }
          ],
          "histogram2dcontour": [
           {
            "colorbar": {
             "outlinewidth": 0,
             "ticks": ""
            },
            "colorscale": [
             [
              0,
              "#0d0887"
             ],
             [
              0.1111111111111111,
              "#46039f"
             ],
             [
              0.2222222222222222,
              "#7201a8"
             ],
             [
              0.3333333333333333,
              "#9c179e"
             ],
             [
              0.4444444444444444,
              "#bd3786"
             ],
             [
              0.5555555555555556,
              "#d8576b"
             ],
             [
              0.6666666666666666,
              "#ed7953"
             ],
             [
              0.7777777777777778,
              "#fb9f3a"
             ],
             [
              0.8888888888888888,
              "#fdca26"
             ],
             [
              1,
              "#f0f921"
             ]
            ],
            "type": "histogram2dcontour"
           }
          ],
          "mesh3d": [
           {
            "colorbar": {
             "outlinewidth": 0,
             "ticks": ""
            },
            "type": "mesh3d"
           }
          ],
          "parcoords": [
           {
            "line": {
             "colorbar": {
              "outlinewidth": 0,
              "ticks": ""
             }
            },
            "type": "parcoords"
           }
          ],
          "pie": [
           {
            "automargin": true,
            "type": "pie"
           }
          ],
          "scatter": [
           {
            "fillpattern": {
             "fillmode": "overlay",
             "size": 10,
             "solidity": 0.2
            },
            "type": "scatter"
           }
          ],
          "scatter3d": [
           {
            "line": {
             "colorbar": {
              "outlinewidth": 0,
              "ticks": ""
             }
            },
            "marker": {
             "colorbar": {
              "outlinewidth": 0,
              "ticks": ""
             }
            },
            "type": "scatter3d"
           }
          ],
          "scattercarpet": [
           {
            "marker": {
             "colorbar": {
              "outlinewidth": 0,
              "ticks": ""
             }
            },
            "type": "scattercarpet"
           }
          ],
          "scattergeo": [
           {
            "marker": {
             "colorbar": {
              "outlinewidth": 0,
              "ticks": ""
             }
            },
            "type": "scattergeo"
           }
          ],
          "scattergl": [
           {
            "marker": {
             "colorbar": {
              "outlinewidth": 0,
              "ticks": ""
             }
            },
            "type": "scattergl"
           }
          ],
          "scattermapbox": [
           {
            "marker": {
             "colorbar": {
              "outlinewidth": 0,
              "ticks": ""
             }
            },
            "type": "scattermapbox"
           }
          ],
          "scatterpolar": [
           {
            "marker": {
             "colorbar": {
              "outlinewidth": 0,
              "ticks": ""
             }
            },
            "type": "scatterpolar"
           }
          ],
          "scatterpolargl": [
           {
            "marker": {
             "colorbar": {
              "outlinewidth": 0,
              "ticks": ""
             }
            },
            "type": "scatterpolargl"
           }
          ],
          "scatterternary": [
           {
            "marker": {
             "colorbar": {
              "outlinewidth": 0,
              "ticks": ""
             }
            },
            "type": "scatterternary"
           }
          ],
          "surface": [
           {
            "colorbar": {
             "outlinewidth": 0,
             "ticks": ""
            },
            "colorscale": [
             [
              0,
              "#0d0887"
             ],
             [
              0.1111111111111111,
              "#46039f"
             ],
             [
              0.2222222222222222,
              "#7201a8"
             ],
             [
              0.3333333333333333,
              "#9c179e"
             ],
             [
              0.4444444444444444,
              "#bd3786"
             ],
             [
              0.5555555555555556,
              "#d8576b"
             ],
             [
              0.6666666666666666,
              "#ed7953"
             ],
             [
              0.7777777777777778,
              "#fb9f3a"
             ],
             [
              0.8888888888888888,
              "#fdca26"
             ],
             [
              1,
              "#f0f921"
             ]
            ],
            "type": "surface"
           }
          ],
          "table": [
           {
            "cells": {
             "fill": {
              "color": "#EBF0F8"
             },
             "line": {
              "color": "white"
             }
            },
            "header": {
             "fill": {
              "color": "#C8D4E3"
             },
             "line": {
              "color": "white"
             }
            },
            "type": "table"
           }
          ]
         },
         "layout": {
          "annotationdefaults": {
           "arrowcolor": "#2a3f5f",
           "arrowhead": 0,
           "arrowwidth": 1
          },
          "autotypenumbers": "strict",
          "coloraxis": {
           "colorbar": {
            "outlinewidth": 0,
            "ticks": ""
           }
          },
          "colorscale": {
           "diverging": [
            [
             0,
             "#8e0152"
            ],
            [
             0.1,
             "#c51b7d"
            ],
            [
             0.2,
             "#de77ae"
            ],
            [
             0.3,
             "#f1b6da"
            ],
            [
             0.4,
             "#fde0ef"
            ],
            [
             0.5,
             "#f7f7f7"
            ],
            [
             0.6,
             "#e6f5d0"
            ],
            [
             0.7,
             "#b8e186"
            ],
            [
             0.8,
             "#7fbc41"
            ],
            [
             0.9,
             "#4d9221"
            ],
            [
             1,
             "#276419"
            ]
           ],
           "sequential": [
            [
             0,
             "#0d0887"
            ],
            [
             0.1111111111111111,
             "#46039f"
            ],
            [
             0.2222222222222222,
             "#7201a8"
            ],
            [
             0.3333333333333333,
             "#9c179e"
            ],
            [
             0.4444444444444444,
             "#bd3786"
            ],
            [
             0.5555555555555556,
             "#d8576b"
            ],
            [
             0.6666666666666666,
             "#ed7953"
            ],
            [
             0.7777777777777778,
             "#fb9f3a"
            ],
            [
             0.8888888888888888,
             "#fdca26"
            ],
            [
             1,
             "#f0f921"
            ]
           ],
           "sequentialminus": [
            [
             0,
             "#0d0887"
            ],
            [
             0.1111111111111111,
             "#46039f"
            ],
            [
             0.2222222222222222,
             "#7201a8"
            ],
            [
             0.3333333333333333,
             "#9c179e"
            ],
            [
             0.4444444444444444,
             "#bd3786"
            ],
            [
             0.5555555555555556,
             "#d8576b"
            ],
            [
             0.6666666666666666,
             "#ed7953"
            ],
            [
             0.7777777777777778,
             "#fb9f3a"
            ],
            [
             0.8888888888888888,
             "#fdca26"
            ],
            [
             1,
             "#f0f921"
            ]
           ]
          },
          "colorway": [
           "#636efa",
           "#EF553B",
           "#00cc96",
           "#ab63fa",
           "#FFA15A",
           "#19d3f3",
           "#FF6692",
           "#B6E880",
           "#FF97FF",
           "#FECB52"
          ],
          "font": {
           "color": "#2a3f5f"
          },
          "geo": {
           "bgcolor": "white",
           "lakecolor": "white",
           "landcolor": "#E5ECF6",
           "showlakes": true,
           "showland": true,
           "subunitcolor": "white"
          },
          "hoverlabel": {
           "align": "left"
          },
          "hovermode": "closest",
          "mapbox": {
           "style": "light"
          },
          "paper_bgcolor": "white",
          "plot_bgcolor": "#E5ECF6",
          "polar": {
           "angularaxis": {
            "gridcolor": "white",
            "linecolor": "white",
            "ticks": ""
           },
           "bgcolor": "#E5ECF6",
           "radialaxis": {
            "gridcolor": "white",
            "linecolor": "white",
            "ticks": ""
           }
          },
          "scene": {
           "xaxis": {
            "backgroundcolor": "#E5ECF6",
            "gridcolor": "white",
            "gridwidth": 2,
            "linecolor": "white",
            "showbackground": true,
            "ticks": "",
            "zerolinecolor": "white"
           },
           "yaxis": {
            "backgroundcolor": "#E5ECF6",
            "gridcolor": "white",
            "gridwidth": 2,
            "linecolor": "white",
            "showbackground": true,
            "ticks": "",
            "zerolinecolor": "white"
           },
           "zaxis": {
            "backgroundcolor": "#E5ECF6",
            "gridcolor": "white",
            "gridwidth": 2,
            "linecolor": "white",
            "showbackground": true,
            "ticks": "",
            "zerolinecolor": "white"
           }
          },
          "shapedefaults": {
           "line": {
            "color": "#2a3f5f"
           }
          },
          "ternary": {
           "aaxis": {
            "gridcolor": "white",
            "linecolor": "white",
            "ticks": ""
           },
           "baxis": {
            "gridcolor": "white",
            "linecolor": "white",
            "ticks": ""
           },
           "bgcolor": "#E5ECF6",
           "caxis": {
            "gridcolor": "white",
            "linecolor": "white",
            "ticks": ""
           }
          },
          "title": {
           "x": 0.05
          },
          "xaxis": {
           "automargin": true,
           "gridcolor": "white",
           "linecolor": "white",
           "ticks": "",
           "title": {
            "standoff": 15
           },
           "zerolinecolor": "white",
           "zerolinewidth": 2
          },
          "yaxis": {
           "automargin": true,
           "gridcolor": "white",
           "linecolor": "white",
           "ticks": "",
           "title": {
            "standoff": 15
           },
           "zerolinecolor": "white",
           "zerolinewidth": 2
          }
         }
        }
       }
      },
      "image/png": "[encoded data removed]",
      "text/html": [
       "<div>                            <div id=\"139168c2-9510-4d08-bc7a-36e71010ef49\" class=\"plotly-graph-div\" style=\"height:525px; width:100%;\"></div>            <script type=\"text/javascript\">                require([\"plotly\"], function(Plotly) {                    window.PLOTLYENV=window.PLOTLYENV || {};                                    if (document.getElementById(\"139168c2-9510-4d08-bc7a-36e71010ef49\")) {                    Plotly.newPlot(                        \"139168c2-9510-4d08-bc7a-36e71010ef49\",                        [{\"labels\":[\"Run\",\"Pass\"],\"title\":{\"text\":\"NFL average 2022\"},\"values\":[851,1306],\"type\":\"pie\"}],                        {\"template\":{\"data\":{\"histogram2dcontour\":[{\"type\":\"histogram2dcontour\",\"colorbar\":{\"outlinewidth\":0,\"ticks\":\"\"},\"colorscale\":[[0.0,\"#0d0887\"],[0.1111111111111111,\"#46039f\"],[0.2222222222222222,\"#7201a8\"],[0.3333333333333333,\"#9c179e\"],[0.4444444444444444,\"#bd3786\"],[0.5555555555555556,\"#d8576b\"],[0.6666666666666666,\"#ed7953\"],[0.7777777777777778,\"#fb9f3a\"],[0.8888888888888888,\"#fdca26\"],[1.0,\"#f0f921\"]]}],\"choropleth\":[{\"type\":\"choropleth\",\"colorbar\":{\"outlinewidth\":0,\"ticks\":\"\"}}],\"histogram2d\":[{\"type\":\"histogram2d\",\"colorbar\":{\"outlinewidth\":0,\"ticks\":\"\"},\"colorscale\":[[0.0,\"#0d0887\"],[0.1111111111111111,\"#46039f\"],[0.2222222222222222,\"#7201a8\"],[0.3333333333333333,\"#9c179e\"],[0.4444444444444444,\"#bd3786\"],[0.5555555555555556,\"#d8576b\"],[0.6666666666666666,\"#ed7953\"],[0.7777777777777778,\"#fb9f3a\"],[0.8888888888888888,\"#fdca26\"],[1.0,\"#f0f921\"]]}],\"heatmap\":[{\"type\":\"heatmap\",\"colorbar\":{\"outlinewidth\":0,\"ticks\":\"\"},\"colorscale\":[[0.0,\"#0d0887\"],[0.1111111111111111,\"#46039f\"],[0.2222222222222222,\"#7201a8\"],[0.3333333333333333,\"#9c179e\"],[0.4444444444444444,\"#bd3786\"],[0.5555555555555556,\"#d8576b\"],[0.6666666666666666,\"#ed7953\"],[0.7777777777777778,\"#fb9f3a\"],[0.8888888888888888,\"#fdca26\"],[1.0,\"#f0f921\"]]}],\"heatmapgl\":[{\"type\":\"heatmapgl\",\"colorbar\":{\"outlinewidth\":0,\"ticks\":\"\"},\"colorscale\":[[0.0,\"#0d0887\"],[0.1111111111111111,\"#46039f\"],[0.2222222222222222,\"#7201a8\"],[0.3333333333333333,\"#9c179e\"],[0.4444444444444444,\"#bd3786\"],[0.5555555555555556,\"#d8576b\"],[0.6666666666666666,\"#ed7953\"],[0.7777777777777778,\"#fb9f3a\"],[0.8888888888888888,\"#fdca26\"],[1.0,\"#f0f921\"]]}],\"contourcarpet\":[{\"type\":\"contourcarpet\",\"colorbar\":{\"outlinewidth\":0,\"ticks\":\"\"}}],\"contour\":[{\"type\":\"contour\",\"colorbar\":{\"outlinewidth\":0,\"ticks\":\"\"},\"colorscale\":[[0.0,\"#0d0887\"],[0.1111111111111111,\"#46039f\"],[0.2222222222222222,\"#7201a8\"],[0.3333333333333333,\"#9c179e\"],[0.4444444444444444,\"#bd3786\"],[0.5555555555555556,\"#d8576b\"],[0.6666666666666666,\"#ed7953\"],[0.7777777777777778,\"#fb9f3a\"],[0.8888888888888888,\"#fdca26\"],[1.0,\"#f0f921\"]]}],\"surface\":[{\"type\":\"surface\",\"colorbar\":{\"outlinewidth\":0,\"ticks\":\"\"},\"colorscale\":[[0.0,\"#0d0887\"],[0.1111111111111111,\"#46039f\"],[0.2222222222222222,\"#7201a8\"],[0.3333333333333333,\"#9c179e\"],[0.4444444444444444,\"#bd3786\"],[0.5555555555555556,\"#d8576b\"],[0.6666666666666666,\"#ed7953\"],[0.7777777777777778,\"#fb9f3a\"],[0.8888888888888888,\"#fdca26\"],[1.0,\"#f0f921\"]]}],\"mesh3d\":[{\"type\":\"mesh3d\",\"colorbar\":{\"outlinewidth\":0,\"ticks\":\"\"}}],\"scatter\":[{\"fillpattern\":{\"fillmode\":\"overlay\",\"size\":10,\"solidity\":0.2},\"type\":\"scatter\"}],\"parcoords\":[{\"type\":\"parcoords\",\"line\":{\"colorbar\":{\"outlinewidth\":0,\"ticks\":\"\"}}}],\"scatterpolargl\":[{\"type\":\"scatterpolargl\",\"marker\":{\"colorbar\":{\"outlinewidth\":0,\"ticks\":\"\"}}}],\"bar\":[{\"error_x\":{\"color\":\"#2a3f5f\"},\"error_y\":{\"color\":\"#2a3f5f\"},\"marker\":{\"line\":{\"color\":\"#E5ECF6\",\"width\":0.5},\"pattern\":{\"fillmode\":\"overlay\",\"size\":10,\"solidity\":0.2}},\"type\":\"bar\"}],\"scattergeo\":[{\"type\":\"scattergeo\",\"marker\":{\"colorbar\":{\"outlinewidth\":0,\"ticks\":\"\"}}}],\"scatterpolar\":[{\"type\":\"scatterpolar\",\"marker\":{\"colorbar\":{\"outlinewidth\":0,\"ticks\":\"\"}}}],\"histogram\":[{\"marker\":{\"pattern\":{\"fillmode\":\"overlay\",\"size\":10,\"solidity\":0.2}},\"type\":\"histogram\"}],\"scattergl\":[{\"type\":\"scattergl\",\"marker\":{\"colorbar\":{\"outlinewidth\":0,\"ticks\":\"\"}}}],\"scatter3d\":[{\"type\":\"scatter3d\",\"line\":{\"colorbar\":{\"outlinewidth\":0,\"ticks\":\"\"}},\"marker\":{\"colorbar\":{\"outlinewidth\":0,\"ticks\":\"\"}}}],\"scattermapbox\":[{\"type\":\"scattermapbox\",\"marker\":{\"colorbar\":{\"outlinewidth\":0,\"ticks\":\"\"}}}],\"scatterternary\":[{\"type\":\"scatterternary\",\"marker\":{\"colorbar\":{\"outlinewidth\":0,\"ticks\":\"\"}}}],\"scattercarpet\":[{\"type\":\"scattercarpet\",\"marker\":{\"colorbar\":{\"outlinewidth\":0,\"ticks\":\"\"}}}],\"carpet\":[{\"aaxis\":{\"endlinecolor\":\"#2a3f5f\",\"gridcolor\":\"white\",\"linecolor\":\"white\",\"minorgridcolor\":\"white\",\"startlinecolor\":\"#2a3f5f\"},\"baxis\":{\"endlinecolor\":\"#2a3f5f\",\"gridcolor\":\"white\",\"linecolor\":\"white\",\"minorgridcolor\":\"white\",\"startlinecolor\":\"#2a3f5f\"},\"type\":\"carpet\"}],\"table\":[{\"cells\":{\"fill\":{\"color\":\"#EBF0F8\"},\"line\":{\"color\":\"white\"}},\"header\":{\"fill\":{\"color\":\"#C8D4E3\"},\"line\":{\"color\":\"white\"}},\"type\":\"table\"}],\"barpolar\":[{\"marker\":{\"line\":{\"color\":\"#E5ECF6\",\"width\":0.5},\"pattern\":{\"fillmode\":\"overlay\",\"size\":10,\"solidity\":0.2}},\"type\":\"barpolar\"}],\"pie\":[{\"automargin\":true,\"type\":\"pie\"}]},\"layout\":{\"autotypenumbers\":\"strict\",\"colorway\":[\"#636efa\",\"#EF553B\",\"#00cc96\",\"#ab63fa\",\"#FFA15A\",\"#19d3f3\",\"#FF6692\",\"#B6E880\",\"#FF97FF\",\"#FECB52\"],\"font\":{\"color\":\"#2a3f5f\"},\"hovermode\":\"closest\",\"hoverlabel\":{\"align\":\"left\"},\"paper_bgcolor\":\"white\",\"plot_bgcolor\":\"#E5ECF6\",\"polar\":{\"bgcolor\":\"#E5ECF6\",\"angularaxis\":{\"gridcolor\":\"white\",\"linecolor\":\"white\",\"ticks\":\"\"},\"radialaxis\":{\"gridcolor\":\"white\",\"linecolor\":\"white\",\"ticks\":\"\"}},\"ternary\":{\"bgcolor\":\"#E5ECF6\",\"aaxis\":{\"gridcolor\":\"white\",\"linecolor\":\"white\",\"ticks\":\"\"},\"baxis\":{\"gridcolor\":\"white\",\"linecolor\":\"white\",\"ticks\":\"\"},\"caxis\":{\"gridcolor\":\"white\",\"linecolor\":\"white\",\"ticks\":\"\"}},\"coloraxis\":{\"colorbar\":{\"outlinewidth\":0,\"ticks\":\"\"}},\"colorscale\":{\"sequential\":[[0.0,\"#0d0887\"],[0.1111111111111111,\"#46039f\"],[0.2222222222222222,\"#7201a8\"],[0.3333333333333333,\"#9c179e\"],[0.4444444444444444,\"#bd3786\"],[0.5555555555555556,\"#d8576b\"],[0.6666666666666666,\"#ed7953\"],[0.7777777777777778,\"#fb9f3a\"],[0.8888888888888888,\"#fdca26\"],[1.0,\"#f0f921\"]],\"sequentialminus\":[[0.0,\"#0d0887\"],[0.1111111111111111,\"#46039f\"],[0.2222222222222222,\"#7201a8\"],[0.3333333333333333,\"#9c179e\"],[0.4444444444444444,\"#bd3786\"],[0.5555555555555556,\"#d8576b\"],[0.6666666666666666,\"#ed7953\"],[0.7777777777777778,\"#fb9f3a\"],[0.8888888888888888,\"#fdca26\"],[1.0,\"#f0f921\"]],\"diverging\":[[0,\"#8e0152\"],[0.1,\"#c51b7d\"],[0.2,\"#de77ae\"],[0.3,\"#f1b6da\"],[0.4,\"#fde0ef\"],[0.5,\"#f7f7f7\"],[0.6,\"#e6f5d0\"],[0.7,\"#b8e186\"],[0.8,\"#7fbc41\"],[0.9,\"#4d9221\"],[1,\"#276419\"]]},\"xaxis\":{\"gridcolor\":\"white\",\"linecolor\":\"white\",\"ticks\":\"\",\"title\":{\"standoff\":15},\"zerolinecolor\":\"white\",\"automargin\":true,\"zerolinewidth\":2},\"yaxis\":{\"gridcolor\":\"white\",\"linecolor\":\"white\",\"ticks\":\"\",\"title\":{\"standoff\":15},\"zerolinecolor\":\"white\",\"automargin\":true,\"zerolinewidth\":2},\"scene\":{\"xaxis\":{\"backgroundcolor\":\"#E5ECF6\",\"gridcolor\":\"white\",\"linecolor\":\"white\",\"showbackground\":true,\"ticks\":\"\",\"zerolinecolor\":\"white\",\"gridwidth\":2},\"yaxis\":{\"backgroundcolor\":\"#E5ECF6\",\"gridcolor\":\"white\",\"linecolor\":\"white\",\"showbackground\":true,\"ticks\":\"\",\"zerolinecolor\":\"white\",\"gridwidth\":2},\"zaxis\":{\"backgroundcolor\":\"#E5ECF6\",\"gridcolor\":\"white\",\"linecolor\":\"white\",\"showbackground\":true,\"ticks\":\"\",\"zerolinecolor\":\"white\",\"gridwidth\":2}},\"shapedefaults\":{\"line\":{\"color\":\"#2a3f5f\"}},\"annotationdefaults\":{\"arrowcolor\":\"#2a3f5f\",\"arrowhead\":0,\"arrowwidth\":1},\"geo\":{\"bgcolor\":\"white\",\"landcolor\":\"#E5ECF6\",\"subunitcolor\":\"white\",\"showland\":true,\"showlakes\":true,\"lakecolor\":\"white\"},\"title\":{\"x\":0.05},\"mapbox\":{\"style\":\"light\"}}}},                        {\"responsive\": true}                    ).then(function(){\n",
       "                            \n",
       "var gd = document.getElementById('139168c2-9510-4d08-bc7a-36e71010ef49');\n",
       "var x = new MutationObserver(function (mutations, observer) {{\n",
       "        var display = window.getComputedStyle(gd).display;\n",
       "        if (!display || display === 'none') {{\n",
       "            console.log([gd, 'removed!']);\n",
       "            Plotly.purge(gd);\n",
       "            observer.disconnect();\n",
       "        }}\n",
       "}});\n",
       "\n",
       "// Listen for the removal of the full notebook cells\n",
       "var notebookContainer = gd.closest('#notebook-container');\n",
       "if (notebookContainer) {{\n",
       "    x.observe(notebookContainer, {childList: true});\n",
       "}}\n",
       "\n",
       "// Listen for the clearing of the current output cell\n",
       "var outputEl = gd.closest('.output');\n",
       "if (outputEl) {{\n",
       "    x.observe(outputEl, {childList: true});\n",
       "}}\n",
       "\n",
       "                        })                };                });            </script>        </div>"
      ]
     },
     "metadata": {},
     "output_type": "display_data"
    }
   ],
   "source": [
    "fig = go.Figure(data=[go.Pie(labels=labels, values=values, title='NFL average 2022')])\n",
    "fig.show()"
   ]
  },
  {
   "cell_type": "code",
   "execution_count": 164,
   "id": "e430e7fb-1fec-4ce7-a2f9-c946648286bd",
   "metadata": {},
   "outputs": [
    {
     "name": "stdout",
     "output_type": "stream",
     "text": [
      "NFL average run:pass ratio = 0.65\n"
     ]
    }
   ],
   "source": [
    "print('NFL average run:pass ratio = '+str(np.round(no_runs/no_passes,2)))"
   ]
  },
  {
   "cell_type": "markdown",
   "id": "6fe5367e-4662-4fe9-870a-822cb254b952",
   "metadata": {},
   "source": [
    "## Per team"
   ]
  },
  {
   "cell_type": "code",
   "execution_count": 206,
   "id": "c7d8c0c1-2fb9-4ebe-b7ce-b252926771e1",
   "metadata": {},
   "outputs": [],
   "source": [
    "df_runs = df_pbp_2022.groupby('posteam')['play_type'].apply(lambda x: (x=='run').sum()).reset_index(name='no of runs')\n",
    "df_passes = df_pbp_2022.groupby('posteam')['play_type'].apply(lambda x: (x=='pass').sum()).reset_index(name='no of passes')"
   ]
  },
  {
   "cell_type": "code",
   "execution_count": 207,
   "id": "6664bc0c-a372-4927-9029-f50b102c3aed",
   "metadata": {},
   "outputs": [],
   "source": [
    "df_run_pass = df_runs.merge(df_passes, on=\"posteam\")"
   ]
  },
  {
   "cell_type": "code",
   "execution_count": 208,
   "id": "da8c1906-42de-4fc1-9b68-0603049fbca7",
   "metadata": {},
   "outputs": [],
   "source": [
    "df_run_pass = df_run_pass.merge(df_teams[[\"team_abbr\", \"team_color\"]], left_on=\"posteam\", right_on=\"team_abbr\")"
   ]
  },
  {
   "cell_type": "code",
   "execution_count": 209,
   "id": "a8ab7d2b-c2a1-485f-8645-87a6cc317e9b",
   "metadata": {},
   "outputs": [],
   "source": [
    "# df_ratios = df_pbp_2022.groupby('posteam')['play_type'].apply(lambda x: (x=='run').sum()).reset_index(name='no of runs')\n",
    "# df_ratios['no of passes'] = df_pbp_2022.groupby('posteam')['play_type'].apply(lambda x: (x=='pass').sum()).values"
   ]
  },
  {
   "cell_type": "code",
   "execution_count": 210,
   "id": "1b74f8ce-ce0d-43a6-bee3-c4a9fa7e782c",
   "metadata": {},
   "outputs": [],
   "source": [
    "df_run_pass['run pct'] = df_run_pass['no of runs']/(df_run_pass['no of runs']+df_run_pass['no of passes'])*100\n",
    "df_run_pass['pass pct'] = df_run_pass['no of passes']/(df_run_pass['no of runs']+df_run_pass['no of passes'])*100\n",
    "df_run_pass['run-pass ratio'] = df_run_pass['no of runs']/df_run_pass['no of passes']"
   ]
  },
  {
   "cell_type": "markdown",
   "id": "4d15a9d2-298b-4793-9020-3a87027a7033",
   "metadata": {},
   "source": [
    "### Who runs/passes the most?"
   ]
  },
  {
   "cell_type": "code",
   "execution_count": 211,
   "id": "cc1c5a05-364e-4ea2-a9b2-0739de2e4a55",
   "metadata": {},
   "outputs": [
    {
     "data": {
      "text/html": [
       "<div>\n",
       "<style scoped>\n",
       "    .dataframe tbody tr th:only-of-type {\n",
       "        vertical-align: middle;\n",
       "    }\n",
       "\n",
       "    .dataframe tbody tr th {\n",
       "        vertical-align: top;\n",
       "    }\n",
       "\n",
       "    .dataframe thead th {\n",
       "        text-align: right;\n",
       "    }\n",
       "</style>\n",
       "<table border=\"1\" class=\"dataframe\">\n",
       "  <thead>\n",
       "    <tr style=\"text-align: right;\">\n",
       "      <th></th>\n",
       "      <th>posteam</th>\n",
       "      <th>no of runs</th>\n",
       "      <th>no of passes</th>\n",
       "      <th>team_abbr</th>\n",
       "      <th>team_color</th>\n",
       "      <th>run pct</th>\n",
       "      <th>pass pct</th>\n",
       "      <th>run-pass ratio</th>\n",
       "    </tr>\n",
       "  </thead>\n",
       "  <tbody>\n",
       "    <tr>\n",
       "      <th>24</th>\n",
       "      <td>NYJ</td>\n",
       "      <td>17</td>\n",
       "      <td>62</td>\n",
       "      <td>NYJ</td>\n",
       "      <td>#003F2D</td>\n",
       "      <td>21.518987</td>\n",
       "      <td>78.481013</td>\n",
       "      <td>0.274194</td>\n",
       "    </tr>\n",
       "    <tr>\n",
       "      <th>18</th>\n",
       "      <td>LV</td>\n",
       "      <td>13</td>\n",
       "      <td>44</td>\n",
       "      <td>LV</td>\n",
       "      <td>#000000</td>\n",
       "      <td>22.807018</td>\n",
       "      <td>77.192982</td>\n",
       "      <td>0.295455</td>\n",
       "    </tr>\n",
       "    <tr>\n",
       "      <th>8</th>\n",
       "      <td>DAL</td>\n",
       "      <td>17</td>\n",
       "      <td>46</td>\n",
       "      <td>DAL</td>\n",
       "      <td>#002244</td>\n",
       "      <td>26.984127</td>\n",
       "      <td>73.015873</td>\n",
       "      <td>0.369565</td>\n",
       "    </tr>\n",
       "    <tr>\n",
       "      <th>16</th>\n",
       "      <td>LA</td>\n",
       "      <td>18</td>\n",
       "      <td>48</td>\n",
       "      <td>LA</td>\n",
       "      <td>#003594</td>\n",
       "      <td>27.272727</td>\n",
       "      <td>72.727273</td>\n",
       "      <td>0.375000</td>\n",
       "    </tr>\n",
       "    <tr>\n",
       "      <th>14</th>\n",
       "      <td>JAX</td>\n",
       "      <td>18</td>\n",
       "      <td>45</td>\n",
       "      <td>JAX</td>\n",
       "      <td>#006778</td>\n",
       "      <td>28.571429</td>\n",
       "      <td>71.428571</td>\n",
       "      <td>0.400000</td>\n",
       "    </tr>\n",
       "    <tr>\n",
       "      <th>11</th>\n",
       "      <td>GB</td>\n",
       "      <td>17</td>\n",
       "      <td>42</td>\n",
       "      <td>GB</td>\n",
       "      <td>#203731</td>\n",
       "      <td>28.813559</td>\n",
       "      <td>71.186441</td>\n",
       "      <td>0.404762</td>\n",
       "    </tr>\n",
       "    <tr>\n",
       "      <th>9</th>\n",
       "      <td>DEN</td>\n",
       "      <td>20</td>\n",
       "      <td>44</td>\n",
       "      <td>DEN</td>\n",
       "      <td>#002244</td>\n",
       "      <td>31.250000</td>\n",
       "      <td>68.750000</td>\n",
       "      <td>0.454545</td>\n",
       "    </tr>\n",
       "    <tr>\n",
       "      <th>0</th>\n",
       "      <td>ARI</td>\n",
       "      <td>21</td>\n",
       "      <td>43</td>\n",
       "      <td>ARI</td>\n",
       "      <td>#97233F</td>\n",
       "      <td>32.812500</td>\n",
       "      <td>67.187500</td>\n",
       "      <td>0.488372</td>\n",
       "    </tr>\n",
       "    <tr>\n",
       "      <th>27</th>\n",
       "      <td>SEA</td>\n",
       "      <td>16</td>\n",
       "      <td>30</td>\n",
       "      <td>SEA</td>\n",
       "      <td>#002244</td>\n",
       "      <td>34.782609</td>\n",
       "      <td>65.217391</td>\n",
       "      <td>0.533333</td>\n",
       "    </tr>\n",
       "    <tr>\n",
       "      <th>22</th>\n",
       "      <td>NO</td>\n",
       "      <td>20</td>\n",
       "      <td>37</td>\n",
       "      <td>NO</td>\n",
       "      <td>#D3BC8D</td>\n",
       "      <td>35.087719</td>\n",
       "      <td>64.912281</td>\n",
       "      <td>0.540541</td>\n",
       "    </tr>\n",
       "    <tr>\n",
       "      <th>26</th>\n",
       "      <td>PIT</td>\n",
       "      <td>21</td>\n",
       "      <td>38</td>\n",
       "      <td>PIT</td>\n",
       "      <td>#000000</td>\n",
       "      <td>35.593220</td>\n",
       "      <td>64.406780</td>\n",
       "      <td>0.552632</td>\n",
       "    </tr>\n",
       "    <tr>\n",
       "      <th>6</th>\n",
       "      <td>CIN</td>\n",
       "      <td>34</td>\n",
       "      <td>61</td>\n",
       "      <td>CIN</td>\n",
       "      <td>#FB4F14</td>\n",
       "      <td>35.789474</td>\n",
       "      <td>64.210526</td>\n",
       "      <td>0.557377</td>\n",
       "    </tr>\n",
       "    <tr>\n",
       "      <th>31</th>\n",
       "      <td>WAS</td>\n",
       "      <td>25</td>\n",
       "      <td>44</td>\n",
       "      <td>WAS</td>\n",
       "      <td>#5A1414</td>\n",
       "      <td>36.231884</td>\n",
       "      <td>63.768116</td>\n",
       "      <td>0.568182</td>\n",
       "    </tr>\n",
       "    <tr>\n",
       "      <th>15</th>\n",
       "      <td>KC</td>\n",
       "      <td>43</td>\n",
       "      <td>75</td>\n",
       "      <td>KC</td>\n",
       "      <td>#E31837</td>\n",
       "      <td>36.440678</td>\n",
       "      <td>63.559322</td>\n",
       "      <td>0.573333</td>\n",
       "    </tr>\n",
       "    <tr>\n",
       "      <th>4</th>\n",
       "      <td>CAR</td>\n",
       "      <td>18</td>\n",
       "      <td>31</td>\n",
       "      <td>CAR</td>\n",
       "      <td>#0085CA</td>\n",
       "      <td>36.734694</td>\n",
       "      <td>63.265306</td>\n",
       "      <td>0.580645</td>\n",
       "    </tr>\n",
       "    <tr>\n",
       "      <th>19</th>\n",
       "      <td>MIA</td>\n",
       "      <td>21</td>\n",
       "      <td>36</td>\n",
       "      <td>MIA</td>\n",
       "      <td>#008E97</td>\n",
       "      <td>36.842105</td>\n",
       "      <td>63.157895</td>\n",
       "      <td>0.583333</td>\n",
       "    </tr>\n",
       "    <tr>\n",
       "      <th>2</th>\n",
       "      <td>BAL</td>\n",
       "      <td>19</td>\n",
       "      <td>32</td>\n",
       "      <td>BAL</td>\n",
       "      <td>#241773</td>\n",
       "      <td>37.254902</td>\n",
       "      <td>62.745098</td>\n",
       "      <td>0.593750</td>\n",
       "    </tr>\n",
       "    <tr>\n",
       "      <th>17</th>\n",
       "      <td>LAC</td>\n",
       "      <td>52</td>\n",
       "      <td>84</td>\n",
       "      <td>LAC</td>\n",
       "      <td>#007BC7</td>\n",
       "      <td>38.235294</td>\n",
       "      <td>61.764706</td>\n",
       "      <td>0.619048</td>\n",
       "    </tr>\n",
       "    <tr>\n",
       "      <th>21</th>\n",
       "      <td>NE</td>\n",
       "      <td>21</td>\n",
       "      <td>32</td>\n",
       "      <td>NE</td>\n",
       "      <td>#002244</td>\n",
       "      <td>39.622642</td>\n",
       "      <td>60.377358</td>\n",
       "      <td>0.656250</td>\n",
       "    </tr>\n",
       "    <tr>\n",
       "      <th>12</th>\n",
       "      <td>HOU</td>\n",
       "      <td>27</td>\n",
       "      <td>40</td>\n",
       "      <td>HOU</td>\n",
       "      <td>#03202F</td>\n",
       "      <td>40.298507</td>\n",
       "      <td>59.701493</td>\n",
       "      <td>0.675000</td>\n",
       "    </tr>\n",
       "    <tr>\n",
       "      <th>10</th>\n",
       "      <td>DET</td>\n",
       "      <td>27</td>\n",
       "      <td>38</td>\n",
       "      <td>DET</td>\n",
       "      <td>#0076B6</td>\n",
       "      <td>41.538462</td>\n",
       "      <td>58.461538</td>\n",
       "      <td>0.710526</td>\n",
       "    </tr>\n",
       "    <tr>\n",
       "      <th>3</th>\n",
       "      <td>BUF</td>\n",
       "      <td>24</td>\n",
       "      <td>33</td>\n",
       "      <td>BUF</td>\n",
       "      <td>#00338D</td>\n",
       "      <td>42.105263</td>\n",
       "      <td>57.894737</td>\n",
       "      <td>0.727273</td>\n",
       "    </tr>\n",
       "    <tr>\n",
       "      <th>13</th>\n",
       "      <td>IND</td>\n",
       "      <td>38</td>\n",
       "      <td>52</td>\n",
       "      <td>IND</td>\n",
       "      <td>#002C5F</td>\n",
       "      <td>42.222222</td>\n",
       "      <td>57.777778</td>\n",
       "      <td>0.730769</td>\n",
       "    </tr>\n",
       "    <tr>\n",
       "      <th>30</th>\n",
       "      <td>TEN</td>\n",
       "      <td>26</td>\n",
       "      <td>33</td>\n",
       "      <td>TEN</td>\n",
       "      <td>#002244</td>\n",
       "      <td>44.067797</td>\n",
       "      <td>55.932203</td>\n",
       "      <td>0.787879</td>\n",
       "    </tr>\n",
       "    <tr>\n",
       "      <th>20</th>\n",
       "      <td>MIN</td>\n",
       "      <td>28</td>\n",
       "      <td>33</td>\n",
       "      <td>MIN</td>\n",
       "      <td>#4F2683</td>\n",
       "      <td>45.901639</td>\n",
       "      <td>54.098361</td>\n",
       "      <td>0.848485</td>\n",
       "    </tr>\n",
       "    <tr>\n",
       "      <th>29</th>\n",
       "      <td>TB</td>\n",
       "      <td>31</td>\n",
       "      <td>29</td>\n",
       "      <td>TB</td>\n",
       "      <td>#A71930</td>\n",
       "      <td>51.666667</td>\n",
       "      <td>48.333333</td>\n",
       "      <td>1.068966</td>\n",
       "    </tr>\n",
       "    <tr>\n",
       "      <th>25</th>\n",
       "      <td>PHI</td>\n",
       "      <td>38</td>\n",
       "      <td>33</td>\n",
       "      <td>PHI</td>\n",
       "      <td>#004C54</td>\n",
       "      <td>53.521127</td>\n",
       "      <td>46.478873</td>\n",
       "      <td>1.151515</td>\n",
       "    </tr>\n",
       "    <tr>\n",
       "      <th>7</th>\n",
       "      <td>CLE</td>\n",
       "      <td>39</td>\n",
       "      <td>33</td>\n",
       "      <td>CLE</td>\n",
       "      <td>#FF3C00</td>\n",
       "      <td>54.166667</td>\n",
       "      <td>45.833333</td>\n",
       "      <td>1.181818</td>\n",
       "    </tr>\n",
       "    <tr>\n",
       "      <th>1</th>\n",
       "      <td>ATL</td>\n",
       "      <td>38</td>\n",
       "      <td>32</td>\n",
       "      <td>ATL</td>\n",
       "      <td>#A71930</td>\n",
       "      <td>54.285714</td>\n",
       "      <td>45.714286</td>\n",
       "      <td>1.187500</td>\n",
       "    </tr>\n",
       "    <tr>\n",
       "      <th>23</th>\n",
       "      <td>NYG</td>\n",
       "      <td>33</td>\n",
       "      <td>27</td>\n",
       "      <td>NYG</td>\n",
       "      <td>#0B2265</td>\n",
       "      <td>55.000000</td>\n",
       "      <td>45.000000</td>\n",
       "      <td>1.222222</td>\n",
       "    </tr>\n",
       "    <tr>\n",
       "      <th>28</th>\n",
       "      <td>SF</td>\n",
       "      <td>37</td>\n",
       "      <td>30</td>\n",
       "      <td>SF</td>\n",
       "      <td>#AA0000</td>\n",
       "      <td>55.223881</td>\n",
       "      <td>44.776119</td>\n",
       "      <td>1.233333</td>\n",
       "    </tr>\n",
       "    <tr>\n",
       "      <th>5</th>\n",
       "      <td>CHI</td>\n",
       "      <td>34</td>\n",
       "      <td>19</td>\n",
       "      <td>CHI</td>\n",
       "      <td>#0B162A</td>\n",
       "      <td>64.150943</td>\n",
       "      <td>35.849057</td>\n",
       "      <td>1.789474</td>\n",
       "    </tr>\n",
       "  </tbody>\n",
       "</table>\n",
       "</div>"
      ],
      "text/plain": [
       "   posteam  no of runs  no of passes team_abbr team_color    run pct  \\\n",
       "24     NYJ          17            62       NYJ    #003F2D  21.518987   \n",
       "18      LV          13            44        LV    #000000  22.807018   \n",
       "8      DAL          17            46       DAL    #002244  26.984127   \n",
       "16      LA          18            48        LA    #003594  27.272727   \n",
       "14     JAX          18            45       JAX    #006778  28.571429   \n",
       "11      GB          17            42        GB    #203731  28.813559   \n",
       "9      DEN          20            44       DEN    #002244  31.250000   \n",
       "0      ARI          21            43       ARI    #97233F  32.812500   \n",
       "27     SEA          16            30       SEA    #002244  34.782609   \n",
       "22      NO          20            37        NO    #D3BC8D  35.087719   \n",
       "26     PIT          21            38       PIT    #000000  35.593220   \n",
       "6      CIN          34            61       CIN    #FB4F14  35.789474   \n",
       "31     WAS          25            44       WAS    #5A1414  36.231884   \n",
       "15      KC          43            75        KC    #E31837  36.440678   \n",
       "4      CAR          18            31       CAR    #0085CA  36.734694   \n",
       "19     MIA          21            36       MIA    #008E97  36.842105   \n",
       "2      BAL          19            32       BAL    #241773  37.254902   \n",
       "17     LAC          52            84       LAC    #007BC7  38.235294   \n",
       "21      NE          21            32        NE    #002244  39.622642   \n",
       "12     HOU          27            40       HOU    #03202F  40.298507   \n",
       "10     DET          27            38       DET    #0076B6  41.538462   \n",
       "3      BUF          24            33       BUF    #00338D  42.105263   \n",
       "13     IND          38            52       IND    #002C5F  42.222222   \n",
       "30     TEN          26            33       TEN    #002244  44.067797   \n",
       "20     MIN          28            33       MIN    #4F2683  45.901639   \n",
       "29      TB          31            29        TB    #A71930  51.666667   \n",
       "25     PHI          38            33       PHI    #004C54  53.521127   \n",
       "7      CLE          39            33       CLE    #FF3C00  54.166667   \n",
       "1      ATL          38            32       ATL    #A71930  54.285714   \n",
       "23     NYG          33            27       NYG    #0B2265  55.000000   \n",
       "28      SF          37            30        SF    #AA0000  55.223881   \n",
       "5      CHI          34            19       CHI    #0B162A  64.150943   \n",
       "\n",
       "     pass pct  run-pass ratio  \n",
       "24  78.481013        0.274194  \n",
       "18  77.192982        0.295455  \n",
       "8   73.015873        0.369565  \n",
       "16  72.727273        0.375000  \n",
       "14  71.428571        0.400000  \n",
       "11  71.186441        0.404762  \n",
       "9   68.750000        0.454545  \n",
       "0   67.187500        0.488372  \n",
       "27  65.217391        0.533333  \n",
       "22  64.912281        0.540541  \n",
       "26  64.406780        0.552632  \n",
       "6   64.210526        0.557377  \n",
       "31  63.768116        0.568182  \n",
       "15  63.559322        0.573333  \n",
       "4   63.265306        0.580645  \n",
       "19  63.157895        0.583333  \n",
       "2   62.745098        0.593750  \n",
       "17  61.764706        0.619048  \n",
       "21  60.377358        0.656250  \n",
       "12  59.701493        0.675000  \n",
       "10  58.461538        0.710526  \n",
       "3   57.894737        0.727273  \n",
       "13  57.777778        0.730769  \n",
       "30  55.932203        0.787879  \n",
       "20  54.098361        0.848485  \n",
       "29  48.333333        1.068966  \n",
       "25  46.478873        1.151515  \n",
       "7   45.833333        1.181818  \n",
       "1   45.714286        1.187500  \n",
       "23  45.000000        1.222222  \n",
       "28  44.776119        1.233333  \n",
       "5   35.849057        1.789474  "
      ]
     },
     "execution_count": 211,
     "metadata": {},
     "output_type": "execute_result"
    }
   ],
   "source": [
    "df_run_pass.sort_values(by=['run-pass ratio'])"
   ]
  },
  {
   "cell_type": "markdown",
   "id": "ddfcd6fa-866f-49ed-8486-a2859e1af205",
   "metadata": {},
   "source": [
    "#### Yards per run/pass"
   ]
  },
  {
   "cell_type": "code",
   "execution_count": 212,
   "id": "3d11a933-23cd-41e5-9b94-a4626b808534",
   "metadata": {},
   "outputs": [],
   "source": [
    "df_total_yds = df_pbp_2022.groupby(['play_type','posteam'])['yards_gained'].sum()"
   ]
  },
  {
   "cell_type": "code",
   "execution_count": 213,
   "id": "9accd073-0546-413b-b376-79af71b0b9c7",
   "metadata": {},
   "outputs": [],
   "source": [
    "df_run_pass = df_run_pass.merge(df_total_yds['run'], on=\"posteam\")\n",
    "df_run_pass = df_run_pass.merge(df_total_yds['pass'], on=\"posteam\",suffixes=('_run','_pass'))"
   ]
  },
  {
   "cell_type": "code",
   "execution_count": 214,
   "id": "b3430aa2-e50e-4b91-9577-24cbb1972b1d",
   "metadata": {},
   "outputs": [],
   "source": [
    "df_run_pass['yds_per_run'] = df_run_pass['yards_gained_run'].values/df_run_pass['no of runs'].values\n",
    "df_run_pass['yds_per_pass_attempt'] = df_run_pass['yards_gained_pass'].values/df_run_pass['no of passes'].values"
   ]
  },
  {
   "cell_type": "code",
   "execution_count": 216,
   "id": "52c10301-c653-4017-9555-d3ae9da35a06",
   "metadata": {},
   "outputs": [
    {
     "data": {
      "application/vnd.plotly.v1+json": {
       "config": {
        "plotlyServerURL": "https://plot.ly"
       },
       "data": [
        {
         "marker": {
          "color": "#97233F",
          "size": 12
         },
         "name": "ARI",
         "type": "scatter",
         "x": [
          4.9523809523809526
         ],
         "y": [
          4.209302325581396
         ]
        },
        {
         "marker": {
          "color": "#A71930",
          "size": 12
         },
         "name": "ATL",
         "type": "scatter",
         "x": [
          5.2894736842105265
         ],
         "y": [
          6.71875
         ]
        },
        {
         "marker": {
          "color": "#241773",
          "size": 12
         },
         "name": "BAL",
         "type": "scatter",
         "x": [
          3.4210526315789473
         ],
         "y": [
          6.59375
         ]
        },
        {
         "marker": {
          "color": "#00338D",
          "size": 12
         },
         "name": "BUF",
         "type": "scatter",
         "x": [
          5.083333333333333
         ],
         "y": [
          8.848484848484848
         ]
        },
        {
         "marker": {
          "color": "#0085CA",
          "size": 12
         },
         "name": "CAR",
         "type": "scatter",
         "x": [
          3.0555555555555554
         ],
         "y": [
          6.67741935483871
         ]
        },
        {
         "marker": {
          "color": "#0B162A",
          "size": 12
         },
         "name": "CHI",
         "type": "scatter",
         "x": [
          2.9705882352941178
         ],
         "y": [
          5.526315789473684
         ]
        },
        {
         "marker": {
          "color": "#FB4F14",
          "size": 12
         },
         "name": "CIN",
         "type": "scatter",
         "x": [
          3.911764705882353
         ],
         "y": [
          4.934426229508197
         ]
        },
        {
         "marker": {
          "color": "#FF3C00",
          "size": 12
         },
         "name": "CLE",
         "type": "scatter",
         "x": [
          5.564102564102564
         ],
         "y": [
          4.181818181818182
         ]
        },
        {
         "marker": {
          "color": "#002244",
          "size": 12
         },
         "name": "DAL",
         "type": "scatter",
         "x": [
          4.235294117647059
         ],
         "y": [
          3.760869565217391
         ]
        },
        {
         "marker": {
          "color": "#002244",
          "size": 12
         },
         "name": "DEN",
         "type": "scatter",
         "x": [
          5.15
         ],
         "y": [
          7.5
         ]
        },
        {
         "marker": {
          "color": "#0076B6",
          "size": 12
         },
         "name": "DET",
         "type": "scatter",
         "x": [
          6.7407407407407405
         ],
         "y": [
          5.394736842105263
         ]
        },
        {
         "marker": {
          "color": "#203731",
          "size": 12
         },
         "name": "GB",
         "type": "scatter",
         "x": [
          6.588235294117647
         ],
         "y": [
          5.404761904761905
         ]
        },
        {
         "marker": {
          "color": "#03202F",
          "size": 12
         },
         "name": "HOU",
         "type": "scatter",
         "x": [
          2.925925925925926
         ],
         "y": [
          5.55
         ]
        },
        {
         "marker": {
          "color": "#002C5F",
          "size": 12
         },
         "name": "IND",
         "type": "scatter",
         "x": [
          4.657894736842105
         ],
         "y": [
          6.538461538461538
         ]
        },
        {
         "marker": {
          "color": "#006778",
          "size": 12
         },
         "name": "JAX",
         "type": "scatter",
         "x": [
          6.833333333333333
         ],
         "y": [
          5.777777777777778
         ]
        },
        {
         "marker": {
          "color": "#E31837",
          "size": 12
         },
         "name": "KC",
         "type": "scatter",
         "x": [
          5.162790697674419
         ],
         "y": [
          7.8133333333333335
         ]
        },
        {
         "marker": {
          "color": "#003594",
          "size": 12
         },
         "name": "LA",
         "type": "scatter",
         "x": [
          2.888888888888889
         ],
         "y": [
          3.9791666666666665
         ]
        },
        {
         "marker": {
          "color": "#007BC7",
          "size": 12
         },
         "name": "LAC",
         "type": "scatter",
         "x": [
          2.9615384615384617
         ],
         "y": [
          7.2023809523809526
         ]
        },
        {
         "marker": {
          "color": "#000000",
          "size": 12
         },
         "name": "LV",
         "type": "scatter",
         "x": [
          4.923076923076923
         ],
         "y": [
          5.818181818181818
         ]
        },
        {
         "marker": {
          "color": "#008E97",
          "size": 12
         },
         "name": "MIA",
         "type": "scatter",
         "x": [
          3.0952380952380953
         ],
         "y": [
          6.722222222222222
         ]
        },
        {
         "marker": {
          "color": "#4F2683",
          "size": 12
         },
         "name": "MIN",
         "type": "scatter",
         "x": [
          4.5
         ],
         "y": [
          8.151515151515152
         ]
        },
        {
         "marker": {
          "color": "#002244",
          "size": 12
         },
         "name": "NE",
         "type": "scatter",
         "x": [
          3.8095238095238093
         ],
         "y": [
          6.03125
         ]
        },
        {
         "marker": {
          "color": "#D3BC8D",
          "size": 12
         },
         "name": "NO",
         "type": "scatter",
         "x": [
          7.55
         ],
         "y": [
          6.378378378378378
         ]
        },
        {
         "marker": {
          "color": "#0B2265",
          "size": 12
         },
         "name": "NYG",
         "type": "scatter",
         "x": [
          7.212121212121212
         ],
         "y": [
          5.851851851851852
         ]
        },
        {
         "marker": {
          "color": "#003F2D",
          "size": 12
         },
         "name": "NYJ",
         "type": "scatter",
         "x": [
          4.882352941176471
         ],
         "y": [
          4.790322580645161
         ]
        },
        {
         "marker": {
          "color": "#004C54",
          "size": 12
         },
         "name": "PHI",
         "type": "scatter",
         "x": [
          5.7105263157894735
         ],
         "y": [
          7.242424242424242
         ]
        },
        {
         "marker": {
          "color": "#000000",
          "size": 12
         },
         "name": "PIT",
         "type": "scatter",
         "x": [
          3.619047619047619
         ],
         "y": [
          5.052631578947368
         ]
        },
        {
         "marker": {
          "color": "#002244",
          "size": 12
         },
         "name": "SEA",
         "type": "scatter",
         "x": [
          4.9375
         ],
         "y": [
          5.9
         ]
        },
        {
         "marker": {
          "color": "#AA0000",
          "size": 12
         },
         "name": "SF",
         "type": "scatter",
         "x": [
          4.756756756756757
         ],
         "y": [
          5.166666666666667
         ]
        },
        {
         "marker": {
          "color": "#A71930",
          "size": 12
         },
         "name": "TB",
         "type": "scatter",
         "x": [
          4.935483870967742
         ],
         "y": [
          6.724137931034483
         ]
        },
        {
         "marker": {
          "color": "#002244",
          "size": 12
         },
         "name": "TEN",
         "type": "scatter",
         "x": [
          3.576923076923077
         ],
         "y": [
          8.06060606060606
         ]
        },
        {
         "marker": {
          "color": "#5A1414",
          "size": 12
         },
         "name": "WAS",
         "type": "scatter",
         "x": [
          3.48
         ],
         "y": [
          6.9772727272727275
         ]
        }
       ],
       "layout": {
        "font": {
         "family": "Averta, sans-serif"
        },
        "height": 1000,
        "hoverlabel": {
         "font": {
          "family": "Averta, sans-serif",
          "size": 16
         }
        },
        "legend": {
         "font": {
          "size": 16
         }
        },
        "template": {
         "data": {
          "bar": [
           {
            "error_x": {
             "color": "#2a3f5f"
            },
            "error_y": {
             "color": "#2a3f5f"
            },
            "marker": {
             "line": {
              "color": "#E5ECF6",
              "width": 0.5
             },
             "pattern": {
              "fillmode": "overlay",
              "size": 10,
              "solidity": 0.2
             }
            },
            "type": "bar"
           }
          ],
          "barpolar": [
           {
            "marker": {
             "line": {
              "color": "#E5ECF6",
              "width": 0.5
             },
             "pattern": {
              "fillmode": "overlay",
              "size": 10,
              "solidity": 0.2
             }
            },
            "type": "barpolar"
           }
          ],
          "carpet": [
           {
            "aaxis": {
             "endlinecolor": "#2a3f5f",
             "gridcolor": "white",
             "linecolor": "white",
             "minorgridcolor": "white",
             "startlinecolor": "#2a3f5f"
            },
            "baxis": {
             "endlinecolor": "#2a3f5f",
             "gridcolor": "white",
             "linecolor": "white",
             "minorgridcolor": "white",
             "startlinecolor": "#2a3f5f"
            },
            "type": "carpet"
           }
          ],
          "choropleth": [
           {
            "colorbar": {
             "outlinewidth": 0,
             "ticks": ""
            },
            "type": "choropleth"
           }
          ],
          "contour": [
           {
            "colorbar": {
             "outlinewidth": 0,
             "ticks": ""
            },
            "colorscale": [
             [
              0,
              "#0d0887"
             ],
             [
              0.1111111111111111,
              "#46039f"
             ],
             [
              0.2222222222222222,
              "#7201a8"
             ],
             [
              0.3333333333333333,
              "#9c179e"
             ],
             [
              0.4444444444444444,
              "#bd3786"
             ],
             [
              0.5555555555555556,
              "#d8576b"
             ],
             [
              0.6666666666666666,
              "#ed7953"
             ],
             [
              0.7777777777777778,
              "#fb9f3a"
             ],
             [
              0.8888888888888888,
              "#fdca26"
             ],
             [
              1,
              "#f0f921"
             ]
            ],
            "type": "contour"
           }
          ],
          "contourcarpet": [
           {
            "colorbar": {
             "outlinewidth": 0,
             "ticks": ""
            },
            "type": "contourcarpet"
           }
          ],
          "heatmap": [
           {
            "colorbar": {
             "outlinewidth": 0,
             "ticks": ""
            },
            "colorscale": [
             [
              0,
              "#0d0887"
             ],
             [
              0.1111111111111111,
              "#46039f"
             ],
             [
              0.2222222222222222,
              "#7201a8"
             ],
             [
              0.3333333333333333,
              "#9c179e"
             ],
             [
              0.4444444444444444,
              "#bd3786"
             ],
             [
              0.5555555555555556,
              "#d8576b"
             ],
             [
              0.6666666666666666,
              "#ed7953"
             ],
             [
              0.7777777777777778,
              "#fb9f3a"
             ],
             [
              0.8888888888888888,
              "#fdca26"
             ],
             [
              1,
              "#f0f921"
             ]
            ],
            "type": "heatmap"
           }
          ],
          "heatmapgl": [
           {
            "colorbar": {
             "outlinewidth": 0,
             "ticks": ""
            },
            "colorscale": [
             [
              0,
              "#0d0887"
             ],
             [
              0.1111111111111111,
              "#46039f"
             ],
             [
              0.2222222222222222,
              "#7201a8"
             ],
             [
              0.3333333333333333,
              "#9c179e"
             ],
             [
              0.4444444444444444,
              "#bd3786"
             ],
             [
              0.5555555555555556,
              "#d8576b"
             ],
             [
              0.6666666666666666,
              "#ed7953"
             ],
             [
              0.7777777777777778,
              "#fb9f3a"
             ],
             [
              0.8888888888888888,
              "#fdca26"
             ],
             [
              1,
              "#f0f921"
             ]
            ],
            "type": "heatmapgl"
           }
          ],
          "histogram": [
           {
            "marker": {
             "pattern": {
              "fillmode": "overlay",
              "size": 10,
              "solidity": 0.2
             }
            },
            "type": "histogram"
           }
          ],
          "histogram2d": [
           {
            "colorbar": {
             "outlinewidth": 0,
             "ticks": ""
            },
            "colorscale": [
             [
              0,
              "#0d0887"
             ],
             [
              0.1111111111111111,
              "#46039f"
             ],
             [
              0.2222222222222222,
              "#7201a8"
             ],
             [
              0.3333333333333333,
              "#9c179e"
             ],
             [
              0.4444444444444444,
              "#bd3786"
             ],
             [
              0.5555555555555556,
              "#d8576b"
             ],
             [
              0.6666666666666666,
              "#ed7953"
             ],
             [
              0.7777777777777778,
              "#fb9f3a"
             ],
             [
              0.8888888888888888,
              "#fdca26"
             ],
             [
              1,
              "#f0f921"
             ]
            ],
            "type": "histogram2d"
           }
          ],
          "histogram2dcontour": [
           {
            "colorbar": {
             "outlinewidth": 0,
             "ticks": ""
            },
            "colorscale": [
             [
              0,
              "#0d0887"
             ],
             [
              0.1111111111111111,
              "#46039f"
             ],
             [
              0.2222222222222222,
              "#7201a8"
             ],
             [
              0.3333333333333333,
              "#9c179e"
             ],
             [
              0.4444444444444444,
              "#bd3786"
             ],
             [
              0.5555555555555556,
              "#d8576b"
             ],
             [
              0.6666666666666666,
              "#ed7953"
             ],
             [
              0.7777777777777778,
              "#fb9f3a"
             ],
             [
              0.8888888888888888,
              "#fdca26"
             ],
             [
              1,
              "#f0f921"
             ]
            ],
            "type": "histogram2dcontour"
           }
          ],
          "mesh3d": [
           {
            "colorbar": {
             "outlinewidth": 0,
             "ticks": ""
            },
            "type": "mesh3d"
           }
          ],
          "parcoords": [
           {
            "line": {
             "colorbar": {
              "outlinewidth": 0,
              "ticks": ""
             }
            },
            "type": "parcoords"
           }
          ],
          "pie": [
           {
            "automargin": true,
            "type": "pie"
           }
          ],
          "scatter": [
           {
            "fillpattern": {
             "fillmode": "overlay",
             "size": 10,
             "solidity": 0.2
            },
            "type": "scatter"
           }
          ],
          "scatter3d": [
           {
            "line": {
             "colorbar": {
              "outlinewidth": 0,
              "ticks": ""
             }
            },
            "marker": {
             "colorbar": {
              "outlinewidth": 0,
              "ticks": ""
             }
            },
            "type": "scatter3d"
           }
          ],
          "scattercarpet": [
           {
            "marker": {
             "colorbar": {
              "outlinewidth": 0,
              "ticks": ""
             }
            },
            "type": "scattercarpet"
           }
          ],
          "scattergeo": [
           {
            "marker": {
             "colorbar": {
              "outlinewidth": 0,
              "ticks": ""
             }
            },
            "type": "scattergeo"
           }
          ],
          "scattergl": [
           {
            "marker": {
             "colorbar": {
              "outlinewidth": 0,
              "ticks": ""
             }
            },
            "type": "scattergl"
           }
          ],
          "scattermapbox": [
           {
            "marker": {
             "colorbar": {
              "outlinewidth": 0,
              "ticks": ""
             }
            },
            "type": "scattermapbox"
           }
          ],
          "scatterpolar": [
           {
            "marker": {
             "colorbar": {
              "outlinewidth": 0,
              "ticks": ""
             }
            },
            "type": "scatterpolar"
           }
          ],
          "scatterpolargl": [
           {
            "marker": {
             "colorbar": {
              "outlinewidth": 0,
              "ticks": ""
             }
            },
            "type": "scatterpolargl"
           }
          ],
          "scatterternary": [
           {
            "marker": {
             "colorbar": {
              "outlinewidth": 0,
              "ticks": ""
             }
            },
            "type": "scatterternary"
           }
          ],
          "surface": [
           {
            "colorbar": {
             "outlinewidth": 0,
             "ticks": ""
            },
            "colorscale": [
             [
              0,
              "#0d0887"
             ],
             [
              0.1111111111111111,
              "#46039f"
             ],
             [
              0.2222222222222222,
              "#7201a8"
             ],
             [
              0.3333333333333333,
              "#9c179e"
             ],
             [
              0.4444444444444444,
              "#bd3786"
             ],
             [
              0.5555555555555556,
              "#d8576b"
             ],
             [
              0.6666666666666666,
              "#ed7953"
             ],
             [
              0.7777777777777778,
              "#fb9f3a"
             ],
             [
              0.8888888888888888,
              "#fdca26"
             ],
             [
              1,
              "#f0f921"
             ]
            ],
            "type": "surface"
           }
          ],
          "table": [
           {
            "cells": {
             "fill": {
              "color": "#EBF0F8"
             },
             "line": {
              "color": "white"
             }
            },
            "header": {
             "fill": {
              "color": "#C8D4E3"
             },
             "line": {
              "color": "white"
             }
            },
            "type": "table"
           }
          ]
         },
         "layout": {
          "annotationdefaults": {
           "arrowcolor": "#2a3f5f",
           "arrowhead": 0,
           "arrowwidth": 1
          },
          "autotypenumbers": "strict",
          "coloraxis": {
           "colorbar": {
            "outlinewidth": 0,
            "ticks": ""
           }
          },
          "colorscale": {
           "diverging": [
            [
             0,
             "#8e0152"
            ],
            [
             0.1,
             "#c51b7d"
            ],
            [
             0.2,
             "#de77ae"
            ],
            [
             0.3,
             "#f1b6da"
            ],
            [
             0.4,
             "#fde0ef"
            ],
            [
             0.5,
             "#f7f7f7"
            ],
            [
             0.6,
             "#e6f5d0"
            ],
            [
             0.7,
             "#b8e186"
            ],
            [
             0.8,
             "#7fbc41"
            ],
            [
             0.9,
             "#4d9221"
            ],
            [
             1,
             "#276419"
            ]
           ],
           "sequential": [
            [
             0,
             "#0d0887"
            ],
            [
             0.1111111111111111,
             "#46039f"
            ],
            [
             0.2222222222222222,
             "#7201a8"
            ],
            [
             0.3333333333333333,
             "#9c179e"
            ],
            [
             0.4444444444444444,
             "#bd3786"
            ],
            [
             0.5555555555555556,
             "#d8576b"
            ],
            [
             0.6666666666666666,
             "#ed7953"
            ],
            [
             0.7777777777777778,
             "#fb9f3a"
            ],
            [
             0.8888888888888888,
             "#fdca26"
            ],
            [
             1,
             "#f0f921"
            ]
           ],
           "sequentialminus": [
            [
             0,
             "#0d0887"
            ],
            [
             0.1111111111111111,
             "#46039f"
            ],
            [
             0.2222222222222222,
             "#7201a8"
            ],
            [
             0.3333333333333333,
             "#9c179e"
            ],
            [
             0.4444444444444444,
             "#bd3786"
            ],
            [
             0.5555555555555556,
             "#d8576b"
            ],
            [
             0.6666666666666666,
             "#ed7953"
            ],
            [
             0.7777777777777778,
             "#fb9f3a"
            ],
            [
             0.8888888888888888,
             "#fdca26"
            ],
            [
             1,
             "#f0f921"
            ]
           ]
          },
          "colorway": [
           "#636efa",
           "#EF553B",
           "#00cc96",
           "#ab63fa",
           "#FFA15A",
           "#19d3f3",
           "#FF6692",
           "#B6E880",
           "#FF97FF",
           "#FECB52"
          ],
          "font": {
           "color": "#2a3f5f"
          },
          "geo": {
           "bgcolor": "white",
           "lakecolor": "white",
           "landcolor": "#E5ECF6",
           "showlakes": true,
           "showland": true,
           "subunitcolor": "white"
          },
          "hoverlabel": {
           "align": "left"
          },
          "hovermode": "closest",
          "mapbox": {
           "style": "light"
          },
          "paper_bgcolor": "white",
          "plot_bgcolor": "#E5ECF6",
          "polar": {
           "angularaxis": {
            "gridcolor": "white",
            "linecolor": "white",
            "ticks": ""
           },
           "bgcolor": "#E5ECF6",
           "radialaxis": {
            "gridcolor": "white",
            "linecolor": "white",
            "ticks": ""
           }
          },
          "scene": {
           "xaxis": {
            "backgroundcolor": "#E5ECF6",
            "gridcolor": "white",
            "gridwidth": 2,
            "linecolor": "white",
            "showbackground": true,
            "ticks": "",
            "zerolinecolor": "white"
           },
           "yaxis": {
            "backgroundcolor": "#E5ECF6",
            "gridcolor": "white",
            "gridwidth": 2,
            "linecolor": "white",
            "showbackground": true,
            "ticks": "",
            "zerolinecolor": "white"
           },
           "zaxis": {
            "backgroundcolor": "#E5ECF6",
            "gridcolor": "white",
            "gridwidth": 2,
            "linecolor": "white",
            "showbackground": true,
            "ticks": "",
            "zerolinecolor": "white"
           }
          },
          "shapedefaults": {
           "line": {
            "color": "#2a3f5f"
           }
          },
          "ternary": {
           "aaxis": {
            "gridcolor": "white",
            "linecolor": "white",
            "ticks": ""
           },
           "baxis": {
            "gridcolor": "white",
            "linecolor": "white",
            "ticks": ""
           },
           "bgcolor": "#E5ECF6",
           "caxis": {
            "gridcolor": "white",
            "linecolor": "white",
            "ticks": ""
           }
          },
          "title": {
           "x": 0.05
          },
          "xaxis": {
           "automargin": true,
           "gridcolor": "white",
           "linecolor": "white",
           "ticks": "",
           "title": {
            "standoff": 15
           },
           "zerolinecolor": "white",
           "zerolinewidth": 2
          },
          "yaxis": {
           "automargin": true,
           "gridcolor": "white",
           "linecolor": "white",
           "ticks": "",
           "title": {
            "standoff": 15
           },
           "zerolinecolor": "white",
           "zerolinewidth": 2
          }
         }
        },
        "title": {
         "text": "Run vs Pass Yards"
        },
        "width": 1000,
        "xaxis": {
         "autorange": true,
         "range": [
          2.575605368272175,
          7.863283520616714
         ],
         "tickfont": {
          "size": 16
         },
         "title": {
          "font": {
           "size": 18
          },
          "text": "Yards per Run"
         },
         "type": "linear"
        },
        "yaxis": {
         "autorange": true,
         "range": [
          3.4195841693135574,
          9.189770244388681
         ],
         "tickfont": {
          "size": 16
         },
         "title": {
          "font": {
           "size": 18
          },
          "text": "Yards per Pass"
         },
         "type": "linear"
        }
       }
      },
      "image/png": "[encoded data removed]",
      "text/html": [
       "<div>                            <div id=\"e827a5cb-fb7a-43c5-8650-6c6f3c633e5c\" class=\"plotly-graph-div\" style=\"height:1000px; width:1000px;\"></div>            <script type=\"text/javascript\">                require([\"plotly\"], function(Plotly) {                    window.PLOTLYENV=window.PLOTLYENV || {};                                    if (document.getElementById(\"e827a5cb-fb7a-43c5-8650-6c6f3c633e5c\")) {                    Plotly.newPlot(                        \"e827a5cb-fb7a-43c5-8650-6c6f3c633e5c\",                        [{\"marker\":{\"color\":\"#97233F\",\"size\":12},\"name\":\"ARI\",\"x\":[4.9523809523809526],\"y\":[4.209302325581396],\"type\":\"scatter\"},{\"marker\":{\"color\":\"#A71930\",\"size\":12},\"name\":\"ATL\",\"x\":[5.2894736842105265],\"y\":[6.71875],\"type\":\"scatter\"},{\"marker\":{\"color\":\"#241773\",\"size\":12},\"name\":\"BAL\",\"x\":[3.4210526315789473],\"y\":[6.59375],\"type\":\"scatter\"},{\"marker\":{\"color\":\"#00338D\",\"size\":12},\"name\":\"BUF\",\"x\":[5.083333333333333],\"y\":[8.848484848484848],\"type\":\"scatter\"},{\"marker\":{\"color\":\"#0085CA\",\"size\":12},\"name\":\"CAR\",\"x\":[3.0555555555555554],\"y\":[6.67741935483871],\"type\":\"scatter\"},{\"marker\":{\"color\":\"#0B162A\",\"size\":12},\"name\":\"CHI\",\"x\":[2.9705882352941178],\"y\":[5.526315789473684],\"type\":\"scatter\"},{\"marker\":{\"color\":\"#FB4F14\",\"size\":12},\"name\":\"CIN\",\"x\":[3.911764705882353],\"y\":[4.934426229508197],\"type\":\"scatter\"},{\"marker\":{\"color\":\"#FF3C00\",\"size\":12},\"name\":\"CLE\",\"x\":[5.564102564102564],\"y\":[4.181818181818182],\"type\":\"scatter\"},{\"marker\":{\"color\":\"#002244\",\"size\":12},\"name\":\"DAL\",\"x\":[4.235294117647059],\"y\":[3.760869565217391],\"type\":\"scatter\"},{\"marker\":{\"color\":\"#002244\",\"size\":12},\"name\":\"DEN\",\"x\":[5.15],\"y\":[7.5],\"type\":\"scatter\"},{\"marker\":{\"color\":\"#0076B6\",\"size\":12},\"name\":\"DET\",\"x\":[6.7407407407407405],\"y\":[5.394736842105263],\"type\":\"scatter\"},{\"marker\":{\"color\":\"#203731\",\"size\":12},\"name\":\"GB\",\"x\":[6.588235294117647],\"y\":[5.404761904761905],\"type\":\"scatter\"},{\"marker\":{\"color\":\"#03202F\",\"size\":12},\"name\":\"HOU\",\"x\":[2.925925925925926],\"y\":[5.55],\"type\":\"scatter\"},{\"marker\":{\"color\":\"#002C5F\",\"size\":12},\"name\":\"IND\",\"x\":[4.657894736842105],\"y\":[6.538461538461538],\"type\":\"scatter\"},{\"marker\":{\"color\":\"#006778\",\"size\":12},\"name\":\"JAX\",\"x\":[6.833333333333333],\"y\":[5.777777777777778],\"type\":\"scatter\"},{\"marker\":{\"color\":\"#E31837\",\"size\":12},\"name\":\"KC\",\"x\":[5.162790697674419],\"y\":[7.8133333333333335],\"type\":\"scatter\"},{\"marker\":{\"color\":\"#003594\",\"size\":12},\"name\":\"LA\",\"x\":[2.888888888888889],\"y\":[3.9791666666666665],\"type\":\"scatter\"},{\"marker\":{\"color\":\"#007BC7\",\"size\":12},\"name\":\"LAC\",\"x\":[2.9615384615384617],\"y\":[7.2023809523809526],\"type\":\"scatter\"},{\"marker\":{\"color\":\"#000000\",\"size\":12},\"name\":\"LV\",\"x\":[4.923076923076923],\"y\":[5.818181818181818],\"type\":\"scatter\"},{\"marker\":{\"color\":\"#008E97\",\"size\":12},\"name\":\"MIA\",\"x\":[3.0952380952380953],\"y\":[6.722222222222222],\"type\":\"scatter\"},{\"marker\":{\"color\":\"#4F2683\",\"size\":12},\"name\":\"MIN\",\"x\":[4.5],\"y\":[8.151515151515152],\"type\":\"scatter\"},{\"marker\":{\"color\":\"#002244\",\"size\":12},\"name\":\"NE\",\"x\":[3.8095238095238093],\"y\":[6.03125],\"type\":\"scatter\"},{\"marker\":{\"color\":\"#D3BC8D\",\"size\":12},\"name\":\"NO\",\"x\":[7.55],\"y\":[6.378378378378378],\"type\":\"scatter\"},{\"marker\":{\"color\":\"#0B2265\",\"size\":12},\"name\":\"NYG\",\"x\":[7.212121212121212],\"y\":[5.851851851851852],\"type\":\"scatter\"},{\"marker\":{\"color\":\"#003F2D\",\"size\":12},\"name\":\"NYJ\",\"x\":[4.882352941176471],\"y\":[4.790322580645161],\"type\":\"scatter\"},{\"marker\":{\"color\":\"#004C54\",\"size\":12},\"name\":\"PHI\",\"x\":[5.7105263157894735],\"y\":[7.242424242424242],\"type\":\"scatter\"},{\"marker\":{\"color\":\"#000000\",\"size\":12},\"name\":\"PIT\",\"x\":[3.619047619047619],\"y\":[5.052631578947368],\"type\":\"scatter\"},{\"marker\":{\"color\":\"#002244\",\"size\":12},\"name\":\"SEA\",\"x\":[4.9375],\"y\":[5.9],\"type\":\"scatter\"},{\"marker\":{\"color\":\"#AA0000\",\"size\":12},\"name\":\"SF\",\"x\":[4.756756756756757],\"y\":[5.166666666666667],\"type\":\"scatter\"},{\"marker\":{\"color\":\"#A71930\",\"size\":12},\"name\":\"TB\",\"x\":[4.935483870967742],\"y\":[6.724137931034483],\"type\":\"scatter\"},{\"marker\":{\"color\":\"#002244\",\"size\":12},\"name\":\"TEN\",\"x\":[3.576923076923077],\"y\":[8.06060606060606],\"type\":\"scatter\"},{\"marker\":{\"color\":\"#5A1414\",\"size\":12},\"name\":\"WAS\",\"x\":[3.48],\"y\":[6.9772727272727275],\"type\":\"scatter\"}],                        {\"template\":{\"data\":{\"histogram2dcontour\":[{\"type\":\"histogram2dcontour\",\"colorbar\":{\"outlinewidth\":0,\"ticks\":\"\"},\"colorscale\":[[0.0,\"#0d0887\"],[0.1111111111111111,\"#46039f\"],[0.2222222222222222,\"#7201a8\"],[0.3333333333333333,\"#9c179e\"],[0.4444444444444444,\"#bd3786\"],[0.5555555555555556,\"#d8576b\"],[0.6666666666666666,\"#ed7953\"],[0.7777777777777778,\"#fb9f3a\"],[0.8888888888888888,\"#fdca26\"],[1.0,\"#f0f921\"]]}],\"choropleth\":[{\"type\":\"choropleth\",\"colorbar\":{\"outlinewidth\":0,\"ticks\":\"\"}}],\"histogram2d\":[{\"type\":\"histogram2d\",\"colorbar\":{\"outlinewidth\":0,\"ticks\":\"\"},\"colorscale\":[[0.0,\"#0d0887\"],[0.1111111111111111,\"#46039f\"],[0.2222222222222222,\"#7201a8\"],[0.3333333333333333,\"#9c179e\"],[0.4444444444444444,\"#bd3786\"],[0.5555555555555556,\"#d8576b\"],[0.6666666666666666,\"#ed7953\"],[0.7777777777777778,\"#fb9f3a\"],[0.8888888888888888,\"#fdca26\"],[1.0,\"#f0f921\"]]}],\"heatmap\":[{\"type\":\"heatmap\",\"colorbar\":{\"outlinewidth\":0,\"ticks\":\"\"},\"colorscale\":[[0.0,\"#0d0887\"],[0.1111111111111111,\"#46039f\"],[0.2222222222222222,\"#7201a8\"],[0.3333333333333333,\"#9c179e\"],[0.4444444444444444,\"#bd3786\"],[0.5555555555555556,\"#d8576b\"],[0.6666666666666666,\"#ed7953\"],[0.7777777777777778,\"#fb9f3a\"],[0.8888888888888888,\"#fdca26\"],[1.0,\"#f0f921\"]]}],\"heatmapgl\":[{\"type\":\"heatmapgl\",\"colorbar\":{\"outlinewidth\":0,\"ticks\":\"\"},\"colorscale\":[[0.0,\"#0d0887\"],[0.1111111111111111,\"#46039f\"],[0.2222222222222222,\"#7201a8\"],[0.3333333333333333,\"#9c179e\"],[0.4444444444444444,\"#bd3786\"],[0.5555555555555556,\"#d8576b\"],[0.6666666666666666,\"#ed7953\"],[0.7777777777777778,\"#fb9f3a\"],[0.8888888888888888,\"#fdca26\"],[1.0,\"#f0f921\"]]}],\"contourcarpet\":[{\"type\":\"contourcarpet\",\"colorbar\":{\"outlinewidth\":0,\"ticks\":\"\"}}],\"contour\":[{\"type\":\"contour\",\"colorbar\":{\"outlinewidth\":0,\"ticks\":\"\"},\"colorscale\":[[0.0,\"#0d0887\"],[0.1111111111111111,\"#46039f\"],[0.2222222222222222,\"#7201a8\"],[0.3333333333333333,\"#9c179e\"],[0.4444444444444444,\"#bd3786\"],[0.5555555555555556,\"#d8576b\"],[0.6666666666666666,\"#ed7953\"],[0.7777777777777778,\"#fb9f3a\"],[0.8888888888888888,\"#fdca26\"],[1.0,\"#f0f921\"]]}],\"surface\":[{\"type\":\"surface\",\"colorbar\":{\"outlinewidth\":0,\"ticks\":\"\"},\"colorscale\":[[0.0,\"#0d0887\"],[0.1111111111111111,\"#46039f\"],[0.2222222222222222,\"#7201a8\"],[0.3333333333333333,\"#9c179e\"],[0.4444444444444444,\"#bd3786\"],[0.5555555555555556,\"#d8576b\"],[0.6666666666666666,\"#ed7953\"],[0.7777777777777778,\"#fb9f3a\"],[0.8888888888888888,\"#fdca26\"],[1.0,\"#f0f921\"]]}],\"mesh3d\":[{\"type\":\"mesh3d\",\"colorbar\":{\"outlinewidth\":0,\"ticks\":\"\"}}],\"scatter\":[{\"fillpattern\":{\"fillmode\":\"overlay\",\"size\":10,\"solidity\":0.2},\"type\":\"scatter\"}],\"parcoords\":[{\"type\":\"parcoords\",\"line\":{\"colorbar\":{\"outlinewidth\":0,\"ticks\":\"\"}}}],\"scatterpolargl\":[{\"type\":\"scatterpolargl\",\"marker\":{\"colorbar\":{\"outlinewidth\":0,\"ticks\":\"\"}}}],\"bar\":[{\"error_x\":{\"color\":\"#2a3f5f\"},\"error_y\":{\"color\":\"#2a3f5f\"},\"marker\":{\"line\":{\"color\":\"#E5ECF6\",\"width\":0.5},\"pattern\":{\"fillmode\":\"overlay\",\"size\":10,\"solidity\":0.2}},\"type\":\"bar\"}],\"scattergeo\":[{\"type\":\"scattergeo\",\"marker\":{\"colorbar\":{\"outlinewidth\":0,\"ticks\":\"\"}}}],\"scatterpolar\":[{\"type\":\"scatterpolar\",\"marker\":{\"colorbar\":{\"outlinewidth\":0,\"ticks\":\"\"}}}],\"histogram\":[{\"marker\":{\"pattern\":{\"fillmode\":\"overlay\",\"size\":10,\"solidity\":0.2}},\"type\":\"histogram\"}],\"scattergl\":[{\"type\":\"scattergl\",\"marker\":{\"colorbar\":{\"outlinewidth\":0,\"ticks\":\"\"}}}],\"scatter3d\":[{\"type\":\"scatter3d\",\"line\":{\"colorbar\":{\"outlinewidth\":0,\"ticks\":\"\"}},\"marker\":{\"colorbar\":{\"outlinewidth\":0,\"ticks\":\"\"}}}],\"scattermapbox\":[{\"type\":\"scattermapbox\",\"marker\":{\"colorbar\":{\"outlinewidth\":0,\"ticks\":\"\"}}}],\"scatterternary\":[{\"type\":\"scatterternary\",\"marker\":{\"colorbar\":{\"outlinewidth\":0,\"ticks\":\"\"}}}],\"scattercarpet\":[{\"type\":\"scattercarpet\",\"marker\":{\"colorbar\":{\"outlinewidth\":0,\"ticks\":\"\"}}}],\"carpet\":[{\"aaxis\":{\"endlinecolor\":\"#2a3f5f\",\"gridcolor\":\"white\",\"linecolor\":\"white\",\"minorgridcolor\":\"white\",\"startlinecolor\":\"#2a3f5f\"},\"baxis\":{\"endlinecolor\":\"#2a3f5f\",\"gridcolor\":\"white\",\"linecolor\":\"white\",\"minorgridcolor\":\"white\",\"startlinecolor\":\"#2a3f5f\"},\"type\":\"carpet\"}],\"table\":[{\"cells\":{\"fill\":{\"color\":\"#EBF0F8\"},\"line\":{\"color\":\"white\"}},\"header\":{\"fill\":{\"color\":\"#C8D4E3\"},\"line\":{\"color\":\"white\"}},\"type\":\"table\"}],\"barpolar\":[{\"marker\":{\"line\":{\"color\":\"#E5ECF6\",\"width\":0.5},\"pattern\":{\"fillmode\":\"overlay\",\"size\":10,\"solidity\":0.2}},\"type\":\"barpolar\"}],\"pie\":[{\"automargin\":true,\"type\":\"pie\"}]},\"layout\":{\"autotypenumbers\":\"strict\",\"colorway\":[\"#636efa\",\"#EF553B\",\"#00cc96\",\"#ab63fa\",\"#FFA15A\",\"#19d3f3\",\"#FF6692\",\"#B6E880\",\"#FF97FF\",\"#FECB52\"],\"font\":{\"color\":\"#2a3f5f\"},\"hovermode\":\"closest\",\"hoverlabel\":{\"align\":\"left\"},\"paper_bgcolor\":\"white\",\"plot_bgcolor\":\"#E5ECF6\",\"polar\":{\"bgcolor\":\"#E5ECF6\",\"angularaxis\":{\"gridcolor\":\"white\",\"linecolor\":\"white\",\"ticks\":\"\"},\"radialaxis\":{\"gridcolor\":\"white\",\"linecolor\":\"white\",\"ticks\":\"\"}},\"ternary\":{\"bgcolor\":\"#E5ECF6\",\"aaxis\":{\"gridcolor\":\"white\",\"linecolor\":\"white\",\"ticks\":\"\"},\"baxis\":{\"gridcolor\":\"white\",\"linecolor\":\"white\",\"ticks\":\"\"},\"caxis\":{\"gridcolor\":\"white\",\"linecolor\":\"white\",\"ticks\":\"\"}},\"coloraxis\":{\"colorbar\":{\"outlinewidth\":0,\"ticks\":\"\"}},\"colorscale\":{\"sequential\":[[0.0,\"#0d0887\"],[0.1111111111111111,\"#46039f\"],[0.2222222222222222,\"#7201a8\"],[0.3333333333333333,\"#9c179e\"],[0.4444444444444444,\"#bd3786\"],[0.5555555555555556,\"#d8576b\"],[0.6666666666666666,\"#ed7953\"],[0.7777777777777778,\"#fb9f3a\"],[0.8888888888888888,\"#fdca26\"],[1.0,\"#f0f921\"]],\"sequentialminus\":[[0.0,\"#0d0887\"],[0.1111111111111111,\"#46039f\"],[0.2222222222222222,\"#7201a8\"],[0.3333333333333333,\"#9c179e\"],[0.4444444444444444,\"#bd3786\"],[0.5555555555555556,\"#d8576b\"],[0.6666666666666666,\"#ed7953\"],[0.7777777777777778,\"#fb9f3a\"],[0.8888888888888888,\"#fdca26\"],[1.0,\"#f0f921\"]],\"diverging\":[[0,\"#8e0152\"],[0.1,\"#c51b7d\"],[0.2,\"#de77ae\"],[0.3,\"#f1b6da\"],[0.4,\"#fde0ef\"],[0.5,\"#f7f7f7\"],[0.6,\"#e6f5d0\"],[0.7,\"#b8e186\"],[0.8,\"#7fbc41\"],[0.9,\"#4d9221\"],[1,\"#276419\"]]},\"xaxis\":{\"gridcolor\":\"white\",\"linecolor\":\"white\",\"ticks\":\"\",\"title\":{\"standoff\":15},\"zerolinecolor\":\"white\",\"automargin\":true,\"zerolinewidth\":2},\"yaxis\":{\"gridcolor\":\"white\",\"linecolor\":\"white\",\"ticks\":\"\",\"title\":{\"standoff\":15},\"zerolinecolor\":\"white\",\"automargin\":true,\"zerolinewidth\":2},\"scene\":{\"xaxis\":{\"backgroundcolor\":\"#E5ECF6\",\"gridcolor\":\"white\",\"linecolor\":\"white\",\"showbackground\":true,\"ticks\":\"\",\"zerolinecolor\":\"white\",\"gridwidth\":2},\"yaxis\":{\"backgroundcolor\":\"#E5ECF6\",\"gridcolor\":\"white\",\"linecolor\":\"white\",\"showbackground\":true,\"ticks\":\"\",\"zerolinecolor\":\"white\",\"gridwidth\":2},\"zaxis\":{\"backgroundcolor\":\"#E5ECF6\",\"gridcolor\":\"white\",\"linecolor\":\"white\",\"showbackground\":true,\"ticks\":\"\",\"zerolinecolor\":\"white\",\"gridwidth\":2}},\"shapedefaults\":{\"line\":{\"color\":\"#2a3f5f\"}},\"annotationdefaults\":{\"arrowcolor\":\"#2a3f5f\",\"arrowhead\":0,\"arrowwidth\":1},\"geo\":{\"bgcolor\":\"white\",\"landcolor\":\"#E5ECF6\",\"subunitcolor\":\"white\",\"showland\":true,\"showlakes\":true,\"lakecolor\":\"white\"},\"title\":{\"x\":0.05},\"mapbox\":{\"style\":\"light\"}}},\"font\":{\"family\":\"Averta, sans-serif\"},\"hoverlabel\":{\"font\":{\"family\":\"Averta, sans-serif\",\"size\":16}},\"xaxis\":{\"title\":{\"font\":{\"size\":18},\"text\":\"Yards per Run\"},\"tickfont\":{\"size\":16}},\"yaxis\":{\"title\":{\"font\":{\"size\":18},\"text\":\"Yards per Pass\"},\"tickfont\":{\"size\":16}},\"legend\":{\"font\":{\"size\":16}},\"title\":{\"text\":\"Run vs Pass Yards\"},\"height\":1000,\"width\":1000},                        {\"responsive\": true}                    ).then(function(){\n",
       "                            \n",
       "var gd = document.getElementById('e827a5cb-fb7a-43c5-8650-6c6f3c633e5c');\n",
       "var x = new MutationObserver(function (mutations, observer) {{\n",
       "        var display = window.getComputedStyle(gd).display;\n",
       "        if (!display || display === 'none') {{\n",
       "            console.log([gd, 'removed!']);\n",
       "            Plotly.purge(gd);\n",
       "            observer.disconnect();\n",
       "        }}\n",
       "}});\n",
       "\n",
       "// Listen for the removal of the full notebook cells\n",
       "var notebookContainer = gd.closest('#notebook-container');\n",
       "if (notebookContainer) {{\n",
       "    x.observe(notebookContainer, {childList: true});\n",
       "}}\n",
       "\n",
       "// Listen for the clearing of the current output cell\n",
       "var outputEl = gd.closest('.output');\n",
       "if (outputEl) {{\n",
       "    x.observe(outputEl, {childList: true});\n",
       "}}\n",
       "\n",
       "                        })                };                });            </script>        </div>"
      ]
     },
     "metadata": {},
     "output_type": "display_data"
    }
   ],
   "source": [
    "fig = go.Figure()\n",
    "for i in range(len(df_run_pass)):\n",
    "    fig.add_trace(\n",
    "        go.Scatter(\n",
    "            x=[df_run_pass['yds_per_run'][i]], \n",
    "            y=[df_run_pass['yds_per_pass_attempt'][i]], \n",
    "            name=df_run_pass['posteam'][i], \n",
    "            # mode=\"markers\", \n",
    "            marker=dict(size=12,\n",
    "                        color=df_run_pass['team_color'][i])\n",
    "            # fill=df_run_pass['team_color'][i],\n",
    "            # hovertemplate=f\"<b>{name}</b><br>%{{y}} yds through week %{{x}}<extra></extra>\"\n",
    "        )\n",
    "    )\n",
    "    \n",
    "fig.update_layout(\n",
    "    font_family=\"Averta, sans-serif\",\n",
    "    hoverlabel_font_family=\"Averta, sans-serif\",\n",
    "    title='Run vs Pass Yards',\n",
    "    xaxis_title_text=\"Yards per Run\",\n",
    "    xaxis_title_font_size=18,\n",
    "    xaxis_tickfont_size=16,\n",
    "    yaxis_title_text=\"Yards per Pass\",\n",
    "    yaxis_title_font_size=18,\n",
    "    yaxis_tickfont_size=16,\n",
    "    hoverlabel_font_size=16,\n",
    "    legend_font_size=16,\n",
    "    height=1000,\n",
    "    width=1000\n",
    ")\n",
    "        \n",
    "fig.show()"
   ]
  },
  {
   "cell_type": "code",
   "execution_count": 180,
   "id": "6f11fe05-c5e8-4a71-a5aa-323a5966c7fb",
   "metadata": {},
   "outputs": [
    {
     "data": {
      "application/vnd.plotly.v1+json": {
       "config": {
        "plotlyServerURL": "https://plot.ly"
       },
       "data": [
        {
         "marker": {
          "color": "#97233F",
          "size": 12
         },
         "name": "ARI",
         "type": "scatter",
         "x": [
          4.340040241448692
         ],
         "y": [
          0.7428998505231689
         ]
        },
        {
         "marker": {
          "color": "#A71930",
          "size": 12
         },
         "name": "ATL",
         "type": "scatter",
         "x": [
          3.8098958333333335
         ],
         "y": [
          0.6254071661237784
         ]
        },
        {
         "marker": {
          "color": "#241773",
          "size": 12
         },
         "name": "BAL",
         "type": "scatter",
         "x": [
          4.886051080550098
         ],
         "y": [
          0.7619760479041916
         ]
        },
        {
         "marker": {
          "color": "#00338D",
          "size": 12
         },
         "name": "BUF",
         "type": "scatter",
         "x": [
          5.153374233128834
         ],
         "y": [
          0.6511318242343542
         ]
        },
        {
         "marker": {
          "color": "#0085CA",
          "size": 12
         },
         "name": "CAR",
         "type": "scatter",
         "x": [
          4.1591928251121075
         ],
         "y": [
          0.6830015313935681
         ]
        },
        {
         "marker": {
          "color": "#0B162A",
          "size": 12
         },
         "name": "CHI",
         "type": "scatter",
         "x": [
          4.358369098712446
         ],
         "y": [
          0.7753743760399334
         ]
        },
        {
         "marker": {
          "color": "#FB4F14",
          "size": 12
         },
         "name": "CIN",
         "type": "scatter",
         "x": [
          4.083657587548638
         ],
         "y": [
          0.6658031088082902
         ]
        },
        {
         "marker": {
          "color": "#FF3C00",
          "size": 12
         },
         "name": "CLE",
         "type": "scatter",
         "x": [
          5.242616033755274
         ],
         "y": [
          0.8330404217926186
         ]
        },
        {
         "marker": {
          "color": "#002244",
          "size": 12
         },
         "name": "DAL",
         "type": "scatter",
         "x": [
          4.649269311064718
         ],
         "y": [
          0.6534788540245566
         ]
        },
        {
         "marker": {
          "color": "#002244",
          "size": 12
         },
         "name": "DEN",
         "type": "scatter",
         "x": [
          4.523385300668151
         ],
         "y": [
          0.7701543739279588
         ]
        },
        {
         "marker": {
          "color": "#0076B6",
          "size": 12
         },
         "name": "DET",
         "type": "scatter",
         "x": [
          4.429577464788732
         ],
         "y": [
          0.6761904761904762
         ]
        },
        {
         "marker": {
          "color": "#203731",
          "size": 12
         },
         "name": "GB",
         "type": "scatter",
         "x": [
          4.449664429530201
         ],
         "y": [
          0.6793313069908815
         ]
        },
        {
         "marker": {
          "color": "#03202F",
          "size": 12
         },
         "name": "HOU",
         "type": "scatter",
         "x": [
          3.416267942583732
         ],
         "y": [
          0.7108843537414966
         ]
        },
        {
         "marker": {
          "color": "#002C5F",
          "size": 12
         },
         "name": "IND",
         "type": "scatter",
         "x": [
          5.24435318275154
         ],
         "y": [
          0.874326750448833
         ]
        },
        {
         "marker": {
          "color": "#006778",
          "size": 12
         },
         "name": "JAX",
         "type": "scatter",
         "x": [
          4.569948186528498
         ],
         "y": [
          0.6050156739811913
         ]
        },
        {
         "marker": {
          "color": "#E31837",
          "size": 12
         },
         "name": "KC",
         "type": "scatter",
         "x": [
          4.956701030927835
         ],
         "y": [
          0.5801435406698564
         ]
        },
        {
         "marker": {
          "color": "#003594",
          "size": 12
         },
         "name": "LA",
         "type": "scatter",
         "x": [
          3.9210019267822736
         ],
         "y": [
          0.6569620253164556
         ]
        },
        {
         "marker": {
          "color": "#007BC7",
          "size": 12
         },
         "name": "LAC",
         "type": "scatter",
         "x": [
          4.5036496350364965
         ],
         "y": [
          0.577247191011236
         ]
        },
        {
         "marker": {
          "color": "#000000",
          "size": 12
         },
         "name": "LV",
         "type": "scatter",
         "x": [
          4.138755980861244
         ],
         "y": [
          0.5773480662983426
         ]
        },
        {
         "marker": {
          "color": "#008E97",
          "size": 12
         },
         "name": "MIA",
         "type": "scatter",
         "x": [
          3.6806526806526807
         ],
         "y": [
          0.6539634146341463
         ]
        },
        {
         "marker": {
          "color": "#4F2683",
          "size": 12
         },
         "name": "MIN",
         "type": "scatter",
         "x": [
          4.385135135135135
         ],
         "y": [
          0.7025316455696202
         ]
        },
        {
         "marker": {
          "color": "#002244",
          "size": 12
         },
         "name": "NE",
         "type": "scatter",
         "x": [
          4.604462474645031
         ],
         "y": [
          0.8162251655629139
         ]
        },
        {
         "marker": {
          "color": "#D3BC8D",
          "size": 12
         },
         "name": "NO",
         "type": "scatter",
         "x": [
          4.036217303822937
         ],
         "y": [
          0.9152854511970534
         ]
        },
        {
         "marker": {
          "color": "#0B2265",
          "size": 12
         },
         "name": "NYG",
         "type": "scatter",
         "x": [
          4.123486682808717
         ],
         "y": [
          0.6565977742448331
         ]
        },
        {
         "marker": {
          "color": "#003F2D",
          "size": 12
         },
         "name": "NYJ",
         "type": "scatter",
         "x": [
          4.468085106382978
         ],
         "y": [
          0.5696969696969697
         ]
        },
        {
         "marker": {
          "color": "#004C54",
          "size": 12
         },
         "name": "PHI",
         "type": "scatter",
         "x": [
          5.073608617594255
         ],
         "y": [
          0.9720767888307156
         ]
        },
        {
         "marker": {
          "color": "#000000",
          "size": 12
         },
         "name": "PIT",
         "type": "scatter",
         "x": [
          3.9735576923076925
         ],
         "y": [
          0.5546666666666666
         ]
        },
        {
         "marker": {
          "color": "#002244",
          "size": 12
         },
         "name": "SEA",
         "type": "scatter",
         "x": [
          5.1382716049382715
         ],
         "y": [
          0.7472324723247232
         ]
        },
        {
         "marker": {
          "color": "#AA0000",
          "size": 12
         },
         "name": "SF",
         "type": "scatter",
         "x": [
          4.37696335078534
         ],
         "y": [
          0.9197431781701445
         ]
        },
        {
         "marker": {
          "color": "#A71930",
          "size": 12
         },
         "name": "TB",
         "type": "scatter",
         "x": [
          4.483009708737864
         ],
         "y": [
          0.48413631022326675
         ]
        },
        {
         "marker": {
          "color": "#002244",
          "size": 12
         },
         "name": "TEN",
         "type": "scatter",
         "x": [
          4.532743362831859
         ],
         "y": [
          0.9308072487644151
         ]
        },
        {
         "marker": {
          "color": "#5A1414",
          "size": 12
         },
         "name": "WAS",
         "type": "scatter",
         "x": [
          4.3940677966101696
         ],
         "y": [
          0.7946127946127947
         ]
        }
       ],
       "layout": {
        "font": {
         "family": "Averta, sans-serif"
        },
        "height": 600,
        "hoverlabel": {
         "font": {
          "family": "Averta, sans-serif",
          "size": 16
         }
        },
        "legend": {
         "font": {
          "size": 16
         }
        },
        "template": {
         "data": {
          "bar": [
           {
            "error_x": {
             "color": "#2a3f5f"
            },
            "error_y": {
             "color": "#2a3f5f"
            },
            "marker": {
             "line": {
              "color": "#E5ECF6",
              "width": 0.5
             },
             "pattern": {
              "fillmode": "overlay",
              "size": 10,
              "solidity": 0.2
             }
            },
            "type": "bar"
           }
          ],
          "barpolar": [
           {
            "marker": {
             "line": {
              "color": "#E5ECF6",
              "width": 0.5
             },
             "pattern": {
              "fillmode": "overlay",
              "size": 10,
              "solidity": 0.2
             }
            },
            "type": "barpolar"
           }
          ],
          "carpet": [
           {
            "aaxis": {
             "endlinecolor": "#2a3f5f",
             "gridcolor": "white",
             "linecolor": "white",
             "minorgridcolor": "white",
             "startlinecolor": "#2a3f5f"
            },
            "baxis": {
             "endlinecolor": "#2a3f5f",
             "gridcolor": "white",
             "linecolor": "white",
             "minorgridcolor": "white",
             "startlinecolor": "#2a3f5f"
            },
            "type": "carpet"
           }
          ],
          "choropleth": [
           {
            "colorbar": {
             "outlinewidth": 0,
             "ticks": ""
            },
            "type": "choropleth"
           }
          ],
          "contour": [
           {
            "colorbar": {
             "outlinewidth": 0,
             "ticks": ""
            },
            "colorscale": [
             [
              0,
              "#0d0887"
             ],
             [
              0.1111111111111111,
              "#46039f"
             ],
             [
              0.2222222222222222,
              "#7201a8"
             ],
             [
              0.3333333333333333,
              "#9c179e"
             ],
             [
              0.4444444444444444,
              "#bd3786"
             ],
             [
              0.5555555555555556,
              "#d8576b"
             ],
             [
              0.6666666666666666,
              "#ed7953"
             ],
             [
              0.7777777777777778,
              "#fb9f3a"
             ],
             [
              0.8888888888888888,
              "#fdca26"
             ],
             [
              1,
              "#f0f921"
             ]
            ],
            "type": "contour"
           }
          ],
          "contourcarpet": [
           {
            "colorbar": {
             "outlinewidth": 0,
             "ticks": ""
            },
            "type": "contourcarpet"
           }
          ],
          "heatmap": [
           {
            "colorbar": {
             "outlinewidth": 0,
             "ticks": ""
            },
            "colorscale": [
             [
              0,
              "#0d0887"
             ],
             [
              0.1111111111111111,
              "#46039f"
             ],
             [
              0.2222222222222222,
              "#7201a8"
             ],
             [
              0.3333333333333333,
              "#9c179e"
             ],
             [
              0.4444444444444444,
              "#bd3786"
             ],
             [
              0.5555555555555556,
              "#d8576b"
             ],
             [
              0.6666666666666666,
              "#ed7953"
             ],
             [
              0.7777777777777778,
              "#fb9f3a"
             ],
             [
              0.8888888888888888,
              "#fdca26"
             ],
             [
              1,
              "#f0f921"
             ]
            ],
            "type": "heatmap"
           }
          ],
          "heatmapgl": [
           {
            "colorbar": {
             "outlinewidth": 0,
             "ticks": ""
            },
            "colorscale": [
             [
              0,
              "#0d0887"
             ],
             [
              0.1111111111111111,
              "#46039f"
             ],
             [
              0.2222222222222222,
              "#7201a8"
             ],
             [
              0.3333333333333333,
              "#9c179e"
             ],
             [
              0.4444444444444444,
              "#bd3786"
             ],
             [
              0.5555555555555556,
              "#d8576b"
             ],
             [
              0.6666666666666666,
              "#ed7953"
             ],
             [
              0.7777777777777778,
              "#fb9f3a"
             ],
             [
              0.8888888888888888,
              "#fdca26"
             ],
             [
              1,
              "#f0f921"
             ]
            ],
            "type": "heatmapgl"
           }
          ],
          "histogram": [
           {
            "marker": {
             "pattern": {
              "fillmode": "overlay",
              "size": 10,
              "solidity": 0.2
             }
            },
            "type": "histogram"
           }
          ],
          "histogram2d": [
           {
            "colorbar": {
             "outlinewidth": 0,
             "ticks": ""
            },
            "colorscale": [
             [
              0,
              "#0d0887"
             ],
             [
              0.1111111111111111,
              "#46039f"
             ],
             [
              0.2222222222222222,
              "#7201a8"
             ],
             [
              0.3333333333333333,
              "#9c179e"
             ],
             [
              0.4444444444444444,
              "#bd3786"
             ],
             [
              0.5555555555555556,
              "#d8576b"
             ],
             [
              0.6666666666666666,
              "#ed7953"
             ],
             [
              0.7777777777777778,
              "#fb9f3a"
             ],
             [
              0.8888888888888888,
              "#fdca26"
             ],
             [
              1,
              "#f0f921"
             ]
            ],
            "type": "histogram2d"
           }
          ],
          "histogram2dcontour": [
           {
            "colorbar": {
             "outlinewidth": 0,
             "ticks": ""
            },
            "colorscale": [
             [
              0,
              "#0d0887"
             ],
             [
              0.1111111111111111,
              "#46039f"
             ],
             [
              0.2222222222222222,
              "#7201a8"
             ],
             [
              0.3333333333333333,
              "#9c179e"
             ],
             [
              0.4444444444444444,
              "#bd3786"
             ],
             [
              0.5555555555555556,
              "#d8576b"
             ],
             [
              0.6666666666666666,
              "#ed7953"
             ],
             [
              0.7777777777777778,
              "#fb9f3a"
             ],
             [
              0.8888888888888888,
              "#fdca26"
             ],
             [
              1,
              "#f0f921"
             ]
            ],
            "type": "histogram2dcontour"
           }
          ],
          "mesh3d": [
           {
            "colorbar": {
             "outlinewidth": 0,
             "ticks": ""
            },
            "type": "mesh3d"
           }
          ],
          "parcoords": [
           {
            "line": {
             "colorbar": {
              "outlinewidth": 0,
              "ticks": ""
             }
            },
            "type": "parcoords"
           }
          ],
          "pie": [
           {
            "automargin": true,
            "type": "pie"
           }
          ],
          "scatter": [
           {
            "fillpattern": {
             "fillmode": "overlay",
             "size": 10,
             "solidity": 0.2
            },
            "type": "scatter"
           }
          ],
          "scatter3d": [
           {
            "line": {
             "colorbar": {
              "outlinewidth": 0,
              "ticks": ""
             }
            },
            "marker": {
             "colorbar": {
              "outlinewidth": 0,
              "ticks": ""
             }
            },
            "type": "scatter3d"
           }
          ],
          "scattercarpet": [
           {
            "marker": {
             "colorbar": {
              "outlinewidth": 0,
              "ticks": ""
             }
            },
            "type": "scattercarpet"
           }
          ],
          "scattergeo": [
           {
            "marker": {
             "colorbar": {
              "outlinewidth": 0,
              "ticks": ""
             }
            },
            "type": "scattergeo"
           }
          ],
          "scattergl": [
           {
            "marker": {
             "colorbar": {
              "outlinewidth": 0,
              "ticks": ""
             }
            },
            "type": "scattergl"
           }
          ],
          "scattermapbox": [
           {
            "marker": {
             "colorbar": {
              "outlinewidth": 0,
              "ticks": ""
             }
            },
            "type": "scattermapbox"
           }
          ],
          "scatterpolar": [
           {
            "marker": {
             "colorbar": {
              "outlinewidth": 0,
              "ticks": ""
             }
            },
            "type": "scatterpolar"
           }
          ],
          "scatterpolargl": [
           {
            "marker": {
             "colorbar": {
              "outlinewidth": 0,
              "ticks": ""
             }
            },
            "type": "scatterpolargl"
           }
          ],
          "scatterternary": [
           {
            "marker": {
             "colorbar": {
              "outlinewidth": 0,
              "ticks": ""
             }
            },
            "type": "scatterternary"
           }
          ],
          "surface": [
           {
            "colorbar": {
             "outlinewidth": 0,
             "ticks": ""
            },
            "colorscale": [
             [
              0,
              "#0d0887"
             ],
             [
              0.1111111111111111,
              "#46039f"
             ],
             [
              0.2222222222222222,
              "#7201a8"
             ],
             [
              0.3333333333333333,
              "#9c179e"
             ],
             [
              0.4444444444444444,
              "#bd3786"
             ],
             [
              0.5555555555555556,
              "#d8576b"
             ],
             [
              0.6666666666666666,
              "#ed7953"
             ],
             [
              0.7777777777777778,
              "#fb9f3a"
             ],
             [
              0.8888888888888888,
              "#fdca26"
             ],
             [
              1,
              "#f0f921"
             ]
            ],
            "type": "surface"
           }
          ],
          "table": [
           {
            "cells": {
             "fill": {
              "color": "#EBF0F8"
             },
             "line": {
              "color": "white"
             }
            },
            "header": {
             "fill": {
              "color": "#C8D4E3"
             },
             "line": {
              "color": "white"
             }
            },
            "type": "table"
           }
          ]
         },
         "layout": {
          "annotationdefaults": {
           "arrowcolor": "#2a3f5f",
           "arrowhead": 0,
           "arrowwidth": 1
          },
          "autotypenumbers": "strict",
          "coloraxis": {
           "colorbar": {
            "outlinewidth": 0,
            "ticks": ""
           }
          },
          "colorscale": {
           "diverging": [
            [
             0,
             "#8e0152"
            ],
            [
             0.1,
             "#c51b7d"
            ],
            [
             0.2,
             "#de77ae"
            ],
            [
             0.3,
             "#f1b6da"
            ],
            [
             0.4,
             "#fde0ef"
            ],
            [
             0.5,
             "#f7f7f7"
            ],
            [
             0.6,
             "#e6f5d0"
            ],
            [
             0.7,
             "#b8e186"
            ],
            [
             0.8,
             "#7fbc41"
            ],
            [
             0.9,
             "#4d9221"
            ],
            [
             1,
             "#276419"
            ]
           ],
           "sequential": [
            [
             0,
             "#0d0887"
            ],
            [
             0.1111111111111111,
             "#46039f"
            ],
            [
             0.2222222222222222,
             "#7201a8"
            ],
            [
             0.3333333333333333,
             "#9c179e"
            ],
            [
             0.4444444444444444,
             "#bd3786"
            ],
            [
             0.5555555555555556,
             "#d8576b"
            ],
            [
             0.6666666666666666,
             "#ed7953"
            ],
            [
             0.7777777777777778,
             "#fb9f3a"
            ],
            [
             0.8888888888888888,
             "#fdca26"
            ],
            [
             1,
             "#f0f921"
            ]
           ],
           "sequentialminus": [
            [
             0,
             "#0d0887"
            ],
            [
             0.1111111111111111,
             "#46039f"
            ],
            [
             0.2222222222222222,
             "#7201a8"
            ],
            [
             0.3333333333333333,
             "#9c179e"
            ],
            [
             0.4444444444444444,
             "#bd3786"
            ],
            [
             0.5555555555555556,
             "#d8576b"
            ],
            [
             0.6666666666666666,
             "#ed7953"
            ],
            [
             0.7777777777777778,
             "#fb9f3a"
            ],
            [
             0.8888888888888888,
             "#fdca26"
            ],
            [
             1,
             "#f0f921"
            ]
           ]
          },
          "colorway": [
           "#636efa",
           "#EF553B",
           "#00cc96",
           "#ab63fa",
           "#FFA15A",
           "#19d3f3",
           "#FF6692",
           "#B6E880",
           "#FF97FF",
           "#FECB52"
          ],
          "font": {
           "color": "#2a3f5f"
          },
          "geo": {
           "bgcolor": "white",
           "lakecolor": "white",
           "landcolor": "#E5ECF6",
           "showlakes": true,
           "showland": true,
           "subunitcolor": "white"
          },
          "hoverlabel": {
           "align": "left"
          },
          "hovermode": "closest",
          "mapbox": {
           "style": "light"
          },
          "paper_bgcolor": "white",
          "plot_bgcolor": "#E5ECF6",
          "polar": {
           "angularaxis": {
            "gridcolor": "white",
            "linecolor": "white",
            "ticks": ""
           },
           "bgcolor": "#E5ECF6",
           "radialaxis": {
            "gridcolor": "white",
            "linecolor": "white",
            "ticks": ""
           }
          },
          "scene": {
           "xaxis": {
            "backgroundcolor": "#E5ECF6",
            "gridcolor": "white",
            "gridwidth": 2,
            "linecolor": "white",
            "showbackground": true,
            "ticks": "",
            "zerolinecolor": "white"
           },
           "yaxis": {
            "backgroundcolor": "#E5ECF6",
            "gridcolor": "white",
            "gridwidth": 2,
            "linecolor": "white",
            "showbackground": true,
            "ticks": "",
            "zerolinecolor": "white"
           },
           "zaxis": {
            "backgroundcolor": "#E5ECF6",
            "gridcolor": "white",
            "gridwidth": 2,
            "linecolor": "white",
            "showbackground": true,
            "ticks": "",
            "zerolinecolor": "white"
           }
          },
          "shapedefaults": {
           "line": {
            "color": "#2a3f5f"
           }
          },
          "ternary": {
           "aaxis": {
            "gridcolor": "white",
            "linecolor": "white",
            "ticks": ""
           },
           "baxis": {
            "gridcolor": "white",
            "linecolor": "white",
            "ticks": ""
           },
           "bgcolor": "#E5ECF6",
           "caxis": {
            "gridcolor": "white",
            "linecolor": "white",
            "ticks": ""
           }
          },
          "title": {
           "x": 0.05
          },
          "xaxis": {
           "automargin": true,
           "gridcolor": "white",
           "linecolor": "white",
           "ticks": "",
           "title": {
            "standoff": 15
           },
           "zerolinecolor": "white",
           "zerolinewidth": 2
          },
          "yaxis": {
           "automargin": true,
           "gridcolor": "white",
           "linecolor": "white",
           "ticks": "",
           "title": {
            "standoff": 15
           },
           "zerolinecolor": "white",
           "zerolinewidth": 2
          }
         }
        },
        "width": 1000,
        "xaxis": {
         "autorange": true,
         "range": [
          3.2933983163561993,
          5.367222808979073
         ],
         "tickfont": {
          "size": 16
         },
         "title": {
          "font": {
           "size": 18
          },
          "text": "Yards per Run"
         },
         "type": "linear"
        },
        "yaxis": {
         "autorange": true,
         "range": [
          0.44582693380367366,
          1.0103861652503086
         ],
         "tickfont": {
          "size": 16
         },
         "title": {
          "font": {
           "size": 18
          },
          "text": "Run:Pass ratio"
         },
         "type": "linear"
        }
       }
      },
      "image/png": "[encoded data removed]",
      "text/html": [
       "<div>                            <div id=\"6925c877-2196-46d0-8c12-9d63de9e97ac\" class=\"plotly-graph-div\" style=\"height:600px; width:1000px;\"></div>            <script type=\"text/javascript\">                require([\"plotly\"], function(Plotly) {                    window.PLOTLYENV=window.PLOTLYENV || {};                                    if (document.getElementById(\"6925c877-2196-46d0-8c12-9d63de9e97ac\")) {                    Plotly.newPlot(                        \"6925c877-2196-46d0-8c12-9d63de9e97ac\",                        [{\"marker\":{\"color\":\"#97233F\",\"size\":12},\"name\":\"ARI\",\"x\":[4.340040241448692],\"y\":[0.7428998505231689],\"type\":\"scatter\"},{\"marker\":{\"color\":\"#A71930\",\"size\":12},\"name\":\"ATL\",\"x\":[3.8098958333333335],\"y\":[0.6254071661237784],\"type\":\"scatter\"},{\"marker\":{\"color\":\"#241773\",\"size\":12},\"name\":\"BAL\",\"x\":[4.886051080550098],\"y\":[0.7619760479041916],\"type\":\"scatter\"},{\"marker\":{\"color\":\"#00338D\",\"size\":12},\"name\":\"BUF\",\"x\":[5.153374233128834],\"y\":[0.6511318242343542],\"type\":\"scatter\"},{\"marker\":{\"color\":\"#0085CA\",\"size\":12},\"name\":\"CAR\",\"x\":[4.1591928251121075],\"y\":[0.6830015313935681],\"type\":\"scatter\"},{\"marker\":{\"color\":\"#0B162A\",\"size\":12},\"name\":\"CHI\",\"x\":[4.358369098712446],\"y\":[0.7753743760399334],\"type\":\"scatter\"},{\"marker\":{\"color\":\"#FB4F14\",\"size\":12},\"name\":\"CIN\",\"x\":[4.083657587548638],\"y\":[0.6658031088082902],\"type\":\"scatter\"},{\"marker\":{\"color\":\"#FF3C00\",\"size\":12},\"name\":\"CLE\",\"x\":[5.242616033755274],\"y\":[0.8330404217926186],\"type\":\"scatter\"},{\"marker\":{\"color\":\"#002244\",\"size\":12},\"name\":\"DAL\",\"x\":[4.649269311064718],\"y\":[0.6534788540245566],\"type\":\"scatter\"},{\"marker\":{\"color\":\"#002244\",\"size\":12},\"name\":\"DEN\",\"x\":[4.523385300668151],\"y\":[0.7701543739279588],\"type\":\"scatter\"},{\"marker\":{\"color\":\"#0076B6\",\"size\":12},\"name\":\"DET\",\"x\":[4.429577464788732],\"y\":[0.6761904761904762],\"type\":\"scatter\"},{\"marker\":{\"color\":\"#203731\",\"size\":12},\"name\":\"GB\",\"x\":[4.449664429530201],\"y\":[0.6793313069908815],\"type\":\"scatter\"},{\"marker\":{\"color\":\"#03202F\",\"size\":12},\"name\":\"HOU\",\"x\":[3.416267942583732],\"y\":[0.7108843537414966],\"type\":\"scatter\"},{\"marker\":{\"color\":\"#002C5F\",\"size\":12},\"name\":\"IND\",\"x\":[5.24435318275154],\"y\":[0.874326750448833],\"type\":\"scatter\"},{\"marker\":{\"color\":\"#006778\",\"size\":12},\"name\":\"JAX\",\"x\":[4.569948186528498],\"y\":[0.6050156739811913],\"type\":\"scatter\"},{\"marker\":{\"color\":\"#E31837\",\"size\":12},\"name\":\"KC\",\"x\":[4.956701030927835],\"y\":[0.5801435406698564],\"type\":\"scatter\"},{\"marker\":{\"color\":\"#003594\",\"size\":12},\"name\":\"LA\",\"x\":[3.9210019267822736],\"y\":[0.6569620253164556],\"type\":\"scatter\"},{\"marker\":{\"color\":\"#007BC7\",\"size\":12},\"name\":\"LAC\",\"x\":[4.5036496350364965],\"y\":[0.577247191011236],\"type\":\"scatter\"},{\"marker\":{\"color\":\"#000000\",\"size\":12},\"name\":\"LV\",\"x\":[4.138755980861244],\"y\":[0.5773480662983426],\"type\":\"scatter\"},{\"marker\":{\"color\":\"#008E97\",\"size\":12},\"name\":\"MIA\",\"x\":[3.6806526806526807],\"y\":[0.6539634146341463],\"type\":\"scatter\"},{\"marker\":{\"color\":\"#4F2683\",\"size\":12},\"name\":\"MIN\",\"x\":[4.385135135135135],\"y\":[0.7025316455696202],\"type\":\"scatter\"},{\"marker\":{\"color\":\"#002244\",\"size\":12},\"name\":\"NE\",\"x\":[4.604462474645031],\"y\":[0.8162251655629139],\"type\":\"scatter\"},{\"marker\":{\"color\":\"#D3BC8D\",\"size\":12},\"name\":\"NO\",\"x\":[4.036217303822937],\"y\":[0.9152854511970534],\"type\":\"scatter\"},{\"marker\":{\"color\":\"#0B2265\",\"size\":12},\"name\":\"NYG\",\"x\":[4.123486682808717],\"y\":[0.6565977742448331],\"type\":\"scatter\"},{\"marker\":{\"color\":\"#003F2D\",\"size\":12},\"name\":\"NYJ\",\"x\":[4.468085106382978],\"y\":[0.5696969696969697],\"type\":\"scatter\"},{\"marker\":{\"color\":\"#004C54\",\"size\":12},\"name\":\"PHI\",\"x\":[5.073608617594255],\"y\":[0.9720767888307156],\"type\":\"scatter\"},{\"marker\":{\"color\":\"#000000\",\"size\":12},\"name\":\"PIT\",\"x\":[3.9735576923076925],\"y\":[0.5546666666666666],\"type\":\"scatter\"},{\"marker\":{\"color\":\"#002244\",\"size\":12},\"name\":\"SEA\",\"x\":[5.1382716049382715],\"y\":[0.7472324723247232],\"type\":\"scatter\"},{\"marker\":{\"color\":\"#AA0000\",\"size\":12},\"name\":\"SF\",\"x\":[4.37696335078534],\"y\":[0.9197431781701445],\"type\":\"scatter\"},{\"marker\":{\"color\":\"#A71930\",\"size\":12},\"name\":\"TB\",\"x\":[4.483009708737864],\"y\":[0.48413631022326675],\"type\":\"scatter\"},{\"marker\":{\"color\":\"#002244\",\"size\":12},\"name\":\"TEN\",\"x\":[4.532743362831859],\"y\":[0.9308072487644151],\"type\":\"scatter\"},{\"marker\":{\"color\":\"#5A1414\",\"size\":12},\"name\":\"WAS\",\"x\":[4.3940677966101696],\"y\":[0.7946127946127947],\"type\":\"scatter\"}],                        {\"template\":{\"data\":{\"histogram2dcontour\":[{\"type\":\"histogram2dcontour\",\"colorbar\":{\"outlinewidth\":0,\"ticks\":\"\"},\"colorscale\":[[0.0,\"#0d0887\"],[0.1111111111111111,\"#46039f\"],[0.2222222222222222,\"#7201a8\"],[0.3333333333333333,\"#9c179e\"],[0.4444444444444444,\"#bd3786\"],[0.5555555555555556,\"#d8576b\"],[0.6666666666666666,\"#ed7953\"],[0.7777777777777778,\"#fb9f3a\"],[0.8888888888888888,\"#fdca26\"],[1.0,\"#f0f921\"]]}],\"choropleth\":[{\"type\":\"choropleth\",\"colorbar\":{\"outlinewidth\":0,\"ticks\":\"\"}}],\"histogram2d\":[{\"type\":\"histogram2d\",\"colorbar\":{\"outlinewidth\":0,\"ticks\":\"\"},\"colorscale\":[[0.0,\"#0d0887\"],[0.1111111111111111,\"#46039f\"],[0.2222222222222222,\"#7201a8\"],[0.3333333333333333,\"#9c179e\"],[0.4444444444444444,\"#bd3786\"],[0.5555555555555556,\"#d8576b\"],[0.6666666666666666,\"#ed7953\"],[0.7777777777777778,\"#fb9f3a\"],[0.8888888888888888,\"#fdca26\"],[1.0,\"#f0f921\"]]}],\"heatmap\":[{\"type\":\"heatmap\",\"colorbar\":{\"outlinewidth\":0,\"ticks\":\"\"},\"colorscale\":[[0.0,\"#0d0887\"],[0.1111111111111111,\"#46039f\"],[0.2222222222222222,\"#7201a8\"],[0.3333333333333333,\"#9c179e\"],[0.4444444444444444,\"#bd3786\"],[0.5555555555555556,\"#d8576b\"],[0.6666666666666666,\"#ed7953\"],[0.7777777777777778,\"#fb9f3a\"],[0.8888888888888888,\"#fdca26\"],[1.0,\"#f0f921\"]]}],\"heatmapgl\":[{\"type\":\"heatmapgl\",\"colorbar\":{\"outlinewidth\":0,\"ticks\":\"\"},\"colorscale\":[[0.0,\"#0d0887\"],[0.1111111111111111,\"#46039f\"],[0.2222222222222222,\"#7201a8\"],[0.3333333333333333,\"#9c179e\"],[0.4444444444444444,\"#bd3786\"],[0.5555555555555556,\"#d8576b\"],[0.6666666666666666,\"#ed7953\"],[0.7777777777777778,\"#fb9f3a\"],[0.8888888888888888,\"#fdca26\"],[1.0,\"#f0f921\"]]}],\"contourcarpet\":[{\"type\":\"contourcarpet\",\"colorbar\":{\"outlinewidth\":0,\"ticks\":\"\"}}],\"contour\":[{\"type\":\"contour\",\"colorbar\":{\"outlinewidth\":0,\"ticks\":\"\"},\"colorscale\":[[0.0,\"#0d0887\"],[0.1111111111111111,\"#46039f\"],[0.2222222222222222,\"#7201a8\"],[0.3333333333333333,\"#9c179e\"],[0.4444444444444444,\"#bd3786\"],[0.5555555555555556,\"#d8576b\"],[0.6666666666666666,\"#ed7953\"],[0.7777777777777778,\"#fb9f3a\"],[0.8888888888888888,\"#fdca26\"],[1.0,\"#f0f921\"]]}],\"surface\":[{\"type\":\"surface\",\"colorbar\":{\"outlinewidth\":0,\"ticks\":\"\"},\"colorscale\":[[0.0,\"#0d0887\"],[0.1111111111111111,\"#46039f\"],[0.2222222222222222,\"#7201a8\"],[0.3333333333333333,\"#9c179e\"],[0.4444444444444444,\"#bd3786\"],[0.5555555555555556,\"#d8576b\"],[0.6666666666666666,\"#ed7953\"],[0.7777777777777778,\"#fb9f3a\"],[0.8888888888888888,\"#fdca26\"],[1.0,\"#f0f921\"]]}],\"mesh3d\":[{\"type\":\"mesh3d\",\"colorbar\":{\"outlinewidth\":0,\"ticks\":\"\"}}],\"scatter\":[{\"fillpattern\":{\"fillmode\":\"overlay\",\"size\":10,\"solidity\":0.2},\"type\":\"scatter\"}],\"parcoords\":[{\"type\":\"parcoords\",\"line\":{\"colorbar\":{\"outlinewidth\":0,\"ticks\":\"\"}}}],\"scatterpolargl\":[{\"type\":\"scatterpolargl\",\"marker\":{\"colorbar\":{\"outlinewidth\":0,\"ticks\":\"\"}}}],\"bar\":[{\"error_x\":{\"color\":\"#2a3f5f\"},\"error_y\":{\"color\":\"#2a3f5f\"},\"marker\":{\"line\":{\"color\":\"#E5ECF6\",\"width\":0.5},\"pattern\":{\"fillmode\":\"overlay\",\"size\":10,\"solidity\":0.2}},\"type\":\"bar\"}],\"scattergeo\":[{\"type\":\"scattergeo\",\"marker\":{\"colorbar\":{\"outlinewidth\":0,\"ticks\":\"\"}}}],\"scatterpolar\":[{\"type\":\"scatterpolar\",\"marker\":{\"colorbar\":{\"outlinewidth\":0,\"ticks\":\"\"}}}],\"histogram\":[{\"marker\":{\"pattern\":{\"fillmode\":\"overlay\",\"size\":10,\"solidity\":0.2}},\"type\":\"histogram\"}],\"scattergl\":[{\"type\":\"scattergl\",\"marker\":{\"colorbar\":{\"outlinewidth\":0,\"ticks\":\"\"}}}],\"scatter3d\":[{\"type\":\"scatter3d\",\"line\":{\"colorbar\":{\"outlinewidth\":0,\"ticks\":\"\"}},\"marker\":{\"colorbar\":{\"outlinewidth\":0,\"ticks\":\"\"}}}],\"scattermapbox\":[{\"type\":\"scattermapbox\",\"marker\":{\"colorbar\":{\"outlinewidth\":0,\"ticks\":\"\"}}}],\"scatterternary\":[{\"type\":\"scatterternary\",\"marker\":{\"colorbar\":{\"outlinewidth\":0,\"ticks\":\"\"}}}],\"scattercarpet\":[{\"type\":\"scattercarpet\",\"marker\":{\"colorbar\":{\"outlinewidth\":0,\"ticks\":\"\"}}}],\"carpet\":[{\"aaxis\":{\"endlinecolor\":\"#2a3f5f\",\"gridcolor\":\"white\",\"linecolor\":\"white\",\"minorgridcolor\":\"white\",\"startlinecolor\":\"#2a3f5f\"},\"baxis\":{\"endlinecolor\":\"#2a3f5f\",\"gridcolor\":\"white\",\"linecolor\":\"white\",\"minorgridcolor\":\"white\",\"startlinecolor\":\"#2a3f5f\"},\"type\":\"carpet\"}],\"table\":[{\"cells\":{\"fill\":{\"color\":\"#EBF0F8\"},\"line\":{\"color\":\"white\"}},\"header\":{\"fill\":{\"color\":\"#C8D4E3\"},\"line\":{\"color\":\"white\"}},\"type\":\"table\"}],\"barpolar\":[{\"marker\":{\"line\":{\"color\":\"#E5ECF6\",\"width\":0.5},\"pattern\":{\"fillmode\":\"overlay\",\"size\":10,\"solidity\":0.2}},\"type\":\"barpolar\"}],\"pie\":[{\"automargin\":true,\"type\":\"pie\"}]},\"layout\":{\"autotypenumbers\":\"strict\",\"colorway\":[\"#636efa\",\"#EF553B\",\"#00cc96\",\"#ab63fa\",\"#FFA15A\",\"#19d3f3\",\"#FF6692\",\"#B6E880\",\"#FF97FF\",\"#FECB52\"],\"font\":{\"color\":\"#2a3f5f\"},\"hovermode\":\"closest\",\"hoverlabel\":{\"align\":\"left\"},\"paper_bgcolor\":\"white\",\"plot_bgcolor\":\"#E5ECF6\",\"polar\":{\"bgcolor\":\"#E5ECF6\",\"angularaxis\":{\"gridcolor\":\"white\",\"linecolor\":\"white\",\"ticks\":\"\"},\"radialaxis\":{\"gridcolor\":\"white\",\"linecolor\":\"white\",\"ticks\":\"\"}},\"ternary\":{\"bgcolor\":\"#E5ECF6\",\"aaxis\":{\"gridcolor\":\"white\",\"linecolor\":\"white\",\"ticks\":\"\"},\"baxis\":{\"gridcolor\":\"white\",\"linecolor\":\"white\",\"ticks\":\"\"},\"caxis\":{\"gridcolor\":\"white\",\"linecolor\":\"white\",\"ticks\":\"\"}},\"coloraxis\":{\"colorbar\":{\"outlinewidth\":0,\"ticks\":\"\"}},\"colorscale\":{\"sequential\":[[0.0,\"#0d0887\"],[0.1111111111111111,\"#46039f\"],[0.2222222222222222,\"#7201a8\"],[0.3333333333333333,\"#9c179e\"],[0.4444444444444444,\"#bd3786\"],[0.5555555555555556,\"#d8576b\"],[0.6666666666666666,\"#ed7953\"],[0.7777777777777778,\"#fb9f3a\"],[0.8888888888888888,\"#fdca26\"],[1.0,\"#f0f921\"]],\"sequentialminus\":[[0.0,\"#0d0887\"],[0.1111111111111111,\"#46039f\"],[0.2222222222222222,\"#7201a8\"],[0.3333333333333333,\"#9c179e\"],[0.4444444444444444,\"#bd3786\"],[0.5555555555555556,\"#d8576b\"],[0.6666666666666666,\"#ed7953\"],[0.7777777777777778,\"#fb9f3a\"],[0.8888888888888888,\"#fdca26\"],[1.0,\"#f0f921\"]],\"diverging\":[[0,\"#8e0152\"],[0.1,\"#c51b7d\"],[0.2,\"#de77ae\"],[0.3,\"#f1b6da\"],[0.4,\"#fde0ef\"],[0.5,\"#f7f7f7\"],[0.6,\"#e6f5d0\"],[0.7,\"#b8e186\"],[0.8,\"#7fbc41\"],[0.9,\"#4d9221\"],[1,\"#276419\"]]},\"xaxis\":{\"gridcolor\":\"white\",\"linecolor\":\"white\",\"ticks\":\"\",\"title\":{\"standoff\":15},\"zerolinecolor\":\"white\",\"automargin\":true,\"zerolinewidth\":2},\"yaxis\":{\"gridcolor\":\"white\",\"linecolor\":\"white\",\"ticks\":\"\",\"title\":{\"standoff\":15},\"zerolinecolor\":\"white\",\"automargin\":true,\"zerolinewidth\":2},\"scene\":{\"xaxis\":{\"backgroundcolor\":\"#E5ECF6\",\"gridcolor\":\"white\",\"linecolor\":\"white\",\"showbackground\":true,\"ticks\":\"\",\"zerolinecolor\":\"white\",\"gridwidth\":2},\"yaxis\":{\"backgroundcolor\":\"#E5ECF6\",\"gridcolor\":\"white\",\"linecolor\":\"white\",\"showbackground\":true,\"ticks\":\"\",\"zerolinecolor\":\"white\",\"gridwidth\":2},\"zaxis\":{\"backgroundcolor\":\"#E5ECF6\",\"gridcolor\":\"white\",\"linecolor\":\"white\",\"showbackground\":true,\"ticks\":\"\",\"zerolinecolor\":\"white\",\"gridwidth\":2}},\"shapedefaults\":{\"line\":{\"color\":\"#2a3f5f\"}},\"annotationdefaults\":{\"arrowcolor\":\"#2a3f5f\",\"arrowhead\":0,\"arrowwidth\":1},\"geo\":{\"bgcolor\":\"white\",\"landcolor\":\"#E5ECF6\",\"subunitcolor\":\"white\",\"showland\":true,\"showlakes\":true,\"lakecolor\":\"white\"},\"title\":{\"x\":0.05},\"mapbox\":{\"style\":\"light\"}}},\"font\":{\"family\":\"Averta, sans-serif\"},\"hoverlabel\":{\"font\":{\"family\":\"Averta, sans-serif\",\"size\":16}},\"xaxis\":{\"title\":{\"font\":{\"size\":18},\"text\":\"Yards per Run\"},\"tickfont\":{\"size\":16}},\"yaxis\":{\"title\":{\"font\":{\"size\":18},\"text\":\"Run:Pass ratio\"},\"tickfont\":{\"size\":16}},\"legend\":{\"font\":{\"size\":16}},\"height\":600,\"width\":1000},                        {\"responsive\": true}                    ).then(function(){\n",
       "                            \n",
       "var gd = document.getElementById('6925c877-2196-46d0-8c12-9d63de9e97ac');\n",
       "var x = new MutationObserver(function (mutations, observer) {{\n",
       "        var display = window.getComputedStyle(gd).display;\n",
       "        if (!display || display === 'none') {{\n",
       "            console.log([gd, 'removed!']);\n",
       "            Plotly.purge(gd);\n",
       "            observer.disconnect();\n",
       "        }}\n",
       "}});\n",
       "\n",
       "// Listen for the removal of the full notebook cells\n",
       "var notebookContainer = gd.closest('#notebook-container');\n",
       "if (notebookContainer) {{\n",
       "    x.observe(notebookContainer, {childList: true});\n",
       "}}\n",
       "\n",
       "// Listen for the clearing of the current output cell\n",
       "var outputEl = gd.closest('.output');\n",
       "if (outputEl) {{\n",
       "    x.observe(outputEl, {childList: true});\n",
       "}}\n",
       "\n",
       "                        })                };                });            </script>        </div>"
      ]
     },
     "metadata": {},
     "output_type": "display_data"
    }
   ],
   "source": [
    "fig = go.Figure()\n",
    "for i in range(len(df_run_pass)):\n",
    "    fig.add_trace(\n",
    "        go.Scatter(\n",
    "            x=[df_run_pass['yds_per_run'][i]], \n",
    "            y=[df_run_pass['run-pass ratio'][i]], \n",
    "            name=df_run_pass['posteam'][i], \n",
    "            # mode=\"markers\", \n",
    "            marker=dict(size=12,\n",
    "                        color=df_run_pass['team_color'][i])\n",
    "            # fill=df_run_pass['team_color'][i],\n",
    "            # hovertemplate=f\"<b>{name}</b><br>%{{y}} yds through week %{{x}}<extra></extra>\"\n",
    "        )\n",
    "    )\n",
    "    \n",
    "fig.update_layout(\n",
    "    font_family=\"Averta, sans-serif\",\n",
    "    hoverlabel_font_family=\"Averta, sans-serif\",\n",
    "    xaxis_title_text=\"Yards per Run\",\n",
    "    xaxis_title_font_size=18,\n",
    "    xaxis_tickfont_size=16,\n",
    "    yaxis_title_text=\"Run:Pass ratio\",\n",
    "    yaxis_title_font_size=18,\n",
    "    yaxis_tickfont_size=16,\n",
    "    hoverlabel_font_size=16,\n",
    "    legend_font_size=16,\n",
    "    height=600,\n",
    "    width=1000\n",
    ")\n",
    "        \n",
    "fig.show()"
   ]
  },
  {
   "cell_type": "code",
   "execution_count": 181,
   "id": "eb3c0c9f-400f-481d-820e-4a7ed281da94",
   "metadata": {},
   "outputs": [
    {
     "data": {
      "application/vnd.plotly.v1+json": {
       "config": {
        "plotlyServerURL": "https://plot.ly"
       },
       "data": [
        {
         "marker": {
          "color": "#97233F",
          "size": 12
         },
         "name": "ARI",
         "type": "scatter",
         "x": [
          6.573991031390134
         ],
         "y": [
          0.7428998505231689
         ]
        },
        {
         "marker": {
          "color": "#A71930",
          "size": 12
         },
         "name": "ATL",
         "type": "scatter",
         "x": [
          6.047231270358306
         ],
         "y": [
          0.6254071661237784
         ]
        },
        {
         "marker": {
          "color": "#241773",
          "size": 12
         },
         "name": "BAL",
         "type": "scatter",
         "x": [
          5.93562874251497
         ],
         "y": [
          0.7619760479041916
         ]
        },
        {
         "marker": {
          "color": "#00338D",
          "size": 12
         },
         "name": "BUF",
         "type": "scatter",
         "x": [
          6.5392809587217045
         ],
         "y": [
          0.6511318242343542
         ]
        },
        {
         "marker": {
          "color": "#0085CA",
          "size": 12
         },
         "name": "CAR",
         "type": "scatter",
         "x": [
          4.96937212863706
         ],
         "y": [
          0.6830015313935681
         ]
        },
        {
         "marker": {
          "color": "#0B162A",
          "size": 12
         },
         "name": "CHI",
         "type": "scatter",
         "x": [
          5.346089850249584
         ],
         "y": [
          0.7753743760399334
         ]
        },
        {
         "marker": {
          "color": "#FB4F14",
          "size": 12
         },
         "name": "CIN",
         "type": "scatter",
         "x": [
          6.97020725388601
         ],
         "y": [
          0.6658031088082902
         ]
        },
        {
         "marker": {
          "color": "#FF3C00",
          "size": 12
         },
         "name": "CLE",
         "type": "scatter",
         "x": [
          5.84182776801406
         ],
         "y": [
          0.8330404217926186
         ]
        },
        {
         "marker": {
          "color": "#002244",
          "size": 12
         },
         "name": "DAL",
         "type": "scatter",
         "x": [
          6.867667121418827
         ],
         "y": [
          0.6534788540245566
         ]
        },
        {
         "marker": {
          "color": "#002244",
          "size": 12
         },
         "name": "DEN",
         "type": "scatter",
         "x": [
          6.166380789022298
         ],
         "y": [
          0.7701543739279588
         ]
        },
        {
         "marker": {
          "color": "#0076B6",
          "size": 12
         },
         "name": "DET",
         "type": "scatter",
         "x": [
          5.726984126984127
         ],
         "y": [
          0.6761904761904762
         ]
        },
        {
         "marker": {
          "color": "#203731",
          "size": 12
         },
         "name": "GB",
         "type": "scatter",
         "x": [
          6.855623100303951
         ],
         "y": [
          0.6793313069908815
         ]
        },
        {
         "marker": {
          "color": "#03202F",
          "size": 12
         },
         "name": "HOU",
         "type": "scatter",
         "x": [
          5.624149659863946
         ],
         "y": [
          0.7108843537414966
         ]
        },
        {
         "marker": {
          "color": "#002C5F",
          "size": 12
         },
         "name": "IND",
         "type": "scatter",
         "x": [
          6.04129263913824
         ],
         "y": [
          0.874326750448833
         ]
        },
        {
         "marker": {
          "color": "#006778",
          "size": 12
         },
         "name": "JAX",
         "type": "scatter",
         "x": [
          5.391849529780564
         ],
         "y": [
          0.6050156739811913
         ]
        },
        {
         "marker": {
          "color": "#E31837",
          "size": 12
         },
         "name": "KC",
         "type": "scatter",
         "x": [
          6.900717703349282
         ],
         "y": [
          0.5801435406698564
         ]
        },
        {
         "marker": {
          "color": "#003594",
          "size": 12
         },
         "name": "LA",
         "type": "scatter",
         "x": [
          7.3822784810126585
         ],
         "y": [
          0.6569620253164556
         ]
        },
        {
         "marker": {
          "color": "#007BC7",
          "size": 12
         },
         "name": "LAC",
         "type": "scatter",
         "x": [
          6.758426966292135
         ],
         "y": [
          0.577247191011236
         ]
        },
        {
         "marker": {
          "color": "#000000",
          "size": 12
         },
         "name": "LV",
         "type": "scatter",
         "x": [
          6.697513812154696
         ],
         "y": [
          0.5773480662983426
         ]
        },
        {
         "marker": {
          "color": "#008E97",
          "size": 12
         },
         "name": "MIA",
         "type": "scatter",
         "x": [
          5.571646341463414
         ],
         "y": [
          0.6539634146341463
         ]
        },
        {
         "marker": {
          "color": "#4F2683",
          "size": 12
         },
         "name": "MIN",
         "type": "scatter",
         "x": [
          6.705696202531645
         ],
         "y": [
          0.7025316455696202
         ]
        },
        {
         "marker": {
          "color": "#002244",
          "size": 12
         },
         "name": "NE",
         "type": "scatter",
         "x": [
          6.75
         ],
         "y": [
          0.8162251655629139
         ]
        },
        {
         "marker": {
          "color": "#D3BC8D",
          "size": 12
         },
         "name": "NO",
         "type": "scatter",
         "x": [
          5.867403314917127
         ],
         "y": [
          0.9152854511970534
         ]
        },
        {
         "marker": {
          "color": "#0B2265",
          "size": 12
         },
         "name": "NYG",
         "type": "scatter",
         "x": [
          5.084260731319555
         ],
         "y": [
          0.6565977742448331
         ]
        },
        {
         "marker": {
          "color": "#003F2D",
          "size": 12
         },
         "name": "NYJ",
         "type": "scatter",
         "x": [
          5.371212121212121
         ],
         "y": [
          0.5696969696969697
         ]
        },
        {
         "marker": {
          "color": "#004C54",
          "size": 12
         },
         "name": "PHI",
         "type": "scatter",
         "x": [
          6.380453752181501
         ],
         "y": [
          0.9720767888307156
         ]
        },
        {
         "marker": {
          "color": "#000000",
          "size": 12
         },
         "name": "PIT",
         "type": "scatter",
         "x": [
          5.310666666666667
         ],
         "y": [
          0.5546666666666666
         ]
        },
        {
         "marker": {
          "color": "#002244",
          "size": 12
         },
         "name": "SEA",
         "type": "scatter",
         "x": [
          6.3357933579335795
         ],
         "y": [
          0.7472324723247232
         ]
        },
        {
         "marker": {
          "color": "#AA0000",
          "size": 12
         },
         "name": "SF",
         "type": "scatter",
         "x": [
          7.597110754414126
         ],
         "y": [
          0.9197431781701445
         ]
        },
        {
         "marker": {
          "color": "#A71930",
          "size": 12
         },
         "name": "TB",
         "type": "scatter",
         "x": [
          6.792009400705052
         ],
         "y": [
          0.48413631022326675
         ]
        },
        {
         "marker": {
          "color": "#002244",
          "size": 12
         },
         "name": "TEN",
         "type": "scatter",
         "x": [
          5.9851729818780885
         ],
         "y": [
          0.9308072487644151
         ]
        },
        {
         "marker": {
          "color": "#5A1414",
          "size": 12
         },
         "name": "WAS",
         "type": "scatter",
         "x": [
          5.792929292929293
         ],
         "y": [
          0.7946127946127947
         ]
        }
       ],
       "layout": {
        "font": {
         "family": "Averta, sans-serif"
        },
        "height": 600,
        "hoverlabel": {
         "font": {
          "family": "Averta, sans-serif",
          "size": 16
         }
        },
        "legend": {
         "font": {
          "size": 16
         }
        },
        "template": {
         "data": {
          "bar": [
           {
            "error_x": {
             "color": "#2a3f5f"
            },
            "error_y": {
             "color": "#2a3f5f"
            },
            "marker": {
             "line": {
              "color": "#E5ECF6",
              "width": 0.5
             },
             "pattern": {
              "fillmode": "overlay",
              "size": 10,
              "solidity": 0.2
             }
            },
            "type": "bar"
           }
          ],
          "barpolar": [
           {
            "marker": {
             "line": {
              "color": "#E5ECF6",
              "width": 0.5
             },
             "pattern": {
              "fillmode": "overlay",
              "size": 10,
              "solidity": 0.2
             }
            },
            "type": "barpolar"
           }
          ],
          "carpet": [
           {
            "aaxis": {
             "endlinecolor": "#2a3f5f",
             "gridcolor": "white",
             "linecolor": "white",
             "minorgridcolor": "white",
             "startlinecolor": "#2a3f5f"
            },
            "baxis": {
             "endlinecolor": "#2a3f5f",
             "gridcolor": "white",
             "linecolor": "white",
             "minorgridcolor": "white",
             "startlinecolor": "#2a3f5f"
            },
            "type": "carpet"
           }
          ],
          "choropleth": [
           {
            "colorbar": {
             "outlinewidth": 0,
             "ticks": ""
            },
            "type": "choropleth"
           }
          ],
          "contour": [
           {
            "colorbar": {
             "outlinewidth": 0,
             "ticks": ""
            },
            "colorscale": [
             [
              0,
              "#0d0887"
             ],
             [
              0.1111111111111111,
              "#46039f"
             ],
             [
              0.2222222222222222,
              "#7201a8"
             ],
             [
              0.3333333333333333,
              "#9c179e"
             ],
             [
              0.4444444444444444,
              "#bd3786"
             ],
             [
              0.5555555555555556,
              "#d8576b"
             ],
             [
              0.6666666666666666,
              "#ed7953"
             ],
             [
              0.7777777777777778,
              "#fb9f3a"
             ],
             [
              0.8888888888888888,
              "#fdca26"
             ],
             [
              1,
              "#f0f921"
             ]
            ],
            "type": "contour"
           }
          ],
          "contourcarpet": [
           {
            "colorbar": {
             "outlinewidth": 0,
             "ticks": ""
            },
            "type": "contourcarpet"
           }
          ],
          "heatmap": [
           {
            "colorbar": {
             "outlinewidth": 0,
             "ticks": ""
            },
            "colorscale": [
             [
              0,
              "#0d0887"
             ],
             [
              0.1111111111111111,
              "#46039f"
             ],
             [
              0.2222222222222222,
              "#7201a8"
             ],
             [
              0.3333333333333333,
              "#9c179e"
             ],
             [
              0.4444444444444444,
              "#bd3786"
             ],
             [
              0.5555555555555556,
              "#d8576b"
             ],
             [
              0.6666666666666666,
              "#ed7953"
             ],
             [
              0.7777777777777778,
              "#fb9f3a"
             ],
             [
              0.8888888888888888,
              "#fdca26"
             ],
             [
              1,
              "#f0f921"
             ]
            ],
            "type": "heatmap"
           }
          ],
          "heatmapgl": [
           {
            "colorbar": {
             "outlinewidth": 0,
             "ticks": ""
            },
            "colorscale": [
             [
              0,
              "#0d0887"
             ],
             [
              0.1111111111111111,
              "#46039f"
             ],
             [
              0.2222222222222222,
              "#7201a8"
             ],
             [
              0.3333333333333333,
              "#9c179e"
             ],
             [
              0.4444444444444444,
              "#bd3786"
             ],
             [
              0.5555555555555556,
              "#d8576b"
             ],
             [
              0.6666666666666666,
              "#ed7953"
             ],
             [
              0.7777777777777778,
              "#fb9f3a"
             ],
             [
              0.8888888888888888,
              "#fdca26"
             ],
             [
              1,
              "#f0f921"
             ]
            ],
            "type": "heatmapgl"
           }
          ],
          "histogram": [
           {
            "marker": {
             "pattern": {
              "fillmode": "overlay",
              "size": 10,
              "solidity": 0.2
             }
            },
            "type": "histogram"
           }
          ],
          "histogram2d": [
           {
            "colorbar": {
             "outlinewidth": 0,
             "ticks": ""
            },
            "colorscale": [
             [
              0,
              "#0d0887"
             ],
             [
              0.1111111111111111,
              "#46039f"
             ],
             [
              0.2222222222222222,
              "#7201a8"
             ],
             [
              0.3333333333333333,
              "#9c179e"
             ],
             [
              0.4444444444444444,
              "#bd3786"
             ],
             [
              0.5555555555555556,
              "#d8576b"
             ],
             [
              0.6666666666666666,
              "#ed7953"
             ],
             [
              0.7777777777777778,
              "#fb9f3a"
             ],
             [
              0.8888888888888888,
              "#fdca26"
             ],
             [
              1,
              "#f0f921"
             ]
            ],
            "type": "histogram2d"
           }
          ],
          "histogram2dcontour": [
           {
            "colorbar": {
             "outlinewidth": 0,
             "ticks": ""
            },
            "colorscale": [
             [
              0,
              "#0d0887"
             ],
             [
              0.1111111111111111,
              "#46039f"
             ],
             [
              0.2222222222222222,
              "#7201a8"
             ],
             [
              0.3333333333333333,
              "#9c179e"
             ],
             [
              0.4444444444444444,
              "#bd3786"
             ],
             [
              0.5555555555555556,
              "#d8576b"
             ],
             [
              0.6666666666666666,
              "#ed7953"
             ],
             [
              0.7777777777777778,
              "#fb9f3a"
             ],
             [
              0.8888888888888888,
              "#fdca26"
             ],
             [
              1,
              "#f0f921"
             ]
            ],
            "type": "histogram2dcontour"
           }
          ],
          "mesh3d": [
           {
            "colorbar": {
             "outlinewidth": 0,
             "ticks": ""
            },
            "type": "mesh3d"
           }
          ],
          "parcoords": [
           {
            "line": {
             "colorbar": {
              "outlinewidth": 0,
              "ticks": ""
             }
            },
            "type": "parcoords"
           }
          ],
          "pie": [
           {
            "automargin": true,
            "type": "pie"
           }
          ],
          "scatter": [
           {
            "fillpattern": {
             "fillmode": "overlay",
             "size": 10,
             "solidity": 0.2
            },
            "type": "scatter"
           }
          ],
          "scatter3d": [
           {
            "line": {
             "colorbar": {
              "outlinewidth": 0,
              "ticks": ""
             }
            },
            "marker": {
             "colorbar": {
              "outlinewidth": 0,
              "ticks": ""
             }
            },
            "type": "scatter3d"
           }
          ],
          "scattercarpet": [
           {
            "marker": {
             "colorbar": {
              "outlinewidth": 0,
              "ticks": ""
             }
            },
            "type": "scattercarpet"
           }
          ],
          "scattergeo": [
           {
            "marker": {
             "colorbar": {
              "outlinewidth": 0,
              "ticks": ""
             }
            },
            "type": "scattergeo"
           }
          ],
          "scattergl": [
           {
            "marker": {
             "colorbar": {
              "outlinewidth": 0,
              "ticks": ""
             }
            },
            "type": "scattergl"
           }
          ],
          "scattermapbox": [
           {
            "marker": {
             "colorbar": {
              "outlinewidth": 0,
              "ticks": ""
             }
            },
            "type": "scattermapbox"
           }
          ],
          "scatterpolar": [
           {
            "marker": {
             "colorbar": {
              "outlinewidth": 0,
              "ticks": ""
             }
            },
            "type": "scatterpolar"
           }
          ],
          "scatterpolargl": [
           {
            "marker": {
             "colorbar": {
              "outlinewidth": 0,
              "ticks": ""
             }
            },
            "type": "scatterpolargl"
           }
          ],
          "scatterternary": [
           {
            "marker": {
             "colorbar": {
              "outlinewidth": 0,
              "ticks": ""
             }
            },
            "type": "scatterternary"
           }
          ],
          "surface": [
           {
            "colorbar": {
             "outlinewidth": 0,
             "ticks": ""
            },
            "colorscale": [
             [
              0,
              "#0d0887"
             ],
             [
              0.1111111111111111,
              "#46039f"
             ],
             [
              0.2222222222222222,
              "#7201a8"
             ],
             [
              0.3333333333333333,
              "#9c179e"
             ],
             [
              0.4444444444444444,
              "#bd3786"
             ],
             [
              0.5555555555555556,
              "#d8576b"
             ],
             [
              0.6666666666666666,
              "#ed7953"
             ],
             [
              0.7777777777777778,
              "#fb9f3a"
             ],
             [
              0.8888888888888888,
              "#fdca26"
             ],
             [
              1,
              "#f0f921"
             ]
            ],
            "type": "surface"
           }
          ],
          "table": [
           {
            "cells": {
             "fill": {
              "color": "#EBF0F8"
             },
             "line": {
              "color": "white"
             }
            },
            "header": {
             "fill": {
              "color": "#C8D4E3"
             },
             "line": {
              "color": "white"
             }
            },
            "type": "table"
           }
          ]
         },
         "layout": {
          "annotationdefaults": {
           "arrowcolor": "#2a3f5f",
           "arrowhead": 0,
           "arrowwidth": 1
          },
          "autotypenumbers": "strict",
          "coloraxis": {
           "colorbar": {
            "outlinewidth": 0,
            "ticks": ""
           }
          },
          "colorscale": {
           "diverging": [
            [
             0,
             "#8e0152"
            ],
            [
             0.1,
             "#c51b7d"
            ],
            [
             0.2,
             "#de77ae"
            ],
            [
             0.3,
             "#f1b6da"
            ],
            [
             0.4,
             "#fde0ef"
            ],
            [
             0.5,
             "#f7f7f7"
            ],
            [
             0.6,
             "#e6f5d0"
            ],
            [
             0.7,
             "#b8e186"
            ],
            [
             0.8,
             "#7fbc41"
            ],
            [
             0.9,
             "#4d9221"
            ],
            [
             1,
             "#276419"
            ]
           ],
           "sequential": [
            [
             0,
             "#0d0887"
            ],
            [
             0.1111111111111111,
             "#46039f"
            ],
            [
             0.2222222222222222,
             "#7201a8"
            ],
            [
             0.3333333333333333,
             "#9c179e"
            ],
            [
             0.4444444444444444,
             "#bd3786"
            ],
            [
             0.5555555555555556,
             "#d8576b"
            ],
            [
             0.6666666666666666,
             "#ed7953"
            ],
            [
             0.7777777777777778,
             "#fb9f3a"
            ],
            [
             0.8888888888888888,
             "#fdca26"
            ],
            [
             1,
             "#f0f921"
            ]
           ],
           "sequentialminus": [
            [
             0,
             "#0d0887"
            ],
            [
             0.1111111111111111,
             "#46039f"
            ],
            [
             0.2222222222222222,
             "#7201a8"
            ],
            [
             0.3333333333333333,
             "#9c179e"
            ],
            [
             0.4444444444444444,
             "#bd3786"
            ],
            [
             0.5555555555555556,
             "#d8576b"
            ],
            [
             0.6666666666666666,
             "#ed7953"
            ],
            [
             0.7777777777777778,
             "#fb9f3a"
            ],
            [
             0.8888888888888888,
             "#fdca26"
            ],
            [
             1,
             "#f0f921"
            ]
           ]
          },
          "colorway": [
           "#636efa",
           "#EF553B",
           "#00cc96",
           "#ab63fa",
           "#FFA15A",
           "#19d3f3",
           "#FF6692",
           "#B6E880",
           "#FF97FF",
           "#FECB52"
          ],
          "font": {
           "color": "#2a3f5f"
          },
          "geo": {
           "bgcolor": "white",
           "lakecolor": "white",
           "landcolor": "#E5ECF6",
           "showlakes": true,
           "showland": true,
           "subunitcolor": "white"
          },
          "hoverlabel": {
           "align": "left"
          },
          "hovermode": "closest",
          "mapbox": {
           "style": "light"
          },
          "paper_bgcolor": "white",
          "plot_bgcolor": "#E5ECF6",
          "polar": {
           "angularaxis": {
            "gridcolor": "white",
            "linecolor": "white",
            "ticks": ""
           },
           "bgcolor": "#E5ECF6",
           "radialaxis": {
            "gridcolor": "white",
            "linecolor": "white",
            "ticks": ""
           }
          },
          "scene": {
           "xaxis": {
            "backgroundcolor": "#E5ECF6",
            "gridcolor": "white",
            "gridwidth": 2,
            "linecolor": "white",
            "showbackground": true,
            "ticks": "",
            "zerolinecolor": "white"
           },
           "yaxis": {
            "backgroundcolor": "#E5ECF6",
            "gridcolor": "white",
            "gridwidth": 2,
            "linecolor": "white",
            "showbackground": true,
            "ticks": "",
            "zerolinecolor": "white"
           },
           "zaxis": {
            "backgroundcolor": "#E5ECF6",
            "gridcolor": "white",
            "gridwidth": 2,
            "linecolor": "white",
            "showbackground": true,
            "ticks": "",
            "zerolinecolor": "white"
           }
          },
          "shapedefaults": {
           "line": {
            "color": "#2a3f5f"
           }
          },
          "ternary": {
           "aaxis": {
            "gridcolor": "white",
            "linecolor": "white",
            "ticks": ""
           },
           "baxis": {
            "gridcolor": "white",
            "linecolor": "white",
            "ticks": ""
           },
           "bgcolor": "#E5ECF6",
           "caxis": {
            "gridcolor": "white",
            "linecolor": "white",
            "ticks": ""
           }
          },
          "title": {
           "x": 0.05
          },
          "xaxis": {
           "automargin": true,
           "gridcolor": "white",
           "linecolor": "white",
           "ticks": "",
           "title": {
            "standoff": 15
           },
           "zerolinecolor": "white",
           "zerolinewidth": 2
          },
          "yaxis": {
           "automargin": true,
           "gridcolor": "white",
           "linecolor": "white",
           "ticks": "",
           "title": {
            "standoff": 15
           },
           "zerolinecolor": "white",
           "zerolinewidth": 2
          }
         }
        },
        "width": 1000,
        "xaxis": {
         "autorange": true,
         "range": [
          4.792756041116305,
          7.773726841934881
         ],
         "tickfont": {
          "size": 16
         },
         "title": {
          "font": {
           "size": 18
          },
          "text": "Yards per Pass"
         },
         "type": "linear"
        },
        "yaxis": {
         "autorange": true,
         "range": [
          0.44582693380367366,
          1.0103861652503086
         ],
         "tickfont": {
          "size": 16
         },
         "title": {
          "font": {
           "size": 18
          },
          "text": "Run:Pass ratio"
         },
         "type": "linear"
        }
       }
      },
      "image/png": "[encoded data removed]",
      "text/html": [
       "<div>                            <div id=\"3a6911b0-0981-4a1c-ace5-a3a0c1d3ea4c\" class=\"plotly-graph-div\" style=\"height:600px; width:1000px;\"></div>            <script type=\"text/javascript\">                require([\"plotly\"], function(Plotly) {                    window.PLOTLYENV=window.PLOTLYENV || {};                                    if (document.getElementById(\"3a6911b0-0981-4a1c-ace5-a3a0c1d3ea4c\")) {                    Plotly.newPlot(                        \"3a6911b0-0981-4a1c-ace5-a3a0c1d3ea4c\",                        [{\"marker\":{\"color\":\"#97233F\",\"size\":12},\"name\":\"ARI\",\"x\":[6.573991031390134],\"y\":[0.7428998505231689],\"type\":\"scatter\"},{\"marker\":{\"color\":\"#A71930\",\"size\":12},\"name\":\"ATL\",\"x\":[6.047231270358306],\"y\":[0.6254071661237784],\"type\":\"scatter\"},{\"marker\":{\"color\":\"#241773\",\"size\":12},\"name\":\"BAL\",\"x\":[5.93562874251497],\"y\":[0.7619760479041916],\"type\":\"scatter\"},{\"marker\":{\"color\":\"#00338D\",\"size\":12},\"name\":\"BUF\",\"x\":[6.5392809587217045],\"y\":[0.6511318242343542],\"type\":\"scatter\"},{\"marker\":{\"color\":\"#0085CA\",\"size\":12},\"name\":\"CAR\",\"x\":[4.96937212863706],\"y\":[0.6830015313935681],\"type\":\"scatter\"},{\"marker\":{\"color\":\"#0B162A\",\"size\":12},\"name\":\"CHI\",\"x\":[5.346089850249584],\"y\":[0.7753743760399334],\"type\":\"scatter\"},{\"marker\":{\"color\":\"#FB4F14\",\"size\":12},\"name\":\"CIN\",\"x\":[6.97020725388601],\"y\":[0.6658031088082902],\"type\":\"scatter\"},{\"marker\":{\"color\":\"#FF3C00\",\"size\":12},\"name\":\"CLE\",\"x\":[5.84182776801406],\"y\":[0.8330404217926186],\"type\":\"scatter\"},{\"marker\":{\"color\":\"#002244\",\"size\":12},\"name\":\"DAL\",\"x\":[6.867667121418827],\"y\":[0.6534788540245566],\"type\":\"scatter\"},{\"marker\":{\"color\":\"#002244\",\"size\":12},\"name\":\"DEN\",\"x\":[6.166380789022298],\"y\":[0.7701543739279588],\"type\":\"scatter\"},{\"marker\":{\"color\":\"#0076B6\",\"size\":12},\"name\":\"DET\",\"x\":[5.726984126984127],\"y\":[0.6761904761904762],\"type\":\"scatter\"},{\"marker\":{\"color\":\"#203731\",\"size\":12},\"name\":\"GB\",\"x\":[6.855623100303951],\"y\":[0.6793313069908815],\"type\":\"scatter\"},{\"marker\":{\"color\":\"#03202F\",\"size\":12},\"name\":\"HOU\",\"x\":[5.624149659863946],\"y\":[0.7108843537414966],\"type\":\"scatter\"},{\"marker\":{\"color\":\"#002C5F\",\"size\":12},\"name\":\"IND\",\"x\":[6.04129263913824],\"y\":[0.874326750448833],\"type\":\"scatter\"},{\"marker\":{\"color\":\"#006778\",\"size\":12},\"name\":\"JAX\",\"x\":[5.391849529780564],\"y\":[0.6050156739811913],\"type\":\"scatter\"},{\"marker\":{\"color\":\"#E31837\",\"size\":12},\"name\":\"KC\",\"x\":[6.900717703349282],\"y\":[0.5801435406698564],\"type\":\"scatter\"},{\"marker\":{\"color\":\"#003594\",\"size\":12},\"name\":\"LA\",\"x\":[7.3822784810126585],\"y\":[0.6569620253164556],\"type\":\"scatter\"},{\"marker\":{\"color\":\"#007BC7\",\"size\":12},\"name\":\"LAC\",\"x\":[6.758426966292135],\"y\":[0.577247191011236],\"type\":\"scatter\"},{\"marker\":{\"color\":\"#000000\",\"size\":12},\"name\":\"LV\",\"x\":[6.697513812154696],\"y\":[0.5773480662983426],\"type\":\"scatter\"},{\"marker\":{\"color\":\"#008E97\",\"size\":12},\"name\":\"MIA\",\"x\":[5.571646341463414],\"y\":[0.6539634146341463],\"type\":\"scatter\"},{\"marker\":{\"color\":\"#4F2683\",\"size\":12},\"name\":\"MIN\",\"x\":[6.705696202531645],\"y\":[0.7025316455696202],\"type\":\"scatter\"},{\"marker\":{\"color\":\"#002244\",\"size\":12},\"name\":\"NE\",\"x\":[6.75],\"y\":[0.8162251655629139],\"type\":\"scatter\"},{\"marker\":{\"color\":\"#D3BC8D\",\"size\":12},\"name\":\"NO\",\"x\":[5.867403314917127],\"y\":[0.9152854511970534],\"type\":\"scatter\"},{\"marker\":{\"color\":\"#0B2265\",\"size\":12},\"name\":\"NYG\",\"x\":[5.084260731319555],\"y\":[0.6565977742448331],\"type\":\"scatter\"},{\"marker\":{\"color\":\"#003F2D\",\"size\":12},\"name\":\"NYJ\",\"x\":[5.371212121212121],\"y\":[0.5696969696969697],\"type\":\"scatter\"},{\"marker\":{\"color\":\"#004C54\",\"size\":12},\"name\":\"PHI\",\"x\":[6.380453752181501],\"y\":[0.9720767888307156],\"type\":\"scatter\"},{\"marker\":{\"color\":\"#000000\",\"size\":12},\"name\":\"PIT\",\"x\":[5.310666666666667],\"y\":[0.5546666666666666],\"type\":\"scatter\"},{\"marker\":{\"color\":\"#002244\",\"size\":12},\"name\":\"SEA\",\"x\":[6.3357933579335795],\"y\":[0.7472324723247232],\"type\":\"scatter\"},{\"marker\":{\"color\":\"#AA0000\",\"size\":12},\"name\":\"SF\",\"x\":[7.597110754414126],\"y\":[0.9197431781701445],\"type\":\"scatter\"},{\"marker\":{\"color\":\"#A71930\",\"size\":12},\"name\":\"TB\",\"x\":[6.792009400705052],\"y\":[0.48413631022326675],\"type\":\"scatter\"},{\"marker\":{\"color\":\"#002244\",\"size\":12},\"name\":\"TEN\",\"x\":[5.9851729818780885],\"y\":[0.9308072487644151],\"type\":\"scatter\"},{\"marker\":{\"color\":\"#5A1414\",\"size\":12},\"name\":\"WAS\",\"x\":[5.792929292929293],\"y\":[0.7946127946127947],\"type\":\"scatter\"}],                        {\"template\":{\"data\":{\"histogram2dcontour\":[{\"type\":\"histogram2dcontour\",\"colorbar\":{\"outlinewidth\":0,\"ticks\":\"\"},\"colorscale\":[[0.0,\"#0d0887\"],[0.1111111111111111,\"#46039f\"],[0.2222222222222222,\"#7201a8\"],[0.3333333333333333,\"#9c179e\"],[0.4444444444444444,\"#bd3786\"],[0.5555555555555556,\"#d8576b\"],[0.6666666666666666,\"#ed7953\"],[0.7777777777777778,\"#fb9f3a\"],[0.8888888888888888,\"#fdca26\"],[1.0,\"#f0f921\"]]}],\"choropleth\":[{\"type\":\"choropleth\",\"colorbar\":{\"outlinewidth\":0,\"ticks\":\"\"}}],\"histogram2d\":[{\"type\":\"histogram2d\",\"colorbar\":{\"outlinewidth\":0,\"ticks\":\"\"},\"colorscale\":[[0.0,\"#0d0887\"],[0.1111111111111111,\"#46039f\"],[0.2222222222222222,\"#7201a8\"],[0.3333333333333333,\"#9c179e\"],[0.4444444444444444,\"#bd3786\"],[0.5555555555555556,\"#d8576b\"],[0.6666666666666666,\"#ed7953\"],[0.7777777777777778,\"#fb9f3a\"],[0.8888888888888888,\"#fdca26\"],[1.0,\"#f0f921\"]]}],\"heatmap\":[{\"type\":\"heatmap\",\"colorbar\":{\"outlinewidth\":0,\"ticks\":\"\"},\"colorscale\":[[0.0,\"#0d0887\"],[0.1111111111111111,\"#46039f\"],[0.2222222222222222,\"#7201a8\"],[0.3333333333333333,\"#9c179e\"],[0.4444444444444444,\"#bd3786\"],[0.5555555555555556,\"#d8576b\"],[0.6666666666666666,\"#ed7953\"],[0.7777777777777778,\"#fb9f3a\"],[0.8888888888888888,\"#fdca26\"],[1.0,\"#f0f921\"]]}],\"heatmapgl\":[{\"type\":\"heatmapgl\",\"colorbar\":{\"outlinewidth\":0,\"ticks\":\"\"},\"colorscale\":[[0.0,\"#0d0887\"],[0.1111111111111111,\"#46039f\"],[0.2222222222222222,\"#7201a8\"],[0.3333333333333333,\"#9c179e\"],[0.4444444444444444,\"#bd3786\"],[0.5555555555555556,\"#d8576b\"],[0.6666666666666666,\"#ed7953\"],[0.7777777777777778,\"#fb9f3a\"],[0.8888888888888888,\"#fdca26\"],[1.0,\"#f0f921\"]]}],\"contourcarpet\":[{\"type\":\"contourcarpet\",\"colorbar\":{\"outlinewidth\":0,\"ticks\":\"\"}}],\"contour\":[{\"type\":\"contour\",\"colorbar\":{\"outlinewidth\":0,\"ticks\":\"\"},\"colorscale\":[[0.0,\"#0d0887\"],[0.1111111111111111,\"#46039f\"],[0.2222222222222222,\"#7201a8\"],[0.3333333333333333,\"#9c179e\"],[0.4444444444444444,\"#bd3786\"],[0.5555555555555556,\"#d8576b\"],[0.6666666666666666,\"#ed7953\"],[0.7777777777777778,\"#fb9f3a\"],[0.8888888888888888,\"#fdca26\"],[1.0,\"#f0f921\"]]}],\"surface\":[{\"type\":\"surface\",\"colorbar\":{\"outlinewidth\":0,\"ticks\":\"\"},\"colorscale\":[[0.0,\"#0d0887\"],[0.1111111111111111,\"#46039f\"],[0.2222222222222222,\"#7201a8\"],[0.3333333333333333,\"#9c179e\"],[0.4444444444444444,\"#bd3786\"],[0.5555555555555556,\"#d8576b\"],[0.6666666666666666,\"#ed7953\"],[0.7777777777777778,\"#fb9f3a\"],[0.8888888888888888,\"#fdca26\"],[1.0,\"#f0f921\"]]}],\"mesh3d\":[{\"type\":\"mesh3d\",\"colorbar\":{\"outlinewidth\":0,\"ticks\":\"\"}}],\"scatter\":[{\"fillpattern\":{\"fillmode\":\"overlay\",\"size\":10,\"solidity\":0.2},\"type\":\"scatter\"}],\"parcoords\":[{\"type\":\"parcoords\",\"line\":{\"colorbar\":{\"outlinewidth\":0,\"ticks\":\"\"}}}],\"scatterpolargl\":[{\"type\":\"scatterpolargl\",\"marker\":{\"colorbar\":{\"outlinewidth\":0,\"ticks\":\"\"}}}],\"bar\":[{\"error_x\":{\"color\":\"#2a3f5f\"},\"error_y\":{\"color\":\"#2a3f5f\"},\"marker\":{\"line\":{\"color\":\"#E5ECF6\",\"width\":0.5},\"pattern\":{\"fillmode\":\"overlay\",\"size\":10,\"solidity\":0.2}},\"type\":\"bar\"}],\"scattergeo\":[{\"type\":\"scattergeo\",\"marker\":{\"colorbar\":{\"outlinewidth\":0,\"ticks\":\"\"}}}],\"scatterpolar\":[{\"type\":\"scatterpolar\",\"marker\":{\"colorbar\":{\"outlinewidth\":0,\"ticks\":\"\"}}}],\"histogram\":[{\"marker\":{\"pattern\":{\"fillmode\":\"overlay\",\"size\":10,\"solidity\":0.2}},\"type\":\"histogram\"}],\"scattergl\":[{\"type\":\"scattergl\",\"marker\":{\"colorbar\":{\"outlinewidth\":0,\"ticks\":\"\"}}}],\"scatter3d\":[{\"type\":\"scatter3d\",\"line\":{\"colorbar\":{\"outlinewidth\":0,\"ticks\":\"\"}},\"marker\":{\"colorbar\":{\"outlinewidth\":0,\"ticks\":\"\"}}}],\"scattermapbox\":[{\"type\":\"scattermapbox\",\"marker\":{\"colorbar\":{\"outlinewidth\":0,\"ticks\":\"\"}}}],\"scatterternary\":[{\"type\":\"scatterternary\",\"marker\":{\"colorbar\":{\"outlinewidth\":0,\"ticks\":\"\"}}}],\"scattercarpet\":[{\"type\":\"scattercarpet\",\"marker\":{\"colorbar\":{\"outlinewidth\":0,\"ticks\":\"\"}}}],\"carpet\":[{\"aaxis\":{\"endlinecolor\":\"#2a3f5f\",\"gridcolor\":\"white\",\"linecolor\":\"white\",\"minorgridcolor\":\"white\",\"startlinecolor\":\"#2a3f5f\"},\"baxis\":{\"endlinecolor\":\"#2a3f5f\",\"gridcolor\":\"white\",\"linecolor\":\"white\",\"minorgridcolor\":\"white\",\"startlinecolor\":\"#2a3f5f\"},\"type\":\"carpet\"}],\"table\":[{\"cells\":{\"fill\":{\"color\":\"#EBF0F8\"},\"line\":{\"color\":\"white\"}},\"header\":{\"fill\":{\"color\":\"#C8D4E3\"},\"line\":{\"color\":\"white\"}},\"type\":\"table\"}],\"barpolar\":[{\"marker\":{\"line\":{\"color\":\"#E5ECF6\",\"width\":0.5},\"pattern\":{\"fillmode\":\"overlay\",\"size\":10,\"solidity\":0.2}},\"type\":\"barpolar\"}],\"pie\":[{\"automargin\":true,\"type\":\"pie\"}]},\"layout\":{\"autotypenumbers\":\"strict\",\"colorway\":[\"#636efa\",\"#EF553B\",\"#00cc96\",\"#ab63fa\",\"#FFA15A\",\"#19d3f3\",\"#FF6692\",\"#B6E880\",\"#FF97FF\",\"#FECB52\"],\"font\":{\"color\":\"#2a3f5f\"},\"hovermode\":\"closest\",\"hoverlabel\":{\"align\":\"left\"},\"paper_bgcolor\":\"white\",\"plot_bgcolor\":\"#E5ECF6\",\"polar\":{\"bgcolor\":\"#E5ECF6\",\"angularaxis\":{\"gridcolor\":\"white\",\"linecolor\":\"white\",\"ticks\":\"\"},\"radialaxis\":{\"gridcolor\":\"white\",\"linecolor\":\"white\",\"ticks\":\"\"}},\"ternary\":{\"bgcolor\":\"#E5ECF6\",\"aaxis\":{\"gridcolor\":\"white\",\"linecolor\":\"white\",\"ticks\":\"\"},\"baxis\":{\"gridcolor\":\"white\",\"linecolor\":\"white\",\"ticks\":\"\"},\"caxis\":{\"gridcolor\":\"white\",\"linecolor\":\"white\",\"ticks\":\"\"}},\"coloraxis\":{\"colorbar\":{\"outlinewidth\":0,\"ticks\":\"\"}},\"colorscale\":{\"sequential\":[[0.0,\"#0d0887\"],[0.1111111111111111,\"#46039f\"],[0.2222222222222222,\"#7201a8\"],[0.3333333333333333,\"#9c179e\"],[0.4444444444444444,\"#bd3786\"],[0.5555555555555556,\"#d8576b\"],[0.6666666666666666,\"#ed7953\"],[0.7777777777777778,\"#fb9f3a\"],[0.8888888888888888,\"#fdca26\"],[1.0,\"#f0f921\"]],\"sequentialminus\":[[0.0,\"#0d0887\"],[0.1111111111111111,\"#46039f\"],[0.2222222222222222,\"#7201a8\"],[0.3333333333333333,\"#9c179e\"],[0.4444444444444444,\"#bd3786\"],[0.5555555555555556,\"#d8576b\"],[0.6666666666666666,\"#ed7953\"],[0.7777777777777778,\"#fb9f3a\"],[0.8888888888888888,\"#fdca26\"],[1.0,\"#f0f921\"]],\"diverging\":[[0,\"#8e0152\"],[0.1,\"#c51b7d\"],[0.2,\"#de77ae\"],[0.3,\"#f1b6da\"],[0.4,\"#fde0ef\"],[0.5,\"#f7f7f7\"],[0.6,\"#e6f5d0\"],[0.7,\"#b8e186\"],[0.8,\"#7fbc41\"],[0.9,\"#4d9221\"],[1,\"#276419\"]]},\"xaxis\":{\"gridcolor\":\"white\",\"linecolor\":\"white\",\"ticks\":\"\",\"title\":{\"standoff\":15},\"zerolinecolor\":\"white\",\"automargin\":true,\"zerolinewidth\":2},\"yaxis\":{\"gridcolor\":\"white\",\"linecolor\":\"white\",\"ticks\":\"\",\"title\":{\"standoff\":15},\"zerolinecolor\":\"white\",\"automargin\":true,\"zerolinewidth\":2},\"scene\":{\"xaxis\":{\"backgroundcolor\":\"#E5ECF6\",\"gridcolor\":\"white\",\"linecolor\":\"white\",\"showbackground\":true,\"ticks\":\"\",\"zerolinecolor\":\"white\",\"gridwidth\":2},\"yaxis\":{\"backgroundcolor\":\"#E5ECF6\",\"gridcolor\":\"white\",\"linecolor\":\"white\",\"showbackground\":true,\"ticks\":\"\",\"zerolinecolor\":\"white\",\"gridwidth\":2},\"zaxis\":{\"backgroundcolor\":\"#E5ECF6\",\"gridcolor\":\"white\",\"linecolor\":\"white\",\"showbackground\":true,\"ticks\":\"\",\"zerolinecolor\":\"white\",\"gridwidth\":2}},\"shapedefaults\":{\"line\":{\"color\":\"#2a3f5f\"}},\"annotationdefaults\":{\"arrowcolor\":\"#2a3f5f\",\"arrowhead\":0,\"arrowwidth\":1},\"geo\":{\"bgcolor\":\"white\",\"landcolor\":\"#E5ECF6\",\"subunitcolor\":\"white\",\"showland\":true,\"showlakes\":true,\"lakecolor\":\"white\"},\"title\":{\"x\":0.05},\"mapbox\":{\"style\":\"light\"}}},\"font\":{\"family\":\"Averta, sans-serif\"},\"hoverlabel\":{\"font\":{\"family\":\"Averta, sans-serif\",\"size\":16}},\"xaxis\":{\"title\":{\"font\":{\"size\":18},\"text\":\"Yards per Pass\"},\"tickfont\":{\"size\":16}},\"yaxis\":{\"title\":{\"font\":{\"size\":18},\"text\":\"Run:Pass ratio\"},\"tickfont\":{\"size\":16}},\"legend\":{\"font\":{\"size\":16}},\"height\":600,\"width\":1000},                        {\"responsive\": true}                    ).then(function(){\n",
       "                            \n",
       "var gd = document.getElementById('3a6911b0-0981-4a1c-ace5-a3a0c1d3ea4c');\n",
       "var x = new MutationObserver(function (mutations, observer) {{\n",
       "        var display = window.getComputedStyle(gd).display;\n",
       "        if (!display || display === 'none') {{\n",
       "            console.log([gd, 'removed!']);\n",
       "            Plotly.purge(gd);\n",
       "            observer.disconnect();\n",
       "        }}\n",
       "}});\n",
       "\n",
       "// Listen for the removal of the full notebook cells\n",
       "var notebookContainer = gd.closest('#notebook-container');\n",
       "if (notebookContainer) {{\n",
       "    x.observe(notebookContainer, {childList: true});\n",
       "}}\n",
       "\n",
       "// Listen for the clearing of the current output cell\n",
       "var outputEl = gd.closest('.output');\n",
       "if (outputEl) {{\n",
       "    x.observe(outputEl, {childList: true});\n",
       "}}\n",
       "\n",
       "                        })                };                });            </script>        </div>"
      ]
     },
     "metadata": {},
     "output_type": "display_data"
    }
   ],
   "source": [
    "fig = go.Figure()\n",
    "for i in range(len(df_run_pass)):\n",
    "    fig.add_trace(\n",
    "        go.Scatter(\n",
    "            x=[df_run_pass['yds_per_pass_attempt'][i]], \n",
    "            y=[df_run_pass['run-pass ratio'][i]], \n",
    "            name=df_run_pass['posteam'][i], \n",
    "            # mode=\"markers\", \n",
    "            marker=dict(size=12,\n",
    "                        color=df_run_pass['team_color'][i])\n",
    "            # fill=df_run_pass['team_color'][i],\n",
    "            # hovertemplate=f\"<b>{name}</b><br>%{{y}} yds through week %{{x}}<extra></extra>\"\n",
    "        )\n",
    "    )\n",
    "    \n",
    "fig.update_layout(\n",
    "    font_family=\"Averta, sans-serif\",\n",
    "    hoverlabel_font_family=\"Averta, sans-serif\",\n",
    "    xaxis_title_text=\"Yards per Pass\",\n",
    "    xaxis_title_font_size=18,\n",
    "    xaxis_tickfont_size=16,\n",
    "    yaxis_title_text=\"Run:Pass ratio\",\n",
    "    yaxis_title_font_size=18,\n",
    "    yaxis_tickfont_size=16,\n",
    "    hoverlabel_font_size=16,\n",
    "    legend_font_size=16,\n",
    "    height=600,\n",
    "    width=1000\n",
    ")\n",
    "        \n",
    "fig.show()"
   ]
  },
  {
   "cell_type": "code",
   "execution_count": 182,
   "id": "c4130e25-3385-4149-83c1-e0d24ca7e653",
   "metadata": {},
   "outputs": [
    {
     "data": {
      "application/vnd.plotly.v1+json": {
       "config": {
        "plotlyServerURL": "https://plot.ly"
       },
       "data": [
        {
         "marker": {
          "color": "#97233F",
          "size": 12
         },
         "name": "ARI",
         "type": "scatter",
         "x": [
          2157
         ],
         "y": [
          4398
         ]
        },
        {
         "marker": {
          "color": "#A71930",
          "size": 12
         },
         "name": "ATL",
         "type": "scatter",
         "x": [
          1463
         ],
         "y": [
          3713
         ]
        },
        {
         "marker": {
          "color": "#241773",
          "size": 12
         },
         "name": "BAL",
         "type": "scatter",
         "x": [
          2487
         ],
         "y": [
          3965
         ]
        },
        {
         "marker": {
          "color": "#00338D",
          "size": 12
         },
         "name": "BUF",
         "type": "scatter",
         "x": [
          2520
         ],
         "y": [
          4911
         ]
        },
        {
         "marker": {
          "color": "#0085CA",
          "size": 12
         },
         "name": "CAR",
         "type": "scatter",
         "x": [
          1855
         ],
         "y": [
          3245
         ]
        },
        {
         "marker": {
          "color": "#0B162A",
          "size": 12
         },
         "name": "CHI",
         "type": "scatter",
         "x": [
          2031
         ],
         "y": [
          3213
         ]
        },
        {
         "marker": {
          "color": "#FB4F14",
          "size": 12
         },
         "name": "CIN",
         "type": "scatter",
         "x": [
          2099
         ],
         "y": [
          5381
         ]
        },
        {
         "marker": {
          "color": "#FF3C00",
          "size": 12
         },
         "name": "CLE",
         "type": "scatter",
         "x": [
          2485
         ],
         "y": [
          3324
         ]
        },
        {
         "marker": {
          "color": "#002244",
          "size": 12
         },
         "name": "DAL",
         "type": "scatter",
         "x": [
          2227
         ],
         "y": [
          5034
         ]
        },
        {
         "marker": {
          "color": "#002244",
          "size": 12
         },
         "name": "DEN",
         "type": "scatter",
         "x": [
          2031
         ],
         "y": [
          3595
         ]
        },
        {
         "marker": {
          "color": "#0076B6",
          "size": 12
         },
         "name": "DET",
         "type": "scatter",
         "x": [
          1887
         ],
         "y": [
          3608
         ]
        },
        {
         "marker": {
          "color": "#203731",
          "size": 12
         },
         "name": "GB",
         "type": "scatter",
         "x": [
          1989
         ],
         "y": [
          4511
         ]
        },
        {
         "marker": {
          "color": "#03202F",
          "size": 12
         },
         "name": "HOU",
         "type": "scatter",
         "x": [
          1428
         ],
         "y": [
          3307
         ]
        },
        {
         "marker": {
          "color": "#002C5F",
          "size": 12
         },
         "name": "IND",
         "type": "scatter",
         "x": [
          2554
         ],
         "y": [
          3365
         ]
        },
        {
         "marker": {
          "color": "#006778",
          "size": 12
         },
         "name": "JAX",
         "type": "scatter",
         "x": [
          1764
         ],
         "y": [
          3440
         ]
        },
        {
         "marker": {
          "color": "#E31837",
          "size": 12
         },
         "name": "KC",
         "type": "scatter",
         "x": [
          2404
         ],
         "y": [
          5769
         ]
        },
        {
         "marker": {
          "color": "#003594",
          "size": 12
         },
         "name": "LA",
         "type": "scatter",
         "x": [
          2035
         ],
         "y": [
          5832
         ]
        },
        {
         "marker": {
          "color": "#007BC7",
          "size": 12
         },
         "name": "LAC",
         "type": "scatter",
         "x": [
          1851
         ],
         "y": [
          4812
         ]
        },
        {
         "marker": {
          "color": "#000000",
          "size": 12
         },
         "name": "LV",
         "type": "scatter",
         "x": [
          1730
         ],
         "y": [
          4849
         ]
        },
        {
         "marker": {
          "color": "#008E97",
          "size": 12
         },
         "name": "MIA",
         "type": "scatter",
         "x": [
          1579
         ],
         "y": [
          3655
         ]
        },
        {
         "marker": {
          "color": "#4F2683",
          "size": 12
         },
         "name": "MIN",
         "type": "scatter",
         "x": [
          1947
         ],
         "y": [
          4238
         ]
        },
        {
         "marker": {
          "color": "#002244",
          "size": 12
         },
         "name": "NE",
         "type": "scatter",
         "x": [
          2270
         ],
         "y": [
          4077
         ]
        },
        {
         "marker": {
          "color": "#D3BC8D",
          "size": 12
         },
         "name": "NO",
         "type": "scatter",
         "x": [
          2006
         ],
         "y": [
          3186
         ]
        },
        {
         "marker": {
          "color": "#0B2265",
          "size": 12
         },
         "name": "NYG",
         "type": "scatter",
         "x": [
          1703
         ],
         "y": [
          3198
         ]
        },
        {
         "marker": {
          "color": "#003F2D",
          "size": 12
         },
         "name": "NYJ",
         "type": "scatter",
         "x": [
          1680
         ],
         "y": [
          3545
         ]
        },
        {
         "marker": {
          "color": "#004C54",
          "size": 12
         },
         "name": "PHI",
         "type": "scatter",
         "x": [
          2826
         ],
         "y": [
          3656
         ]
        },
        {
         "marker": {
          "color": "#000000",
          "size": 12
         },
         "name": "PIT",
         "type": "scatter",
         "x": [
          1653
         ],
         "y": [
          3983
         ]
        },
        {
         "marker": {
          "color": "#002244",
          "size": 12
         },
         "name": "SEA",
         "type": "scatter",
         "x": [
          2081
         ],
         "y": [
          3434
         ]
        },
        {
         "marker": {
          "color": "#AA0000",
          "size": 12
         },
         "name": "SF",
         "type": "scatter",
         "x": [
          2508
         ],
         "y": [
          4733
         ]
        },
        {
         "marker": {
          "color": "#A71930",
          "size": 12
         },
         "name": "TB",
         "type": "scatter",
         "x": [
          1847
         ],
         "y": [
          5780
         ]
        },
        {
         "marker": {
          "color": "#002244",
          "size": 12
         },
         "name": "TEN",
         "type": "scatter",
         "x": [
          2561
         ],
         "y": [
          3633
         ]
        },
        {
         "marker": {
          "color": "#5A1414",
          "size": 12
         },
         "name": "WAS",
         "type": "scatter",
         "x": [
          2074
         ],
         "y": [
          3441
         ]
        }
       ],
       "layout": {
        "font": {
         "family": "Averta, sans-serif"
        },
        "height": 1000,
        "hoverlabel": {
         "font": {
          "family": "Averta, sans-serif",
          "size": 16
         }
        },
        "legend": {
         "font": {
          "size": 16
         }
        },
        "template": {
         "data": {
          "bar": [
           {
            "error_x": {
             "color": "#2a3f5f"
            },
            "error_y": {
             "color": "#2a3f5f"
            },
            "marker": {
             "line": {
              "color": "#E5ECF6",
              "width": 0.5
             },
             "pattern": {
              "fillmode": "overlay",
              "size": 10,
              "solidity": 0.2
             }
            },
            "type": "bar"
           }
          ],
          "barpolar": [
           {
            "marker": {
             "line": {
              "color": "#E5ECF6",
              "width": 0.5
             },
             "pattern": {
              "fillmode": "overlay",
              "size": 10,
              "solidity": 0.2
             }
            },
            "type": "barpolar"
           }
          ],
          "carpet": [
           {
            "aaxis": {
             "endlinecolor": "#2a3f5f",
             "gridcolor": "white",
             "linecolor": "white",
             "minorgridcolor": "white",
             "startlinecolor": "#2a3f5f"
            },
            "baxis": {
             "endlinecolor": "#2a3f5f",
             "gridcolor": "white",
             "linecolor": "white",
             "minorgridcolor": "white",
             "startlinecolor": "#2a3f5f"
            },
            "type": "carpet"
           }
          ],
          "choropleth": [
           {
            "colorbar": {
             "outlinewidth": 0,
             "ticks": ""
            },
            "type": "choropleth"
           }
          ],
          "contour": [
           {
            "colorbar": {
             "outlinewidth": 0,
             "ticks": ""
            },
            "colorscale": [
             [
              0,
              "#0d0887"
             ],
             [
              0.1111111111111111,
              "#46039f"
             ],
             [
              0.2222222222222222,
              "#7201a8"
             ],
             [
              0.3333333333333333,
              "#9c179e"
             ],
             [
              0.4444444444444444,
              "#bd3786"
             ],
             [
              0.5555555555555556,
              "#d8576b"
             ],
             [
              0.6666666666666666,
              "#ed7953"
             ],
             [
              0.7777777777777778,
              "#fb9f3a"
             ],
             [
              0.8888888888888888,
              "#fdca26"
             ],
             [
              1,
              "#f0f921"
             ]
            ],
            "type": "contour"
           }
          ],
          "contourcarpet": [
           {
            "colorbar": {
             "outlinewidth": 0,
             "ticks": ""
            },
            "type": "contourcarpet"
           }
          ],
          "heatmap": [
           {
            "colorbar": {
             "outlinewidth": 0,
             "ticks": ""
            },
            "colorscale": [
             [
              0,
              "#0d0887"
             ],
             [
              0.1111111111111111,
              "#46039f"
             ],
             [
              0.2222222222222222,
              "#7201a8"
             ],
             [
              0.3333333333333333,
              "#9c179e"
             ],
             [
              0.4444444444444444,
              "#bd3786"
             ],
             [
              0.5555555555555556,
              "#d8576b"
             ],
             [
              0.6666666666666666,
              "#ed7953"
             ],
             [
              0.7777777777777778,
              "#fb9f3a"
             ],
             [
              0.8888888888888888,
              "#fdca26"
             ],
             [
              1,
              "#f0f921"
             ]
            ],
            "type": "heatmap"
           }
          ],
          "heatmapgl": [
           {
            "colorbar": {
             "outlinewidth": 0,
             "ticks": ""
            },
            "colorscale": [
             [
              0,
              "#0d0887"
             ],
             [
              0.1111111111111111,
              "#46039f"
             ],
             [
              0.2222222222222222,
              "#7201a8"
             ],
             [
              0.3333333333333333,
              "#9c179e"
             ],
             [
              0.4444444444444444,
              "#bd3786"
             ],
             [
              0.5555555555555556,
              "#d8576b"
             ],
             [
              0.6666666666666666,
              "#ed7953"
             ],
             [
              0.7777777777777778,
              "#fb9f3a"
             ],
             [
              0.8888888888888888,
              "#fdca26"
             ],
             [
              1,
              "#f0f921"
             ]
            ],
            "type": "heatmapgl"
           }
          ],
          "histogram": [
           {
            "marker": {
             "pattern": {
              "fillmode": "overlay",
              "size": 10,
              "solidity": 0.2
             }
            },
            "type": "histogram"
           }
          ],
          "histogram2d": [
           {
            "colorbar": {
             "outlinewidth": 0,
             "ticks": ""
            },
            "colorscale": [
             [
              0,
              "#0d0887"
             ],
             [
              0.1111111111111111,
              "#46039f"
             ],
             [
              0.2222222222222222,
              "#7201a8"
             ],
             [
              0.3333333333333333,
              "#9c179e"
             ],
             [
              0.4444444444444444,
              "#bd3786"
             ],
             [
              0.5555555555555556,
              "#d8576b"
             ],
             [
              0.6666666666666666,
              "#ed7953"
             ],
             [
              0.7777777777777778,
              "#fb9f3a"
             ],
             [
              0.8888888888888888,
              "#fdca26"
             ],
             [
              1,
              "#f0f921"
             ]
            ],
            "type": "histogram2d"
           }
          ],
          "histogram2dcontour": [
           {
            "colorbar": {
             "outlinewidth": 0,
             "ticks": ""
            },
            "colorscale": [
             [
              0,
              "#0d0887"
             ],
             [
              0.1111111111111111,
              "#46039f"
             ],
             [
              0.2222222222222222,
              "#7201a8"
             ],
             [
              0.3333333333333333,
              "#9c179e"
             ],
             [
              0.4444444444444444,
              "#bd3786"
             ],
             [
              0.5555555555555556,
              "#d8576b"
             ],
             [
              0.6666666666666666,
              "#ed7953"
             ],
             [
              0.7777777777777778,
              "#fb9f3a"
             ],
             [
              0.8888888888888888,
              "#fdca26"
             ],
             [
              1,
              "#f0f921"
             ]
            ],
            "type": "histogram2dcontour"
           }
          ],
          "mesh3d": [
           {
            "colorbar": {
             "outlinewidth": 0,
             "ticks": ""
            },
            "type": "mesh3d"
           }
          ],
          "parcoords": [
           {
            "line": {
             "colorbar": {
              "outlinewidth": 0,
              "ticks": ""
             }
            },
            "type": "parcoords"
           }
          ],
          "pie": [
           {
            "automargin": true,
            "type": "pie"
           }
          ],
          "scatter": [
           {
            "fillpattern": {
             "fillmode": "overlay",
             "size": 10,
             "solidity": 0.2
            },
            "type": "scatter"
           }
          ],
          "scatter3d": [
           {
            "line": {
             "colorbar": {
              "outlinewidth": 0,
              "ticks": ""
             }
            },
            "marker": {
             "colorbar": {
              "outlinewidth": 0,
              "ticks": ""
             }
            },
            "type": "scatter3d"
           }
          ],
          "scattercarpet": [
           {
            "marker": {
             "colorbar": {
              "outlinewidth": 0,
              "ticks": ""
             }
            },
            "type": "scattercarpet"
           }
          ],
          "scattergeo": [
           {
            "marker": {
             "colorbar": {
              "outlinewidth": 0,
              "ticks": ""
             }
            },
            "type": "scattergeo"
           }
          ],
          "scattergl": [
           {
            "marker": {
             "colorbar": {
              "outlinewidth": 0,
              "ticks": ""
             }
            },
            "type": "scattergl"
           }
          ],
          "scattermapbox": [
           {
            "marker": {
             "colorbar": {
              "outlinewidth": 0,
              "ticks": ""
             }
            },
            "type": "scattermapbox"
           }
          ],
          "scatterpolar": [
           {
            "marker": {
             "colorbar": {
              "outlinewidth": 0,
              "ticks": ""
             }
            },
            "type": "scatterpolar"
           }
          ],
          "scatterpolargl": [
           {
            "marker": {
             "colorbar": {
              "outlinewidth": 0,
              "ticks": ""
             }
            },
            "type": "scatterpolargl"
           }
          ],
          "scatterternary": [
           {
            "marker": {
             "colorbar": {
              "outlinewidth": 0,
              "ticks": ""
             }
            },
            "type": "scatterternary"
           }
          ],
          "surface": [
           {
            "colorbar": {
             "outlinewidth": 0,
             "ticks": ""
            },
            "colorscale": [
             [
              0,
              "#0d0887"
             ],
             [
              0.1111111111111111,
              "#46039f"
             ],
             [
              0.2222222222222222,
              "#7201a8"
             ],
             [
              0.3333333333333333,
              "#9c179e"
             ],
             [
              0.4444444444444444,
              "#bd3786"
             ],
             [
              0.5555555555555556,
              "#d8576b"
             ],
             [
              0.6666666666666666,
              "#ed7953"
             ],
             [
              0.7777777777777778,
              "#fb9f3a"
             ],
             [
              0.8888888888888888,
              "#fdca26"
             ],
             [
              1,
              "#f0f921"
             ]
            ],
            "type": "surface"
           }
          ],
          "table": [
           {
            "cells": {
             "fill": {
              "color": "#EBF0F8"
             },
             "line": {
              "color": "white"
             }
            },
            "header": {
             "fill": {
              "color": "#C8D4E3"
             },
             "line": {
              "color": "white"
             }
            },
            "type": "table"
           }
          ]
         },
         "layout": {
          "annotationdefaults": {
           "arrowcolor": "#2a3f5f",
           "arrowhead": 0,
           "arrowwidth": 1
          },
          "autotypenumbers": "strict",
          "coloraxis": {
           "colorbar": {
            "outlinewidth": 0,
            "ticks": ""
           }
          },
          "colorscale": {
           "diverging": [
            [
             0,
             "#8e0152"
            ],
            [
             0.1,
             "#c51b7d"
            ],
            [
             0.2,
             "#de77ae"
            ],
            [
             0.3,
             "#f1b6da"
            ],
            [
             0.4,
             "#fde0ef"
            ],
            [
             0.5,
             "#f7f7f7"
            ],
            [
             0.6,
             "#e6f5d0"
            ],
            [
             0.7,
             "#b8e186"
            ],
            [
             0.8,
             "#7fbc41"
            ],
            [
             0.9,
             "#4d9221"
            ],
            [
             1,
             "#276419"
            ]
           ],
           "sequential": [
            [
             0,
             "#0d0887"
            ],
            [
             0.1111111111111111,
             "#46039f"
            ],
            [
             0.2222222222222222,
             "#7201a8"
            ],
            [
             0.3333333333333333,
             "#9c179e"
            ],
            [
             0.4444444444444444,
             "#bd3786"
            ],
            [
             0.5555555555555556,
             "#d8576b"
            ],
            [
             0.6666666666666666,
             "#ed7953"
            ],
            [
             0.7777777777777778,
             "#fb9f3a"
            ],
            [
             0.8888888888888888,
             "#fdca26"
            ],
            [
             1,
             "#f0f921"
            ]
           ],
           "sequentialminus": [
            [
             0,
             "#0d0887"
            ],
            [
             0.1111111111111111,
             "#46039f"
            ],
            [
             0.2222222222222222,
             "#7201a8"
            ],
            [
             0.3333333333333333,
             "#9c179e"
            ],
            [
             0.4444444444444444,
             "#bd3786"
            ],
            [
             0.5555555555555556,
             "#d8576b"
            ],
            [
             0.6666666666666666,
             "#ed7953"
            ],
            [
             0.7777777777777778,
             "#fb9f3a"
            ],
            [
             0.8888888888888888,
             "#fdca26"
            ],
            [
             1,
             "#f0f921"
            ]
           ]
          },
          "colorway": [
           "#636efa",
           "#EF553B",
           "#00cc96",
           "#ab63fa",
           "#FFA15A",
           "#19d3f3",
           "#FF6692",
           "#B6E880",
           "#FF97FF",
           "#FECB52"
          ],
          "font": {
           "color": "#2a3f5f"
          },
          "geo": {
           "bgcolor": "white",
           "lakecolor": "white",
           "landcolor": "#E5ECF6",
           "showlakes": true,
           "showland": true,
           "subunitcolor": "white"
          },
          "hoverlabel": {
           "align": "left"
          },
          "hovermode": "closest",
          "mapbox": {
           "style": "light"
          },
          "paper_bgcolor": "white",
          "plot_bgcolor": "#E5ECF6",
          "polar": {
           "angularaxis": {
            "gridcolor": "white",
            "linecolor": "white",
            "ticks": ""
           },
           "bgcolor": "#E5ECF6",
           "radialaxis": {
            "gridcolor": "white",
            "linecolor": "white",
            "ticks": ""
           }
          },
          "scene": {
           "xaxis": {
            "backgroundcolor": "#E5ECF6",
            "gridcolor": "white",
            "gridwidth": 2,
            "linecolor": "white",
            "showbackground": true,
            "ticks": "",
            "zerolinecolor": "white"
           },
           "yaxis": {
            "backgroundcolor": "#E5ECF6",
            "gridcolor": "white",
            "gridwidth": 2,
            "linecolor": "white",
            "showbackground": true,
            "ticks": "",
            "zerolinecolor": "white"
           },
           "zaxis": {
            "backgroundcolor": "#E5ECF6",
            "gridcolor": "white",
            "gridwidth": 2,
            "linecolor": "white",
            "showbackground": true,
            "ticks": "",
            "zerolinecolor": "white"
           }
          },
          "shapedefaults": {
           "line": {
            "color": "#2a3f5f"
           }
          },
          "ternary": {
           "aaxis": {
            "gridcolor": "white",
            "linecolor": "white",
            "ticks": ""
           },
           "baxis": {
            "gridcolor": "white",
            "linecolor": "white",
            "ticks": ""
           },
           "bgcolor": "#E5ECF6",
           "caxis": {
            "gridcolor": "white",
            "linecolor": "white",
            "ticks": ""
           }
          },
          "title": {
           "x": 0.05
          },
          "xaxis": {
           "automargin": true,
           "gridcolor": "white",
           "linecolor": "white",
           "ticks": "",
           "title": {
            "standoff": 15
           },
           "zerolinecolor": "white",
           "zerolinewidth": 2
          },
          "yaxis": {
           "automargin": true,
           "gridcolor": "white",
           "linecolor": "white",
           "ticks": "",
           "title": {
            "standoff": 15
           },
           "zerolinecolor": "white",
           "zerolinewidth": 2
          }
         }
        },
        "width": 1000,
        "xaxis": {
         "autorange": true,
         "range": [
          1334.0373478808224,
          2919.9626521191776
         ],
         "tickfont": {
          "size": 16
         },
         "title": {
          "font": {
           "size": 18
          },
          "text": "Rush yards"
         },
         "type": "linear"
        },
        "yaxis": {
         "autorange": true,
         "range": [
          3008.5020746887967,
          6009.497925311203
         ],
         "tickfont": {
          "size": 16
         },
         "title": {
          "font": {
           "size": 18
          },
          "text": "Pass yards"
         },
         "type": "linear"
        }
       }
      },
      "image/png": "[encoded data removed]",
      "text/html": [
       "<div>                            <div id=\"9b8a525e-0c2f-4859-ba34-ee57159c2974\" class=\"plotly-graph-div\" style=\"height:1000px; width:1000px;\"></div>            <script type=\"text/javascript\">                require([\"plotly\"], function(Plotly) {                    window.PLOTLYENV=window.PLOTLYENV || {};                                    if (document.getElementById(\"9b8a525e-0c2f-4859-ba34-ee57159c2974\")) {                    Plotly.newPlot(                        \"9b8a525e-0c2f-4859-ba34-ee57159c2974\",                        [{\"marker\":{\"color\":\"#97233F\",\"size\":12},\"name\":\"ARI\",\"x\":[2157.0],\"y\":[4398.0],\"type\":\"scatter\"},{\"marker\":{\"color\":\"#A71930\",\"size\":12},\"name\":\"ATL\",\"x\":[1463.0],\"y\":[3713.0],\"type\":\"scatter\"},{\"marker\":{\"color\":\"#241773\",\"size\":12},\"name\":\"BAL\",\"x\":[2487.0],\"y\":[3965.0],\"type\":\"scatter\"},{\"marker\":{\"color\":\"#00338D\",\"size\":12},\"name\":\"BUF\",\"x\":[2520.0],\"y\":[4911.0],\"type\":\"scatter\"},{\"marker\":{\"color\":\"#0085CA\",\"size\":12},\"name\":\"CAR\",\"x\":[1855.0],\"y\":[3245.0],\"type\":\"scatter\"},{\"marker\":{\"color\":\"#0B162A\",\"size\":12},\"name\":\"CHI\",\"x\":[2031.0],\"y\":[3213.0],\"type\":\"scatter\"},{\"marker\":{\"color\":\"#FB4F14\",\"size\":12},\"name\":\"CIN\",\"x\":[2099.0],\"y\":[5381.0],\"type\":\"scatter\"},{\"marker\":{\"color\":\"#FF3C00\",\"size\":12},\"name\":\"CLE\",\"x\":[2485.0],\"y\":[3324.0],\"type\":\"scatter\"},{\"marker\":{\"color\":\"#002244\",\"size\":12},\"name\":\"DAL\",\"x\":[2227.0],\"y\":[5034.0],\"type\":\"scatter\"},{\"marker\":{\"color\":\"#002244\",\"size\":12},\"name\":\"DEN\",\"x\":[2031.0],\"y\":[3595.0],\"type\":\"scatter\"},{\"marker\":{\"color\":\"#0076B6\",\"size\":12},\"name\":\"DET\",\"x\":[1887.0],\"y\":[3608.0],\"type\":\"scatter\"},{\"marker\":{\"color\":\"#203731\",\"size\":12},\"name\":\"GB\",\"x\":[1989.0],\"y\":[4511.0],\"type\":\"scatter\"},{\"marker\":{\"color\":\"#03202F\",\"size\":12},\"name\":\"HOU\",\"x\":[1428.0],\"y\":[3307.0],\"type\":\"scatter\"},{\"marker\":{\"color\":\"#002C5F\",\"size\":12},\"name\":\"IND\",\"x\":[2554.0],\"y\":[3365.0],\"type\":\"scatter\"},{\"marker\":{\"color\":\"#006778\",\"size\":12},\"name\":\"JAX\",\"x\":[1764.0],\"y\":[3440.0],\"type\":\"scatter\"},{\"marker\":{\"color\":\"#E31837\",\"size\":12},\"name\":\"KC\",\"x\":[2404.0],\"y\":[5769.0],\"type\":\"scatter\"},{\"marker\":{\"color\":\"#003594\",\"size\":12},\"name\":\"LA\",\"x\":[2035.0],\"y\":[5832.0],\"type\":\"scatter\"},{\"marker\":{\"color\":\"#007BC7\",\"size\":12},\"name\":\"LAC\",\"x\":[1851.0],\"y\":[4812.0],\"type\":\"scatter\"},{\"marker\":{\"color\":\"#000000\",\"size\":12},\"name\":\"LV\",\"x\":[1730.0],\"y\":[4849.0],\"type\":\"scatter\"},{\"marker\":{\"color\":\"#008E97\",\"size\":12},\"name\":\"MIA\",\"x\":[1579.0],\"y\":[3655.0],\"type\":\"scatter\"},{\"marker\":{\"color\":\"#4F2683\",\"size\":12},\"name\":\"MIN\",\"x\":[1947.0],\"y\":[4238.0],\"type\":\"scatter\"},{\"marker\":{\"color\":\"#002244\",\"size\":12},\"name\":\"NE\",\"x\":[2270.0],\"y\":[4077.0],\"type\":\"scatter\"},{\"marker\":{\"color\":\"#D3BC8D\",\"size\":12},\"name\":\"NO\",\"x\":[2006.0],\"y\":[3186.0],\"type\":\"scatter\"},{\"marker\":{\"color\":\"#0B2265\",\"size\":12},\"name\":\"NYG\",\"x\":[1703.0],\"y\":[3198.0],\"type\":\"scatter\"},{\"marker\":{\"color\":\"#003F2D\",\"size\":12},\"name\":\"NYJ\",\"x\":[1680.0],\"y\":[3545.0],\"type\":\"scatter\"},{\"marker\":{\"color\":\"#004C54\",\"size\":12},\"name\":\"PHI\",\"x\":[2826.0],\"y\":[3656.0],\"type\":\"scatter\"},{\"marker\":{\"color\":\"#000000\",\"size\":12},\"name\":\"PIT\",\"x\":[1653.0],\"y\":[3983.0],\"type\":\"scatter\"},{\"marker\":{\"color\":\"#002244\",\"size\":12},\"name\":\"SEA\",\"x\":[2081.0],\"y\":[3434.0],\"type\":\"scatter\"},{\"marker\":{\"color\":\"#AA0000\",\"size\":12},\"name\":\"SF\",\"x\":[2508.0],\"y\":[4733.0],\"type\":\"scatter\"},{\"marker\":{\"color\":\"#A71930\",\"size\":12},\"name\":\"TB\",\"x\":[1847.0],\"y\":[5780.0],\"type\":\"scatter\"},{\"marker\":{\"color\":\"#002244\",\"size\":12},\"name\":\"TEN\",\"x\":[2561.0],\"y\":[3633.0],\"type\":\"scatter\"},{\"marker\":{\"color\":\"#5A1414\",\"size\":12},\"name\":\"WAS\",\"x\":[2074.0],\"y\":[3441.0],\"type\":\"scatter\"}],                        {\"template\":{\"data\":{\"histogram2dcontour\":[{\"type\":\"histogram2dcontour\",\"colorbar\":{\"outlinewidth\":0,\"ticks\":\"\"},\"colorscale\":[[0.0,\"#0d0887\"],[0.1111111111111111,\"#46039f\"],[0.2222222222222222,\"#7201a8\"],[0.3333333333333333,\"#9c179e\"],[0.4444444444444444,\"#bd3786\"],[0.5555555555555556,\"#d8576b\"],[0.6666666666666666,\"#ed7953\"],[0.7777777777777778,\"#fb9f3a\"],[0.8888888888888888,\"#fdca26\"],[1.0,\"#f0f921\"]]}],\"choropleth\":[{\"type\":\"choropleth\",\"colorbar\":{\"outlinewidth\":0,\"ticks\":\"\"}}],\"histogram2d\":[{\"type\":\"histogram2d\",\"colorbar\":{\"outlinewidth\":0,\"ticks\":\"\"},\"colorscale\":[[0.0,\"#0d0887\"],[0.1111111111111111,\"#46039f\"],[0.2222222222222222,\"#7201a8\"],[0.3333333333333333,\"#9c179e\"],[0.4444444444444444,\"#bd3786\"],[0.5555555555555556,\"#d8576b\"],[0.6666666666666666,\"#ed7953\"],[0.7777777777777778,\"#fb9f3a\"],[0.8888888888888888,\"#fdca26\"],[1.0,\"#f0f921\"]]}],\"heatmap\":[{\"type\":\"heatmap\",\"colorbar\":{\"outlinewidth\":0,\"ticks\":\"\"},\"colorscale\":[[0.0,\"#0d0887\"],[0.1111111111111111,\"#46039f\"],[0.2222222222222222,\"#7201a8\"],[0.3333333333333333,\"#9c179e\"],[0.4444444444444444,\"#bd3786\"],[0.5555555555555556,\"#d8576b\"],[0.6666666666666666,\"#ed7953\"],[0.7777777777777778,\"#fb9f3a\"],[0.8888888888888888,\"#fdca26\"],[1.0,\"#f0f921\"]]}],\"heatmapgl\":[{\"type\":\"heatmapgl\",\"colorbar\":{\"outlinewidth\":0,\"ticks\":\"\"},\"colorscale\":[[0.0,\"#0d0887\"],[0.1111111111111111,\"#46039f\"],[0.2222222222222222,\"#7201a8\"],[0.3333333333333333,\"#9c179e\"],[0.4444444444444444,\"#bd3786\"],[0.5555555555555556,\"#d8576b\"],[0.6666666666666666,\"#ed7953\"],[0.7777777777777778,\"#fb9f3a\"],[0.8888888888888888,\"#fdca26\"],[1.0,\"#f0f921\"]]}],\"contourcarpet\":[{\"type\":\"contourcarpet\",\"colorbar\":{\"outlinewidth\":0,\"ticks\":\"\"}}],\"contour\":[{\"type\":\"contour\",\"colorbar\":{\"outlinewidth\":0,\"ticks\":\"\"},\"colorscale\":[[0.0,\"#0d0887\"],[0.1111111111111111,\"#46039f\"],[0.2222222222222222,\"#7201a8\"],[0.3333333333333333,\"#9c179e\"],[0.4444444444444444,\"#bd3786\"],[0.5555555555555556,\"#d8576b\"],[0.6666666666666666,\"#ed7953\"],[0.7777777777777778,\"#fb9f3a\"],[0.8888888888888888,\"#fdca26\"],[1.0,\"#f0f921\"]]}],\"surface\":[{\"type\":\"surface\",\"colorbar\":{\"outlinewidth\":0,\"ticks\":\"\"},\"colorscale\":[[0.0,\"#0d0887\"],[0.1111111111111111,\"#46039f\"],[0.2222222222222222,\"#7201a8\"],[0.3333333333333333,\"#9c179e\"],[0.4444444444444444,\"#bd3786\"],[0.5555555555555556,\"#d8576b\"],[0.6666666666666666,\"#ed7953\"],[0.7777777777777778,\"#fb9f3a\"],[0.8888888888888888,\"#fdca26\"],[1.0,\"#f0f921\"]]}],\"mesh3d\":[{\"type\":\"mesh3d\",\"colorbar\":{\"outlinewidth\":0,\"ticks\":\"\"}}],\"scatter\":[{\"fillpattern\":{\"fillmode\":\"overlay\",\"size\":10,\"solidity\":0.2},\"type\":\"scatter\"}],\"parcoords\":[{\"type\":\"parcoords\",\"line\":{\"colorbar\":{\"outlinewidth\":0,\"ticks\":\"\"}}}],\"scatterpolargl\":[{\"type\":\"scatterpolargl\",\"marker\":{\"colorbar\":{\"outlinewidth\":0,\"ticks\":\"\"}}}],\"bar\":[{\"error_x\":{\"color\":\"#2a3f5f\"},\"error_y\":{\"color\":\"#2a3f5f\"},\"marker\":{\"line\":{\"color\":\"#E5ECF6\",\"width\":0.5},\"pattern\":{\"fillmode\":\"overlay\",\"size\":10,\"solidity\":0.2}},\"type\":\"bar\"}],\"scattergeo\":[{\"type\":\"scattergeo\",\"marker\":{\"colorbar\":{\"outlinewidth\":0,\"ticks\":\"\"}}}],\"scatterpolar\":[{\"type\":\"scatterpolar\",\"marker\":{\"colorbar\":{\"outlinewidth\":0,\"ticks\":\"\"}}}],\"histogram\":[{\"marker\":{\"pattern\":{\"fillmode\":\"overlay\",\"size\":10,\"solidity\":0.2}},\"type\":\"histogram\"}],\"scattergl\":[{\"type\":\"scattergl\",\"marker\":{\"colorbar\":{\"outlinewidth\":0,\"ticks\":\"\"}}}],\"scatter3d\":[{\"type\":\"scatter3d\",\"line\":{\"colorbar\":{\"outlinewidth\":0,\"ticks\":\"\"}},\"marker\":{\"colorbar\":{\"outlinewidth\":0,\"ticks\":\"\"}}}],\"scattermapbox\":[{\"type\":\"scattermapbox\",\"marker\":{\"colorbar\":{\"outlinewidth\":0,\"ticks\":\"\"}}}],\"scatterternary\":[{\"type\":\"scatterternary\",\"marker\":{\"colorbar\":{\"outlinewidth\":0,\"ticks\":\"\"}}}],\"scattercarpet\":[{\"type\":\"scattercarpet\",\"marker\":{\"colorbar\":{\"outlinewidth\":0,\"ticks\":\"\"}}}],\"carpet\":[{\"aaxis\":{\"endlinecolor\":\"#2a3f5f\",\"gridcolor\":\"white\",\"linecolor\":\"white\",\"minorgridcolor\":\"white\",\"startlinecolor\":\"#2a3f5f\"},\"baxis\":{\"endlinecolor\":\"#2a3f5f\",\"gridcolor\":\"white\",\"linecolor\":\"white\",\"minorgridcolor\":\"white\",\"startlinecolor\":\"#2a3f5f\"},\"type\":\"carpet\"}],\"table\":[{\"cells\":{\"fill\":{\"color\":\"#EBF0F8\"},\"line\":{\"color\":\"white\"}},\"header\":{\"fill\":{\"color\":\"#C8D4E3\"},\"line\":{\"color\":\"white\"}},\"type\":\"table\"}],\"barpolar\":[{\"marker\":{\"line\":{\"color\":\"#E5ECF6\",\"width\":0.5},\"pattern\":{\"fillmode\":\"overlay\",\"size\":10,\"solidity\":0.2}},\"type\":\"barpolar\"}],\"pie\":[{\"automargin\":true,\"type\":\"pie\"}]},\"layout\":{\"autotypenumbers\":\"strict\",\"colorway\":[\"#636efa\",\"#EF553B\",\"#00cc96\",\"#ab63fa\",\"#FFA15A\",\"#19d3f3\",\"#FF6692\",\"#B6E880\",\"#FF97FF\",\"#FECB52\"],\"font\":{\"color\":\"#2a3f5f\"},\"hovermode\":\"closest\",\"hoverlabel\":{\"align\":\"left\"},\"paper_bgcolor\":\"white\",\"plot_bgcolor\":\"#E5ECF6\",\"polar\":{\"bgcolor\":\"#E5ECF6\",\"angularaxis\":{\"gridcolor\":\"white\",\"linecolor\":\"white\",\"ticks\":\"\"},\"radialaxis\":{\"gridcolor\":\"white\",\"linecolor\":\"white\",\"ticks\":\"\"}},\"ternary\":{\"bgcolor\":\"#E5ECF6\",\"aaxis\":{\"gridcolor\":\"white\",\"linecolor\":\"white\",\"ticks\":\"\"},\"baxis\":{\"gridcolor\":\"white\",\"linecolor\":\"white\",\"ticks\":\"\"},\"caxis\":{\"gridcolor\":\"white\",\"linecolor\":\"white\",\"ticks\":\"\"}},\"coloraxis\":{\"colorbar\":{\"outlinewidth\":0,\"ticks\":\"\"}},\"colorscale\":{\"sequential\":[[0.0,\"#0d0887\"],[0.1111111111111111,\"#46039f\"],[0.2222222222222222,\"#7201a8\"],[0.3333333333333333,\"#9c179e\"],[0.4444444444444444,\"#bd3786\"],[0.5555555555555556,\"#d8576b\"],[0.6666666666666666,\"#ed7953\"],[0.7777777777777778,\"#fb9f3a\"],[0.8888888888888888,\"#fdca26\"],[1.0,\"#f0f921\"]],\"sequentialminus\":[[0.0,\"#0d0887\"],[0.1111111111111111,\"#46039f\"],[0.2222222222222222,\"#7201a8\"],[0.3333333333333333,\"#9c179e\"],[0.4444444444444444,\"#bd3786\"],[0.5555555555555556,\"#d8576b\"],[0.6666666666666666,\"#ed7953\"],[0.7777777777777778,\"#fb9f3a\"],[0.8888888888888888,\"#fdca26\"],[1.0,\"#f0f921\"]],\"diverging\":[[0,\"#8e0152\"],[0.1,\"#c51b7d\"],[0.2,\"#de77ae\"],[0.3,\"#f1b6da\"],[0.4,\"#fde0ef\"],[0.5,\"#f7f7f7\"],[0.6,\"#e6f5d0\"],[0.7,\"#b8e186\"],[0.8,\"#7fbc41\"],[0.9,\"#4d9221\"],[1,\"#276419\"]]},\"xaxis\":{\"gridcolor\":\"white\",\"linecolor\":\"white\",\"ticks\":\"\",\"title\":{\"standoff\":15},\"zerolinecolor\":\"white\",\"automargin\":true,\"zerolinewidth\":2},\"yaxis\":{\"gridcolor\":\"white\",\"linecolor\":\"white\",\"ticks\":\"\",\"title\":{\"standoff\":15},\"zerolinecolor\":\"white\",\"automargin\":true,\"zerolinewidth\":2},\"scene\":{\"xaxis\":{\"backgroundcolor\":\"#E5ECF6\",\"gridcolor\":\"white\",\"linecolor\":\"white\",\"showbackground\":true,\"ticks\":\"\",\"zerolinecolor\":\"white\",\"gridwidth\":2},\"yaxis\":{\"backgroundcolor\":\"#E5ECF6\",\"gridcolor\":\"white\",\"linecolor\":\"white\",\"showbackground\":true,\"ticks\":\"\",\"zerolinecolor\":\"white\",\"gridwidth\":2},\"zaxis\":{\"backgroundcolor\":\"#E5ECF6\",\"gridcolor\":\"white\",\"linecolor\":\"white\",\"showbackground\":true,\"ticks\":\"\",\"zerolinecolor\":\"white\",\"gridwidth\":2}},\"shapedefaults\":{\"line\":{\"color\":\"#2a3f5f\"}},\"annotationdefaults\":{\"arrowcolor\":\"#2a3f5f\",\"arrowhead\":0,\"arrowwidth\":1},\"geo\":{\"bgcolor\":\"white\",\"landcolor\":\"#E5ECF6\",\"subunitcolor\":\"white\",\"showland\":true,\"showlakes\":true,\"lakecolor\":\"white\"},\"title\":{\"x\":0.05},\"mapbox\":{\"style\":\"light\"}}},\"font\":{\"family\":\"Averta, sans-serif\"},\"hoverlabel\":{\"font\":{\"family\":\"Averta, sans-serif\",\"size\":16}},\"xaxis\":{\"title\":{\"font\":{\"size\":18},\"text\":\"Rush yards\"},\"tickfont\":{\"size\":16}},\"yaxis\":{\"title\":{\"font\":{\"size\":18},\"text\":\"Pass yards\"},\"tickfont\":{\"size\":16}},\"legend\":{\"font\":{\"size\":16}},\"height\":1000,\"width\":1000},                        {\"responsive\": true}                    ).then(function(){\n",
       "                            \n",
       "var gd = document.getElementById('9b8a525e-0c2f-4859-ba34-ee57159c2974');\n",
       "var x = new MutationObserver(function (mutations, observer) {{\n",
       "        var display = window.getComputedStyle(gd).display;\n",
       "        if (!display || display === 'none') {{\n",
       "            console.log([gd, 'removed!']);\n",
       "            Plotly.purge(gd);\n",
       "            observer.disconnect();\n",
       "        }}\n",
       "}});\n",
       "\n",
       "// Listen for the removal of the full notebook cells\n",
       "var notebookContainer = gd.closest('#notebook-container');\n",
       "if (notebookContainer) {{\n",
       "    x.observe(notebookContainer, {childList: true});\n",
       "}}\n",
       "\n",
       "// Listen for the clearing of the current output cell\n",
       "var outputEl = gd.closest('.output');\n",
       "if (outputEl) {{\n",
       "    x.observe(outputEl, {childList: true});\n",
       "}}\n",
       "\n",
       "                        })                };                });            </script>        </div>"
      ]
     },
     "metadata": {},
     "output_type": "display_data"
    }
   ],
   "source": [
    "fig = go.Figure()\n",
    "for i in range(len(df_run_pass)):\n",
    "    fig.add_trace(\n",
    "        go.Scatter(\n",
    "            x=[df_run_pass['yards_gained_run'][i]], \n",
    "            y=[df_run_pass['yards_gained_pass'][i]], \n",
    "            name=df_run_pass['posteam'][i], \n",
    "            # mode=\"markers\", \n",
    "            marker=dict(size=12,\n",
    "                        color=df_run_pass['team_color'][i])\n",
    "            # fill=df_run_pass['team_color'][i],\n",
    "            # hovertemplate=f\"<b>{name}</b><br>%{{y}} yds through week %{{x}}<extra></extra>\"\n",
    "        )\n",
    "    )\n",
    "    \n",
    "fig.update_layout(\n",
    "    font_family=\"Averta, sans-serif\",\n",
    "    hoverlabel_font_family=\"Averta, sans-serif\",\n",
    "    xaxis_title_text=\"Rush yards\",\n",
    "    xaxis_title_font_size=18,\n",
    "    xaxis_tickfont_size=16,\n",
    "    yaxis_title_text=\"Pass yards\",\n",
    "    yaxis_title_font_size=18,\n",
    "    yaxis_tickfont_size=16,\n",
    "    hoverlabel_font_size=16,\n",
    "    legend_font_size=16,\n",
    "    height=1000,\n",
    "    width=1000\n",
    ")\n",
    "        \n",
    "fig.show()"
   ]
  },
  {
   "cell_type": "code",
   "execution_count": 183,
   "id": "f38fa150-a610-47fa-ab06-a25f4ad5b74e",
   "metadata": {},
   "outputs": [
    {
     "data": {
      "application/vnd.plotly.v1+json": {
       "config": {
        "plotlyServerURL": "https://plot.ly"
       },
       "data": [
        {
         "marker": {
          "color": "#97233F",
          "size": 8
         },
         "name": "ARI",
         "type": "scatter3d",
         "x": [
          4.340040241448692
         ],
         "y": [
          6.573991031390134
         ],
         "z": [
          0.7428998505231689
         ]
        },
        {
         "marker": {
          "color": "#A71930",
          "size": 8
         },
         "name": "ATL",
         "type": "scatter3d",
         "x": [
          3.8098958333333335
         ],
         "y": [
          6.047231270358306
         ],
         "z": [
          0.6254071661237784
         ]
        },
        {
         "marker": {
          "color": "#241773",
          "size": 8
         },
         "name": "BAL",
         "type": "scatter3d",
         "x": [
          4.886051080550098
         ],
         "y": [
          5.93562874251497
         ],
         "z": [
          0.7619760479041916
         ]
        },
        {
         "marker": {
          "color": "#00338D",
          "size": 8
         },
         "name": "BUF",
         "type": "scatter3d",
         "x": [
          5.153374233128834
         ],
         "y": [
          6.5392809587217045
         ],
         "z": [
          0.6511318242343542
         ]
        },
        {
         "marker": {
          "color": "#0085CA",
          "size": 8
         },
         "name": "CAR",
         "type": "scatter3d",
         "x": [
          4.1591928251121075
         ],
         "y": [
          4.96937212863706
         ],
         "z": [
          0.6830015313935681
         ]
        },
        {
         "marker": {
          "color": "#0B162A",
          "size": 8
         },
         "name": "CHI",
         "type": "scatter3d",
         "x": [
          4.358369098712446
         ],
         "y": [
          5.346089850249584
         ],
         "z": [
          0.7753743760399334
         ]
        },
        {
         "marker": {
          "color": "#FB4F14",
          "size": 8
         },
         "name": "CIN",
         "type": "scatter3d",
         "x": [
          4.083657587548638
         ],
         "y": [
          6.97020725388601
         ],
         "z": [
          0.6658031088082902
         ]
        },
        {
         "marker": {
          "color": "#FF3C00",
          "size": 8
         },
         "name": "CLE",
         "type": "scatter3d",
         "x": [
          5.242616033755274
         ],
         "y": [
          5.84182776801406
         ],
         "z": [
          0.8330404217926186
         ]
        },
        {
         "marker": {
          "color": "#002244",
          "size": 8
         },
         "name": "DAL",
         "type": "scatter3d",
         "x": [
          4.649269311064718
         ],
         "y": [
          6.867667121418827
         ],
         "z": [
          0.6534788540245566
         ]
        },
        {
         "marker": {
          "color": "#002244",
          "size": 8
         },
         "name": "DEN",
         "type": "scatter3d",
         "x": [
          4.523385300668151
         ],
         "y": [
          6.166380789022298
         ],
         "z": [
          0.7701543739279588
         ]
        },
        {
         "marker": {
          "color": "#0076B6",
          "size": 8
         },
         "name": "DET",
         "type": "scatter3d",
         "x": [
          4.429577464788732
         ],
         "y": [
          5.726984126984127
         ],
         "z": [
          0.6761904761904762
         ]
        },
        {
         "marker": {
          "color": "#203731",
          "size": 8
         },
         "name": "GB",
         "type": "scatter3d",
         "x": [
          4.449664429530201
         ],
         "y": [
          6.855623100303951
         ],
         "z": [
          0.6793313069908815
         ]
        },
        {
         "marker": {
          "color": "#03202F",
          "size": 8
         },
         "name": "HOU",
         "type": "scatter3d",
         "x": [
          3.416267942583732
         ],
         "y": [
          5.624149659863946
         ],
         "z": [
          0.7108843537414966
         ]
        },
        {
         "marker": {
          "color": "#002C5F",
          "size": 8
         },
         "name": "IND",
         "type": "scatter3d",
         "x": [
          5.24435318275154
         ],
         "y": [
          6.04129263913824
         ],
         "z": [
          0.874326750448833
         ]
        },
        {
         "marker": {
          "color": "#006778",
          "size": 8
         },
         "name": "JAX",
         "type": "scatter3d",
         "x": [
          4.569948186528498
         ],
         "y": [
          5.391849529780564
         ],
         "z": [
          0.6050156739811913
         ]
        },
        {
         "marker": {
          "color": "#E31837",
          "size": 8
         },
         "name": "KC",
         "type": "scatter3d",
         "x": [
          4.956701030927835
         ],
         "y": [
          6.900717703349282
         ],
         "z": [
          0.5801435406698564
         ]
        },
        {
         "marker": {
          "color": "#003594",
          "size": 8
         },
         "name": "LA",
         "type": "scatter3d",
         "x": [
          3.9210019267822736
         ],
         "y": [
          7.3822784810126585
         ],
         "z": [
          0.6569620253164556
         ]
        },
        {
         "marker": {
          "color": "#007BC7",
          "size": 8
         },
         "name": "LAC",
         "type": "scatter3d",
         "x": [
          4.5036496350364965
         ],
         "y": [
          6.758426966292135
         ],
         "z": [
          0.577247191011236
         ]
        },
        {
         "marker": {
          "color": "#000000",
          "size": 8
         },
         "name": "LV",
         "type": "scatter3d",
         "x": [
          4.138755980861244
         ],
         "y": [
          6.697513812154696
         ],
         "z": [
          0.5773480662983426
         ]
        },
        {
         "marker": {
          "color": "#008E97",
          "size": 8
         },
         "name": "MIA",
         "type": "scatter3d",
         "x": [
          3.6806526806526807
         ],
         "y": [
          5.571646341463414
         ],
         "z": [
          0.6539634146341463
         ]
        },
        {
         "marker": {
          "color": "#4F2683",
          "size": 8
         },
         "name": "MIN",
         "type": "scatter3d",
         "x": [
          4.385135135135135
         ],
         "y": [
          6.705696202531645
         ],
         "z": [
          0.7025316455696202
         ]
        },
        {
         "marker": {
          "color": "#002244",
          "size": 8
         },
         "name": "NE",
         "type": "scatter3d",
         "x": [
          4.604462474645031
         ],
         "y": [
          6.75
         ],
         "z": [
          0.8162251655629139
         ]
        },
        {
         "marker": {
          "color": "#D3BC8D",
          "size": 8
         },
         "name": "NO",
         "type": "scatter3d",
         "x": [
          4.036217303822937
         ],
         "y": [
          5.867403314917127
         ],
         "z": [
          0.9152854511970534
         ]
        },
        {
         "marker": {
          "color": "#0B2265",
          "size": 8
         },
         "name": "NYG",
         "type": "scatter3d",
         "x": [
          4.123486682808717
         ],
         "y": [
          5.084260731319555
         ],
         "z": [
          0.6565977742448331
         ]
        },
        {
         "marker": {
          "color": "#003F2D",
          "size": 8
         },
         "name": "NYJ",
         "type": "scatter3d",
         "x": [
          4.468085106382978
         ],
         "y": [
          5.371212121212121
         ],
         "z": [
          0.5696969696969697
         ]
        },
        {
         "marker": {
          "color": "#004C54",
          "size": 8
         },
         "name": "PHI",
         "type": "scatter3d",
         "x": [
          5.073608617594255
         ],
         "y": [
          6.380453752181501
         ],
         "z": [
          0.9720767888307156
         ]
        },
        {
         "marker": {
          "color": "#000000",
          "size": 8
         },
         "name": "PIT",
         "type": "scatter3d",
         "x": [
          3.9735576923076925
         ],
         "y": [
          5.310666666666667
         ],
         "z": [
          0.5546666666666666
         ]
        },
        {
         "marker": {
          "color": "#002244",
          "size": 8
         },
         "name": "SEA",
         "type": "scatter3d",
         "x": [
          5.1382716049382715
         ],
         "y": [
          6.3357933579335795
         ],
         "z": [
          0.7472324723247232
         ]
        },
        {
         "marker": {
          "color": "#AA0000",
          "size": 8
         },
         "name": "SF",
         "type": "scatter3d",
         "x": [
          4.37696335078534
         ],
         "y": [
          7.597110754414126
         ],
         "z": [
          0.9197431781701445
         ]
        },
        {
         "marker": {
          "color": "#A71930",
          "size": 8
         },
         "name": "TB",
         "type": "scatter3d",
         "x": [
          4.483009708737864
         ],
         "y": [
          6.792009400705052
         ],
         "z": [
          0.48413631022326675
         ]
        },
        {
         "marker": {
          "color": "#002244",
          "size": 8
         },
         "name": "TEN",
         "type": "scatter3d",
         "x": [
          4.532743362831859
         ],
         "y": [
          5.9851729818780885
         ],
         "z": [
          0.9308072487644151
         ]
        },
        {
         "marker": {
          "color": "#5A1414",
          "size": 8
         },
         "name": "WAS",
         "type": "scatter3d",
         "x": [
          4.3940677966101696
         ],
         "y": [
          5.792929292929293
         ],
         "z": [
          0.7946127946127947
         ]
        }
       ],
       "layout": {
        "height": 1100,
        "scene": {
         "aspectmode": "cube",
         "aspectratio": {
          "x": 1,
          "y": 1,
          "z": 1
         },
         "camera": {
          "center": {
           "x": 0,
           "y": 0,
           "z": 0
          },
          "eye": {
           "x": 2.2864391543915925,
           "y": 0.8631263711576224,
           "z": 0.5199141637543999
          },
          "projection": {
           "type": "perspective"
          },
          "up": {
           "x": 0.004537998959570795,
           "y": -0.011971879335568402,
           "z": 0.9999180369763402
          }
         },
         "xaxis": {
          "title": {
           "text": "Yards per Run"
          },
          "type": "linear"
         },
         "yaxis": {
          "title": {
           "text": "Yards per Pass"
          },
          "type": "linear"
         },
         "zaxis": {
          "title": {
           "text": "Run:Pass ratio"
          },
          "type": "linear"
         }
        },
        "template": {
         "data": {
          "bar": [
           {
            "error_x": {
             "color": "#2a3f5f"
            },
            "error_y": {
             "color": "#2a3f5f"
            },
            "marker": {
             "line": {
              "color": "#E5ECF6",
              "width": 0.5
             },
             "pattern": {
              "fillmode": "overlay",
              "size": 10,
              "solidity": 0.2
             }
            },
            "type": "bar"
           }
          ],
          "barpolar": [
           {
            "marker": {
             "line": {
              "color": "#E5ECF6",
              "width": 0.5
             },
             "pattern": {
              "fillmode": "overlay",
              "size": 10,
              "solidity": 0.2
             }
            },
            "type": "barpolar"
           }
          ],
          "carpet": [
           {
            "aaxis": {
             "endlinecolor": "#2a3f5f",
             "gridcolor": "white",
             "linecolor": "white",
             "minorgridcolor": "white",
             "startlinecolor": "#2a3f5f"
            },
            "baxis": {
             "endlinecolor": "#2a3f5f",
             "gridcolor": "white",
             "linecolor": "white",
             "minorgridcolor": "white",
             "startlinecolor": "#2a3f5f"
            },
            "type": "carpet"
           }
          ],
          "choropleth": [
           {
            "colorbar": {
             "outlinewidth": 0,
             "ticks": ""
            },
            "type": "choropleth"
           }
          ],
          "contour": [
           {
            "colorbar": {
             "outlinewidth": 0,
             "ticks": ""
            },
            "colorscale": [
             [
              0,
              "#0d0887"
             ],
             [
              0.1111111111111111,
              "#46039f"
             ],
             [
              0.2222222222222222,
              "#7201a8"
             ],
             [
              0.3333333333333333,
              "#9c179e"
             ],
             [
              0.4444444444444444,
              "#bd3786"
             ],
             [
              0.5555555555555556,
              "#d8576b"
             ],
             [
              0.6666666666666666,
              "#ed7953"
             ],
             [
              0.7777777777777778,
              "#fb9f3a"
             ],
             [
              0.8888888888888888,
              "#fdca26"
             ],
             [
              1,
              "#f0f921"
             ]
            ],
            "type": "contour"
           }
          ],
          "contourcarpet": [
           {
            "colorbar": {
             "outlinewidth": 0,
             "ticks": ""
            },
            "type": "contourcarpet"
           }
          ],
          "heatmap": [
           {
            "colorbar": {
             "outlinewidth": 0,
             "ticks": ""
            },
            "colorscale": [
             [
              0,
              "#0d0887"
             ],
             [
              0.1111111111111111,
              "#46039f"
             ],
             [
              0.2222222222222222,
              "#7201a8"
             ],
             [
              0.3333333333333333,
              "#9c179e"
             ],
             [
              0.4444444444444444,
              "#bd3786"
             ],
             [
              0.5555555555555556,
              "#d8576b"
             ],
             [
              0.6666666666666666,
              "#ed7953"
             ],
             [
              0.7777777777777778,
              "#fb9f3a"
             ],
             [
              0.8888888888888888,
              "#fdca26"
             ],
             [
              1,
              "#f0f921"
             ]
            ],
            "type": "heatmap"
           }
          ],
          "heatmapgl": [
           {
            "colorbar": {
             "outlinewidth": 0,
             "ticks": ""
            },
            "colorscale": [
             [
              0,
              "#0d0887"
             ],
             [
              0.1111111111111111,
              "#46039f"
             ],
             [
              0.2222222222222222,
              "#7201a8"
             ],
             [
              0.3333333333333333,
              "#9c179e"
             ],
             [
              0.4444444444444444,
              "#bd3786"
             ],
             [
              0.5555555555555556,
              "#d8576b"
             ],
             [
              0.6666666666666666,
              "#ed7953"
             ],
             [
              0.7777777777777778,
              "#fb9f3a"
             ],
             [
              0.8888888888888888,
              "#fdca26"
             ],
             [
              1,
              "#f0f921"
             ]
            ],
            "type": "heatmapgl"
           }
          ],
          "histogram": [
           {
            "marker": {
             "pattern": {
              "fillmode": "overlay",
              "size": 10,
              "solidity": 0.2
             }
            },
            "type": "histogram"
           }
          ],
          "histogram2d": [
           {
            "colorbar": {
             "outlinewidth": 0,
             "ticks": ""
            },
            "colorscale": [
             [
              0,
              "#0d0887"
             ],
             [
              0.1111111111111111,
              "#46039f"
             ],
             [
              0.2222222222222222,
              "#7201a8"
             ],
             [
              0.3333333333333333,
              "#9c179e"
             ],
             [
              0.4444444444444444,
              "#bd3786"
             ],
             [
              0.5555555555555556,
              "#d8576b"
             ],
             [
              0.6666666666666666,
              "#ed7953"
             ],
             [
              0.7777777777777778,
              "#fb9f3a"
             ],
             [
              0.8888888888888888,
              "#fdca26"
             ],
             [
              1,
              "#f0f921"
             ]
            ],
            "type": "histogram2d"
           }
          ],
          "histogram2dcontour": [
           {
            "colorbar": {
             "outlinewidth": 0,
             "ticks": ""
            },
            "colorscale": [
             [
              0,
              "#0d0887"
             ],
             [
              0.1111111111111111,
              "#46039f"
             ],
             [
              0.2222222222222222,
              "#7201a8"
             ],
             [
              0.3333333333333333,
              "#9c179e"
             ],
             [
              0.4444444444444444,
              "#bd3786"
             ],
             [
              0.5555555555555556,
              "#d8576b"
             ],
             [
              0.6666666666666666,
              "#ed7953"
             ],
             [
              0.7777777777777778,
              "#fb9f3a"
             ],
             [
              0.8888888888888888,
              "#fdca26"
             ],
             [
              1,
              "#f0f921"
             ]
            ],
            "type": "histogram2dcontour"
           }
          ],
          "mesh3d": [
           {
            "colorbar": {
             "outlinewidth": 0,
             "ticks": ""
            },
            "type": "mesh3d"
           }
          ],
          "parcoords": [
           {
            "line": {
             "colorbar": {
              "outlinewidth": 0,
              "ticks": ""
             }
            },
            "type": "parcoords"
           }
          ],
          "pie": [
           {
            "automargin": true,
            "type": "pie"
           }
          ],
          "scatter": [
           {
            "fillpattern": {
             "fillmode": "overlay",
             "size": 10,
             "solidity": 0.2
            },
            "type": "scatter"
           }
          ],
          "scatter3d": [
           {
            "line": {
             "colorbar": {
              "outlinewidth": 0,
              "ticks": ""
             }
            },
            "marker": {
             "colorbar": {
              "outlinewidth": 0,
              "ticks": ""
             }
            },
            "type": "scatter3d"
           }
          ],
          "scattercarpet": [
           {
            "marker": {
             "colorbar": {
              "outlinewidth": 0,
              "ticks": ""
             }
            },
            "type": "scattercarpet"
           }
          ],
          "scattergeo": [
           {
            "marker": {
             "colorbar": {
              "outlinewidth": 0,
              "ticks": ""
             }
            },
            "type": "scattergeo"
           }
          ],
          "scattergl": [
           {
            "marker": {
             "colorbar": {
              "outlinewidth": 0,
              "ticks": ""
             }
            },
            "type": "scattergl"
           }
          ],
          "scattermapbox": [
           {
            "marker": {
             "colorbar": {
              "outlinewidth": 0,
              "ticks": ""
             }
            },
            "type": "scattermapbox"
           }
          ],
          "scatterpolar": [
           {
            "marker": {
             "colorbar": {
              "outlinewidth": 0,
              "ticks": ""
             }
            },
            "type": "scatterpolar"
           }
          ],
          "scatterpolargl": [
           {
            "marker": {
             "colorbar": {
              "outlinewidth": 0,
              "ticks": ""
             }
            },
            "type": "scatterpolargl"
           }
          ],
          "scatterternary": [
           {
            "marker": {
             "colorbar": {
              "outlinewidth": 0,
              "ticks": ""
             }
            },
            "type": "scatterternary"
           }
          ],
          "surface": [
           {
            "colorbar": {
             "outlinewidth": 0,
             "ticks": ""
            },
            "colorscale": [
             [
              0,
              "#0d0887"
             ],
             [
              0.1111111111111111,
              "#46039f"
             ],
             [
              0.2222222222222222,
              "#7201a8"
             ],
             [
              0.3333333333333333,
              "#9c179e"
             ],
             [
              0.4444444444444444,
              "#bd3786"
             ],
             [
              0.5555555555555556,
              "#d8576b"
             ],
             [
              0.6666666666666666,
              "#ed7953"
             ],
             [
              0.7777777777777778,
              "#fb9f3a"
             ],
             [
              0.8888888888888888,
              "#fdca26"
             ],
             [
              1,
              "#f0f921"
             ]
            ],
            "type": "surface"
           }
          ],
          "table": [
           {
            "cells": {
             "fill": {
              "color": "#EBF0F8"
             },
             "line": {
              "color": "white"
             }
            },
            "header": {
             "fill": {
              "color": "#C8D4E3"
             },
             "line": {
              "color": "white"
             }
            },
            "type": "table"
           }
          ]
         },
         "layout": {
          "annotationdefaults": {
           "arrowcolor": "#2a3f5f",
           "arrowhead": 0,
           "arrowwidth": 1
          },
          "autotypenumbers": "strict",
          "coloraxis": {
           "colorbar": {
            "outlinewidth": 0,
            "ticks": ""
           }
          },
          "colorscale": {
           "diverging": [
            [
             0,
             "#8e0152"
            ],
            [
             0.1,
             "#c51b7d"
            ],
            [
             0.2,
             "#de77ae"
            ],
            [
             0.3,
             "#f1b6da"
            ],
            [
             0.4,
             "#fde0ef"
            ],
            [
             0.5,
             "#f7f7f7"
            ],
            [
             0.6,
             "#e6f5d0"
            ],
            [
             0.7,
             "#b8e186"
            ],
            [
             0.8,
             "#7fbc41"
            ],
            [
             0.9,
             "#4d9221"
            ],
            [
             1,
             "#276419"
            ]
           ],
           "sequential": [
            [
             0,
             "#0d0887"
            ],
            [
             0.1111111111111111,
             "#46039f"
            ],
            [
             0.2222222222222222,
             "#7201a8"
            ],
            [
             0.3333333333333333,
             "#9c179e"
            ],
            [
             0.4444444444444444,
             "#bd3786"
            ],
            [
             0.5555555555555556,
             "#d8576b"
            ],
            [
             0.6666666666666666,
             "#ed7953"
            ],
            [
             0.7777777777777778,
             "#fb9f3a"
            ],
            [
             0.8888888888888888,
             "#fdca26"
            ],
            [
             1,
             "#f0f921"
            ]
           ],
           "sequentialminus": [
            [
             0,
             "#0d0887"
            ],
            [
             0.1111111111111111,
             "#46039f"
            ],
            [
             0.2222222222222222,
             "#7201a8"
            ],
            [
             0.3333333333333333,
             "#9c179e"
            ],
            [
             0.4444444444444444,
             "#bd3786"
            ],
            [
             0.5555555555555556,
             "#d8576b"
            ],
            [
             0.6666666666666666,
             "#ed7953"
            ],
            [
             0.7777777777777778,
             "#fb9f3a"
            ],
            [
             0.8888888888888888,
             "#fdca26"
            ],
            [
             1,
             "#f0f921"
            ]
           ]
          },
          "colorway": [
           "#636efa",
           "#EF553B",
           "#00cc96",
           "#ab63fa",
           "#FFA15A",
           "#19d3f3",
           "#FF6692",
           "#B6E880",
           "#FF97FF",
           "#FECB52"
          ],
          "font": {
           "color": "#2a3f5f"
          },
          "geo": {
           "bgcolor": "white",
           "lakecolor": "white",
           "landcolor": "#E5ECF6",
           "showlakes": true,
           "showland": true,
           "subunitcolor": "white"
          },
          "hoverlabel": {
           "align": "left"
          },
          "hovermode": "closest",
          "mapbox": {
           "style": "light"
          },
          "paper_bgcolor": "white",
          "plot_bgcolor": "#E5ECF6",
          "polar": {
           "angularaxis": {
            "gridcolor": "white",
            "linecolor": "white",
            "ticks": ""
           },
           "bgcolor": "#E5ECF6",
           "radialaxis": {
            "gridcolor": "white",
            "linecolor": "white",
            "ticks": ""
           }
          },
          "scene": {
           "xaxis": {
            "backgroundcolor": "#E5ECF6",
            "gridcolor": "white",
            "gridwidth": 2,
            "linecolor": "white",
            "showbackground": true,
            "ticks": "",
            "zerolinecolor": "white"
           },
           "yaxis": {
            "backgroundcolor": "#E5ECF6",
            "gridcolor": "white",
            "gridwidth": 2,
            "linecolor": "white",
            "showbackground": true,
            "ticks": "",
            "zerolinecolor": "white"
           },
           "zaxis": {
            "backgroundcolor": "#E5ECF6",
            "gridcolor": "white",
            "gridwidth": 2,
            "linecolor": "white",
            "showbackground": true,
            "ticks": "",
            "zerolinecolor": "white"
           }
          },
          "shapedefaults": {
           "line": {
            "color": "#2a3f5f"
           }
          },
          "ternary": {
           "aaxis": {
            "gridcolor": "white",
            "linecolor": "white",
            "ticks": ""
           },
           "baxis": {
            "gridcolor": "white",
            "linecolor": "white",
            "ticks": ""
           },
           "bgcolor": "#E5ECF6",
           "caxis": {
            "gridcolor": "white",
            "linecolor": "white",
            "ticks": ""
           }
          },
          "title": {
           "x": 0.05
          },
          "xaxis": {
           "automargin": true,
           "gridcolor": "white",
           "linecolor": "white",
           "ticks": "",
           "title": {
            "standoff": 15
           },
           "zerolinecolor": "white",
           "zerolinewidth": 2
          },
          "yaxis": {
           "automargin": true,
           "gridcolor": "white",
           "linecolor": "white",
           "ticks": "",
           "title": {
            "standoff": 15
           },
           "zerolinecolor": "white",
           "zerolinewidth": 2
          }
         }
        },
        "width": 1100
       }
      },
      "image/png": "[encoded data removed]",
      "text/html": [
       "<div>                            <div id=\"c2f57461-4352-4f0f-a18d-bf19bceb98b4\" class=\"plotly-graph-div\" style=\"height:1100px; width:1100px;\"></div>            <script type=\"text/javascript\">                require([\"plotly\"], function(Plotly) {                    window.PLOTLYENV=window.PLOTLYENV || {};                                    if (document.getElementById(\"c2f57461-4352-4f0f-a18d-bf19bceb98b4\")) {                    Plotly.newPlot(                        \"c2f57461-4352-4f0f-a18d-bf19bceb98b4\",                        [{\"marker\":{\"color\":\"#97233F\",\"size\":8},\"name\":\"ARI\",\"x\":[4.340040241448692],\"y\":[6.573991031390134],\"z\":[0.7428998505231689],\"type\":\"scatter3d\"},{\"marker\":{\"color\":\"#A71930\",\"size\":8},\"name\":\"ATL\",\"x\":[3.8098958333333335],\"y\":[6.047231270358306],\"z\":[0.6254071661237784],\"type\":\"scatter3d\"},{\"marker\":{\"color\":\"#241773\",\"size\":8},\"name\":\"BAL\",\"x\":[4.886051080550098],\"y\":[5.93562874251497],\"z\":[0.7619760479041916],\"type\":\"scatter3d\"},{\"marker\":{\"color\":\"#00338D\",\"size\":8},\"name\":\"BUF\",\"x\":[5.153374233128834],\"y\":[6.5392809587217045],\"z\":[0.6511318242343542],\"type\":\"scatter3d\"},{\"marker\":{\"color\":\"#0085CA\",\"size\":8},\"name\":\"CAR\",\"x\":[4.1591928251121075],\"y\":[4.96937212863706],\"z\":[0.6830015313935681],\"type\":\"scatter3d\"},{\"marker\":{\"color\":\"#0B162A\",\"size\":8},\"name\":\"CHI\",\"x\":[4.358369098712446],\"y\":[5.346089850249584],\"z\":[0.7753743760399334],\"type\":\"scatter3d\"},{\"marker\":{\"color\":\"#FB4F14\",\"size\":8},\"name\":\"CIN\",\"x\":[4.083657587548638],\"y\":[6.97020725388601],\"z\":[0.6658031088082902],\"type\":\"scatter3d\"},{\"marker\":{\"color\":\"#FF3C00\",\"size\":8},\"name\":\"CLE\",\"x\":[5.242616033755274],\"y\":[5.84182776801406],\"z\":[0.8330404217926186],\"type\":\"scatter3d\"},{\"marker\":{\"color\":\"#002244\",\"size\":8},\"name\":\"DAL\",\"x\":[4.649269311064718],\"y\":[6.867667121418827],\"z\":[0.6534788540245566],\"type\":\"scatter3d\"},{\"marker\":{\"color\":\"#002244\",\"size\":8},\"name\":\"DEN\",\"x\":[4.523385300668151],\"y\":[6.166380789022298],\"z\":[0.7701543739279588],\"type\":\"scatter3d\"},{\"marker\":{\"color\":\"#0076B6\",\"size\":8},\"name\":\"DET\",\"x\":[4.429577464788732],\"y\":[5.726984126984127],\"z\":[0.6761904761904762],\"type\":\"scatter3d\"},{\"marker\":{\"color\":\"#203731\",\"size\":8},\"name\":\"GB\",\"x\":[4.449664429530201],\"y\":[6.855623100303951],\"z\":[0.6793313069908815],\"type\":\"scatter3d\"},{\"marker\":{\"color\":\"#03202F\",\"size\":8},\"name\":\"HOU\",\"x\":[3.416267942583732],\"y\":[5.624149659863946],\"z\":[0.7108843537414966],\"type\":\"scatter3d\"},{\"marker\":{\"color\":\"#002C5F\",\"size\":8},\"name\":\"IND\",\"x\":[5.24435318275154],\"y\":[6.04129263913824],\"z\":[0.874326750448833],\"type\":\"scatter3d\"},{\"marker\":{\"color\":\"#006778\",\"size\":8},\"name\":\"JAX\",\"x\":[4.569948186528498],\"y\":[5.391849529780564],\"z\":[0.6050156739811913],\"type\":\"scatter3d\"},{\"marker\":{\"color\":\"#E31837\",\"size\":8},\"name\":\"KC\",\"x\":[4.956701030927835],\"y\":[6.900717703349282],\"z\":[0.5801435406698564],\"type\":\"scatter3d\"},{\"marker\":{\"color\":\"#003594\",\"size\":8},\"name\":\"LA\",\"x\":[3.9210019267822736],\"y\":[7.3822784810126585],\"z\":[0.6569620253164556],\"type\":\"scatter3d\"},{\"marker\":{\"color\":\"#007BC7\",\"size\":8},\"name\":\"LAC\",\"x\":[4.5036496350364965],\"y\":[6.758426966292135],\"z\":[0.577247191011236],\"type\":\"scatter3d\"},{\"marker\":{\"color\":\"#000000\",\"size\":8},\"name\":\"LV\",\"x\":[4.138755980861244],\"y\":[6.697513812154696],\"z\":[0.5773480662983426],\"type\":\"scatter3d\"},{\"marker\":{\"color\":\"#008E97\",\"size\":8},\"name\":\"MIA\",\"x\":[3.6806526806526807],\"y\":[5.571646341463414],\"z\":[0.6539634146341463],\"type\":\"scatter3d\"},{\"marker\":{\"color\":\"#4F2683\",\"size\":8},\"name\":\"MIN\",\"x\":[4.385135135135135],\"y\":[6.705696202531645],\"z\":[0.7025316455696202],\"type\":\"scatter3d\"},{\"marker\":{\"color\":\"#002244\",\"size\":8},\"name\":\"NE\",\"x\":[4.604462474645031],\"y\":[6.75],\"z\":[0.8162251655629139],\"type\":\"scatter3d\"},{\"marker\":{\"color\":\"#D3BC8D\",\"size\":8},\"name\":\"NO\",\"x\":[4.036217303822937],\"y\":[5.867403314917127],\"z\":[0.9152854511970534],\"type\":\"scatter3d\"},{\"marker\":{\"color\":\"#0B2265\",\"size\":8},\"name\":\"NYG\",\"x\":[4.123486682808717],\"y\":[5.084260731319555],\"z\":[0.6565977742448331],\"type\":\"scatter3d\"},{\"marker\":{\"color\":\"#003F2D\",\"size\":8},\"name\":\"NYJ\",\"x\":[4.468085106382978],\"y\":[5.371212121212121],\"z\":[0.5696969696969697],\"type\":\"scatter3d\"},{\"marker\":{\"color\":\"#004C54\",\"size\":8},\"name\":\"PHI\",\"x\":[5.073608617594255],\"y\":[6.380453752181501],\"z\":[0.9720767888307156],\"type\":\"scatter3d\"},{\"marker\":{\"color\":\"#000000\",\"size\":8},\"name\":\"PIT\",\"x\":[3.9735576923076925],\"y\":[5.310666666666667],\"z\":[0.5546666666666666],\"type\":\"scatter3d\"},{\"marker\":{\"color\":\"#002244\",\"size\":8},\"name\":\"SEA\",\"x\":[5.1382716049382715],\"y\":[6.3357933579335795],\"z\":[0.7472324723247232],\"type\":\"scatter3d\"},{\"marker\":{\"color\":\"#AA0000\",\"size\":8},\"name\":\"SF\",\"x\":[4.37696335078534],\"y\":[7.597110754414126],\"z\":[0.9197431781701445],\"type\":\"scatter3d\"},{\"marker\":{\"color\":\"#A71930\",\"size\":8},\"name\":\"TB\",\"x\":[4.483009708737864],\"y\":[6.792009400705052],\"z\":[0.48413631022326675],\"type\":\"scatter3d\"},{\"marker\":{\"color\":\"#002244\",\"size\":8},\"name\":\"TEN\",\"x\":[4.532743362831859],\"y\":[5.9851729818780885],\"z\":[0.9308072487644151],\"type\":\"scatter3d\"},{\"marker\":{\"color\":\"#5A1414\",\"size\":8},\"name\":\"WAS\",\"x\":[4.3940677966101696],\"y\":[5.792929292929293],\"z\":[0.7946127946127947],\"type\":\"scatter3d\"}],                        {\"template\":{\"data\":{\"histogram2dcontour\":[{\"type\":\"histogram2dcontour\",\"colorbar\":{\"outlinewidth\":0,\"ticks\":\"\"},\"colorscale\":[[0.0,\"#0d0887\"],[0.1111111111111111,\"#46039f\"],[0.2222222222222222,\"#7201a8\"],[0.3333333333333333,\"#9c179e\"],[0.4444444444444444,\"#bd3786\"],[0.5555555555555556,\"#d8576b\"],[0.6666666666666666,\"#ed7953\"],[0.7777777777777778,\"#fb9f3a\"],[0.8888888888888888,\"#fdca26\"],[1.0,\"#f0f921\"]]}],\"choropleth\":[{\"type\":\"choropleth\",\"colorbar\":{\"outlinewidth\":0,\"ticks\":\"\"}}],\"histogram2d\":[{\"type\":\"histogram2d\",\"colorbar\":{\"outlinewidth\":0,\"ticks\":\"\"},\"colorscale\":[[0.0,\"#0d0887\"],[0.1111111111111111,\"#46039f\"],[0.2222222222222222,\"#7201a8\"],[0.3333333333333333,\"#9c179e\"],[0.4444444444444444,\"#bd3786\"],[0.5555555555555556,\"#d8576b\"],[0.6666666666666666,\"#ed7953\"],[0.7777777777777778,\"#fb9f3a\"],[0.8888888888888888,\"#fdca26\"],[1.0,\"#f0f921\"]]}],\"heatmap\":[{\"type\":\"heatmap\",\"colorbar\":{\"outlinewidth\":0,\"ticks\":\"\"},\"colorscale\":[[0.0,\"#0d0887\"],[0.1111111111111111,\"#46039f\"],[0.2222222222222222,\"#7201a8\"],[0.3333333333333333,\"#9c179e\"],[0.4444444444444444,\"#bd3786\"],[0.5555555555555556,\"#d8576b\"],[0.6666666666666666,\"#ed7953\"],[0.7777777777777778,\"#fb9f3a\"],[0.8888888888888888,\"#fdca26\"],[1.0,\"#f0f921\"]]}],\"heatmapgl\":[{\"type\":\"heatmapgl\",\"colorbar\":{\"outlinewidth\":0,\"ticks\":\"\"},\"colorscale\":[[0.0,\"#0d0887\"],[0.1111111111111111,\"#46039f\"],[0.2222222222222222,\"#7201a8\"],[0.3333333333333333,\"#9c179e\"],[0.4444444444444444,\"#bd3786\"],[0.5555555555555556,\"#d8576b\"],[0.6666666666666666,\"#ed7953\"],[0.7777777777777778,\"#fb9f3a\"],[0.8888888888888888,\"#fdca26\"],[1.0,\"#f0f921\"]]}],\"contourcarpet\":[{\"type\":\"contourcarpet\",\"colorbar\":{\"outlinewidth\":0,\"ticks\":\"\"}}],\"contour\":[{\"type\":\"contour\",\"colorbar\":{\"outlinewidth\":0,\"ticks\":\"\"},\"colorscale\":[[0.0,\"#0d0887\"],[0.1111111111111111,\"#46039f\"],[0.2222222222222222,\"#7201a8\"],[0.3333333333333333,\"#9c179e\"],[0.4444444444444444,\"#bd3786\"],[0.5555555555555556,\"#d8576b\"],[0.6666666666666666,\"#ed7953\"],[0.7777777777777778,\"#fb9f3a\"],[0.8888888888888888,\"#fdca26\"],[1.0,\"#f0f921\"]]}],\"surface\":[{\"type\":\"surface\",\"colorbar\":{\"outlinewidth\":0,\"ticks\":\"\"},\"colorscale\":[[0.0,\"#0d0887\"],[0.1111111111111111,\"#46039f\"],[0.2222222222222222,\"#7201a8\"],[0.3333333333333333,\"#9c179e\"],[0.4444444444444444,\"#bd3786\"],[0.5555555555555556,\"#d8576b\"],[0.6666666666666666,\"#ed7953\"],[0.7777777777777778,\"#fb9f3a\"],[0.8888888888888888,\"#fdca26\"],[1.0,\"#f0f921\"]]}],\"mesh3d\":[{\"type\":\"mesh3d\",\"colorbar\":{\"outlinewidth\":0,\"ticks\":\"\"}}],\"scatter\":[{\"fillpattern\":{\"fillmode\":\"overlay\",\"size\":10,\"solidity\":0.2},\"type\":\"scatter\"}],\"parcoords\":[{\"type\":\"parcoords\",\"line\":{\"colorbar\":{\"outlinewidth\":0,\"ticks\":\"\"}}}],\"scatterpolargl\":[{\"type\":\"scatterpolargl\",\"marker\":{\"colorbar\":{\"outlinewidth\":0,\"ticks\":\"\"}}}],\"bar\":[{\"error_x\":{\"color\":\"#2a3f5f\"},\"error_y\":{\"color\":\"#2a3f5f\"},\"marker\":{\"line\":{\"color\":\"#E5ECF6\",\"width\":0.5},\"pattern\":{\"fillmode\":\"overlay\",\"size\":10,\"solidity\":0.2}},\"type\":\"bar\"}],\"scattergeo\":[{\"type\":\"scattergeo\",\"marker\":{\"colorbar\":{\"outlinewidth\":0,\"ticks\":\"\"}}}],\"scatterpolar\":[{\"type\":\"scatterpolar\",\"marker\":{\"colorbar\":{\"outlinewidth\":0,\"ticks\":\"\"}}}],\"histogram\":[{\"marker\":{\"pattern\":{\"fillmode\":\"overlay\",\"size\":10,\"solidity\":0.2}},\"type\":\"histogram\"}],\"scattergl\":[{\"type\":\"scattergl\",\"marker\":{\"colorbar\":{\"outlinewidth\":0,\"ticks\":\"\"}}}],\"scatter3d\":[{\"type\":\"scatter3d\",\"line\":{\"colorbar\":{\"outlinewidth\":0,\"ticks\":\"\"}},\"marker\":{\"colorbar\":{\"outlinewidth\":0,\"ticks\":\"\"}}}],\"scattermapbox\":[{\"type\":\"scattermapbox\",\"marker\":{\"colorbar\":{\"outlinewidth\":0,\"ticks\":\"\"}}}],\"scatterternary\":[{\"type\":\"scatterternary\",\"marker\":{\"colorbar\":{\"outlinewidth\":0,\"ticks\":\"\"}}}],\"scattercarpet\":[{\"type\":\"scattercarpet\",\"marker\":{\"colorbar\":{\"outlinewidth\":0,\"ticks\":\"\"}}}],\"carpet\":[{\"aaxis\":{\"endlinecolor\":\"#2a3f5f\",\"gridcolor\":\"white\",\"linecolor\":\"white\",\"minorgridcolor\":\"white\",\"startlinecolor\":\"#2a3f5f\"},\"baxis\":{\"endlinecolor\":\"#2a3f5f\",\"gridcolor\":\"white\",\"linecolor\":\"white\",\"minorgridcolor\":\"white\",\"startlinecolor\":\"#2a3f5f\"},\"type\":\"carpet\"}],\"table\":[{\"cells\":{\"fill\":{\"color\":\"#EBF0F8\"},\"line\":{\"color\":\"white\"}},\"header\":{\"fill\":{\"color\":\"#C8D4E3\"},\"line\":{\"color\":\"white\"}},\"type\":\"table\"}],\"barpolar\":[{\"marker\":{\"line\":{\"color\":\"#E5ECF6\",\"width\":0.5},\"pattern\":{\"fillmode\":\"overlay\",\"size\":10,\"solidity\":0.2}},\"type\":\"barpolar\"}],\"pie\":[{\"automargin\":true,\"type\":\"pie\"}]},\"layout\":{\"autotypenumbers\":\"strict\",\"colorway\":[\"#636efa\",\"#EF553B\",\"#00cc96\",\"#ab63fa\",\"#FFA15A\",\"#19d3f3\",\"#FF6692\",\"#B6E880\",\"#FF97FF\",\"#FECB52\"],\"font\":{\"color\":\"#2a3f5f\"},\"hovermode\":\"closest\",\"hoverlabel\":{\"align\":\"left\"},\"paper_bgcolor\":\"white\",\"plot_bgcolor\":\"#E5ECF6\",\"polar\":{\"bgcolor\":\"#E5ECF6\",\"angularaxis\":{\"gridcolor\":\"white\",\"linecolor\":\"white\",\"ticks\":\"\"},\"radialaxis\":{\"gridcolor\":\"white\",\"linecolor\":\"white\",\"ticks\":\"\"}},\"ternary\":{\"bgcolor\":\"#E5ECF6\",\"aaxis\":{\"gridcolor\":\"white\",\"linecolor\":\"white\",\"ticks\":\"\"},\"baxis\":{\"gridcolor\":\"white\",\"linecolor\":\"white\",\"ticks\":\"\"},\"caxis\":{\"gridcolor\":\"white\",\"linecolor\":\"white\",\"ticks\":\"\"}},\"coloraxis\":{\"colorbar\":{\"outlinewidth\":0,\"ticks\":\"\"}},\"colorscale\":{\"sequential\":[[0.0,\"#0d0887\"],[0.1111111111111111,\"#46039f\"],[0.2222222222222222,\"#7201a8\"],[0.3333333333333333,\"#9c179e\"],[0.4444444444444444,\"#bd3786\"],[0.5555555555555556,\"#d8576b\"],[0.6666666666666666,\"#ed7953\"],[0.7777777777777778,\"#fb9f3a\"],[0.8888888888888888,\"#fdca26\"],[1.0,\"#f0f921\"]],\"sequentialminus\":[[0.0,\"#0d0887\"],[0.1111111111111111,\"#46039f\"],[0.2222222222222222,\"#7201a8\"],[0.3333333333333333,\"#9c179e\"],[0.4444444444444444,\"#bd3786\"],[0.5555555555555556,\"#d8576b\"],[0.6666666666666666,\"#ed7953\"],[0.7777777777777778,\"#fb9f3a\"],[0.8888888888888888,\"#fdca26\"],[1.0,\"#f0f921\"]],\"diverging\":[[0,\"#8e0152\"],[0.1,\"#c51b7d\"],[0.2,\"#de77ae\"],[0.3,\"#f1b6da\"],[0.4,\"#fde0ef\"],[0.5,\"#f7f7f7\"],[0.6,\"#e6f5d0\"],[0.7,\"#b8e186\"],[0.8,\"#7fbc41\"],[0.9,\"#4d9221\"],[1,\"#276419\"]]},\"xaxis\":{\"gridcolor\":\"white\",\"linecolor\":\"white\",\"ticks\":\"\",\"title\":{\"standoff\":15},\"zerolinecolor\":\"white\",\"automargin\":true,\"zerolinewidth\":2},\"yaxis\":{\"gridcolor\":\"white\",\"linecolor\":\"white\",\"ticks\":\"\",\"title\":{\"standoff\":15},\"zerolinecolor\":\"white\",\"automargin\":true,\"zerolinewidth\":2},\"scene\":{\"xaxis\":{\"backgroundcolor\":\"#E5ECF6\",\"gridcolor\":\"white\",\"linecolor\":\"white\",\"showbackground\":true,\"ticks\":\"\",\"zerolinecolor\":\"white\",\"gridwidth\":2},\"yaxis\":{\"backgroundcolor\":\"#E5ECF6\",\"gridcolor\":\"white\",\"linecolor\":\"white\",\"showbackground\":true,\"ticks\":\"\",\"zerolinecolor\":\"white\",\"gridwidth\":2},\"zaxis\":{\"backgroundcolor\":\"#E5ECF6\",\"gridcolor\":\"white\",\"linecolor\":\"white\",\"showbackground\":true,\"ticks\":\"\",\"zerolinecolor\":\"white\",\"gridwidth\":2}},\"shapedefaults\":{\"line\":{\"color\":\"#2a3f5f\"}},\"annotationdefaults\":{\"arrowcolor\":\"#2a3f5f\",\"arrowhead\":0,\"arrowwidth\":1},\"geo\":{\"bgcolor\":\"white\",\"landcolor\":\"#E5ECF6\",\"subunitcolor\":\"white\",\"showland\":true,\"showlakes\":true,\"lakecolor\":\"white\"},\"title\":{\"x\":0.05},\"mapbox\":{\"style\":\"light\"}}},\"scene\":{\"aspectmode\":\"cube\",\"xaxis\":{\"title\":{\"text\":\"Yards per Run\"}},\"yaxis\":{\"title\":{\"text\":\"Yards per Pass\"}},\"zaxis\":{\"title\":{\"text\":\"Run:Pass ratio\"}}},\"width\":1100,\"height\":1100},                        {\"responsive\": true}                    ).then(function(){\n",
       "                            \n",
       "var gd = document.getElementById('c2f57461-4352-4f0f-a18d-bf19bceb98b4');\n",
       "var x = new MutationObserver(function (mutations, observer) {{\n",
       "        var display = window.getComputedStyle(gd).display;\n",
       "        if (!display || display === 'none') {{\n",
       "            console.log([gd, 'removed!']);\n",
       "            Plotly.purge(gd);\n",
       "            observer.disconnect();\n",
       "        }}\n",
       "}});\n",
       "\n",
       "// Listen for the removal of the full notebook cells\n",
       "var notebookContainer = gd.closest('#notebook-container');\n",
       "if (notebookContainer) {{\n",
       "    x.observe(notebookContainer, {childList: true});\n",
       "}}\n",
       "\n",
       "// Listen for the clearing of the current output cell\n",
       "var outputEl = gd.closest('.output');\n",
       "if (outputEl) {{\n",
       "    x.observe(outputEl, {childList: true});\n",
       "}}\n",
       "\n",
       "                        })                };                });            </script>        </div>"
      ]
     },
     "metadata": {},
     "output_type": "display_data"
    }
   ],
   "source": [
    "fig = go.Figure()\n",
    "\n",
    "for i in range(len(df_run_pass)):\n",
    "    fig.add_trace(\n",
    "        go.Scatter3d(x=[df_run_pass['yds_per_run'][i]], \n",
    "                     y=[df_run_pass['yds_per_pass_attempt'][i]],\n",
    "                     z=[df_run_pass['run-pass ratio'][i]],\n",
    "                     name=df_run_pass['posteam'][i], \n",
    "                    # mode=\"markers\", \n",
    "                    marker=dict(size=8,\n",
    "                        color=df_run_pass['team_color'][i])))\n",
    "# fig.update_layout(\n",
    "#     font_family=\"Averta, sans-serif\",\n",
    "#     hoverlabel_font_family=\"Averta, sans-serif\",\n",
    "#     xaxis_title_text=\"Yards per Run\",\n",
    "#     xaxis_title_font_size=18,\n",
    "#     xaxis_tickfont_size=16,\n",
    "#     yaxis_title_text=\"Yards per Pass\",\n",
    "#     yaxis_title_font_size=18,\n",
    "#     yaxis_tickfont_size=16,\n",
    "#     hoverlabel_font_size=16,\n",
    "#     legend_font_size=16,\n",
    "#     height=1000,\n",
    "#     width=1000\n",
    "# )\n",
    "\n",
    "fig.update_layout(scene_aspectmode='cube',\n",
    "                 scene = dict(\n",
    "                    xaxis_title='Yards per Run',\n",
    "                    yaxis_title='Yards per Pass',\n",
    "                    zaxis_title='Run:Pass ratio'),\n",
    "                 width=1100,\n",
    "                 height=1100)\n",
    "\n",
    "# fig.update_layout(\n",
    "#     scene = dict(\n",
    "#         xaxis = dict(nticks=4, range=[-100,100],),\n",
    "#         yaxis = dict(nticks=4, range=[-50,100],),\n",
    "#         zaxis = dict(nticks=4, range=[-100,100],),),\n",
    "#     width=700,\n",
    "#     margin=dict(r=20, l=10, b=10, t=10))\n",
    "\n",
    "fig.show()"
   ]
  },
  {
   "cell_type": "markdown",
   "id": "546fd332-42ef-40e4-b200-f43298f28ab0",
   "metadata": {},
   "source": [
    "## When up vs. when down"
   ]
  },
  {
   "cell_type": "code",
   "execution_count": null,
   "id": "cb3ee892-0f37-48db-bf41-309fef65307b",
   "metadata": {},
   "outputs": [],
   "source": [
    "df_pbp_2022['score_differential']"
   ]
  }
 ],
 "metadata": {
  "kernelspec": {
   "display_name": "Python 3 (ipykernel)",
   "language": "python",
   "name": "python3"
  },
  "language_info": {
   "codemirror_mode": {
    "name": "ipython",
    "version": 3
   },
   "file_extension": ".py",
   "mimetype": "text/x-python",
   "name": "python",
   "nbconvert_exporter": "python",
   "pygments_lexer": "ipython3",
   "version": "3.10.6"
  }
 },
 "nbformat": 4,
 "nbformat_minor": 5
}
